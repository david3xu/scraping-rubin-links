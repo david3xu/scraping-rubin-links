{
 "cells": [
  {
   "cell_type": "code",
   "execution_count": 5,
   "metadata": {},
   "outputs": [],
   "source": [
    "# %pip install requests"
   ]
  },
  {
   "cell_type": "code",
   "execution_count": 6,
   "metadata": {},
   "outputs": [],
   "source": [
    "# import requests\n",
    "\n",
    "# def jinaai_readapi_web_scrap_url(url):\n",
    "#     response = requests.get(\"https://www.jina.ai\" + url)\n",
    "#     return response.text"
   ]
  },
  {
   "cell_type": "code",
   "execution_count": 7,
   "metadata": {},
   "outputs": [],
   "source": [
    "# url = \"https://dp0-2.lsst.io/\"\n",
    "# data = jinaai_readapi_web_scrap_url(url=url)\n"
   ]
  },
  {
   "cell_type": "code",
   "execution_count": 8,
   "metadata": {},
   "outputs": [],
   "source": [
    "# print(data)"
   ]
  },
  {
   "cell_type": "code",
   "execution_count": 10,
   "metadata": {},
   "outputs": [],
   "source": [
    "# %pip install pymupdf"
   ]
  },
  {
   "cell_type": "code",
   "execution_count": 11,
   "metadata": {},
   "outputs": [
    {
     "data": {
      "text/plain": [
       "'/home/david/Desktop/scraping-rubin-links'"
      ]
     },
     "execution_count": 11,
     "metadata": {},
     "output_type": "execute_result"
    }
   ],
   "source": [
    "%pwd"
   ]
  },
  {
   "cell_type": "code",
   "execution_count": 13,
   "metadata": {},
   "outputs": [
    {
     "name": "stdout",
     "output_type": "stream",
     "text": [
      "Markdown file created at: /home/david/Desktop/scraping-rubin-links/pdfs/sebesta.md\n"
     ]
    }
   ],
   "source": [
    "import fitz  # PyMuPDF\n",
    "import os\n",
    "\n",
    "def convert_pdf_to_markdown(pdf_path, output_md_path):\n",
    "    # Open the PDF file\n",
    "    pdf_document = fitz.open(pdf_path)\n",
    "    \n",
    "    # Initialize a list to hold the text\n",
    "    markdown_lines = []\n",
    "    \n",
    "    # Iterate through each page\n",
    "    for page_num in range(len(pdf_document)):\n",
    "        page = pdf_document.load_page(page_num)\n",
    "        text = page.get_text(\"text\")\n",
    "        \n",
    "        # Split the text into lines and add to the list\n",
    "        lines = text.split('\\n')\n",
    "        markdown_lines.extend(lines)\n",
    "        markdown_lines.append('\\n\\n')  # Add spacing between pages\n",
    "    \n",
    "    # Join the lines into a single string\n",
    "    markdown_content = '\\n'.join(markdown_lines)\n",
    "    \n",
    "    # Write the Markdown content to the output file\n",
    "    with open(output_md_path, 'w', encoding='utf-8') as md_file:\n",
    "        md_file.write(markdown_content)\n",
    "    \n",
    "    print(f\"Markdown file created at: {output_md_path}\")\n",
    "\n",
    "# Example usage\n",
    "pdf_path = '/home/david/Desktop/scraping-rubin-links/pdfs/sebesta.pdf'\n",
    "output_md_path = '/home/david/Desktop/scraping-rubin-links/pdfs/sebesta.md'\n",
    "convert_pdf_to_markdown(pdf_path, output_md_path)"
   ]
  },
  {
   "cell_type": "code",
   "execution_count": 1,
   "metadata": {},
   "outputs": [
    {
     "name": "stdout",
     "output_type": "stream",
     "text": [
      "MDX file created at: /home/david/Desktop/scraping-rubin-links/pdfs/sebesta.mdx\n"
     ]
    }
   ],
   "source": [
    "import os\n",
    "\n",
    "def convert_md_to_mdx(md_path, output_mdx_path):\n",
    "    # Read the Markdown content\n",
    "    with open(md_path, 'r', encoding='utf-8') as md_file:\n",
    "        markdown_content = md_file.read()\n",
    "    \n",
    "    # Optionally, modify the content if needed\n",
    "    # For example, you can add some JSX components\n",
    "    # markdown_content += '\\n<MyComponent />\\n'\n",
    "    \n",
    "    # Write the content to the new MDX file\n",
    "    with open(output_mdx_path, 'w', encoding='utf-8') as mdx_file:\n",
    "        mdx_file.write(markdown_content)\n",
    "    \n",
    "    print(f\"MDX file created at: {output_mdx_path}\")\n",
    "\n",
    "# Example usage\n",
    "md_path = '/home/david/Desktop/scraping-rubin-links/pdfs/sebesta.md'\n",
    "output_mdx_path = '/home/david/Desktop/scraping-rubin-links/pdfs/sebesta.mdx'\n",
    "convert_md_to_mdx(md_path, output_mdx_path)"
   ]
  },
  {
   "cell_type": "code",
   "execution_count": null,
   "metadata": {},
   "outputs": [],
   "source": []
  },
  {
   "cell_type": "code",
   "execution_count": null,
   "metadata": {},
   "outputs": [],
   "source": []
  },
  {
   "cell_type": "code",
   "execution_count": null,
   "metadata": {},
   "outputs": [],
   "source": []
  },
  {
   "cell_type": "code",
   "execution_count": null,
   "metadata": {},
   "outputs": [],
   "source": []
  },
  {
   "cell_type": "code",
   "execution_count": null,
   "metadata": {},
   "outputs": [],
   "source": []
  },
  {
   "cell_type": "code",
   "execution_count": null,
   "metadata": {},
   "outputs": [],
   "source": []
  },
  {
   "cell_type": "code",
   "execution_count": null,
   "metadata": {},
   "outputs": [],
   "source": []
  },
  {
   "cell_type": "code",
   "execution_count": null,
   "metadata": {},
   "outputs": [],
   "source": []
  },
  {
   "cell_type": "code",
   "execution_count": null,
   "metadata": {},
   "outputs": [],
   "source": []
  }
 ],
 "metadata": {
  "kernelspec": {
   "display_name": "Python 3",
   "language": "python",
   "name": "python3"
  },
  "language_info": {
   "codemirror_mode": {
    "name": "ipython",
    "version": 3
   },
   "file_extension": ".py",
   "mimetype": "text/x-python",
   "name": "python",
   "nbconvert_exporter": "python",
   "pygments_lexer": "ipython3",
   "version": "3.11.0"
  }
 },
 "nbformat": 4,
 "nbformat_minor": 2
}
