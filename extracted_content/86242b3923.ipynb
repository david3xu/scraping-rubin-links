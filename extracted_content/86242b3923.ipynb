





<!DOCTYPE html>
<html
  lang="en"
  
  data-color-mode="auto" data-light-theme="light" data-dark-theme="dark"
  data-a11y-animated-images="system" data-a11y-link-underlines="true"
  >



  <head>
    <meta charset="utf-8">
  <link rel="dns-prefetch" href="https://github.githubassets.com">
  <link rel="dns-prefetch" href="https://avatars.githubusercontent.com">
  <link rel="dns-prefetch" href="https://github-cloud.s3.amazonaws.com">
  <link rel="dns-prefetch" href="https://user-images.githubusercontent.com/">
  <link rel="preconnect" href="https://github.githubassets.com" crossorigin>
  <link rel="preconnect" href="https://avatars.githubusercontent.com">

  


  <link crossorigin="anonymous" media="all" rel="stylesheet" href="https://github.githubassets.com/assets/light-efd2f2257c96.css" /><link crossorigin="anonymous" media="all" rel="stylesheet" href="https://github.githubassets.com/assets/dark-6b1e37da2254.css" /><link data-color-theme="dark_dimmed" crossorigin="anonymous" media="all" rel="stylesheet" data-href="https://github.githubassets.com/assets/dark_dimmed-aa16bfa90fb8.css" /><link data-color-theme="dark_high_contrast" crossorigin="anonymous" media="all" rel="stylesheet" data-href="https://github.githubassets.com/assets/dark_high_contrast-f4daad25d8cf.css" /><link data-color-theme="dark_colorblind" crossorigin="anonymous" media="all" rel="stylesheet" data-href="https://github.githubassets.com/assets/dark_colorblind-a4629b2e906b.css" /><link data-color-theme="light_colorblind" crossorigin="anonymous" media="all" rel="stylesheet" data-href="https://github.githubassets.com/assets/light_colorblind-afcc3a6a38dd.css" /><link data-color-theme="light_high_contrast" crossorigin="anonymous" media="all" rel="stylesheet" data-href="https://github.githubassets.com/assets/light_high_contrast-79bca7145393.css" /><link data-color-theme="light_tritanopia" crossorigin="anonymous" media="all" rel="stylesheet" data-href="https://github.githubassets.com/assets/light_tritanopia-fe4137b54b26.css" /><link data-color-theme="dark_tritanopia" crossorigin="anonymous" media="all" rel="stylesheet" data-href="https://github.githubassets.com/assets/dark_tritanopia-1911f0cf0db4.css" />
    <link crossorigin="anonymous" media="all" rel="stylesheet" href="https://github.githubassets.com/assets/primer-primitives-8500c2c7ce5f.css" />
    <link crossorigin="anonymous" media="all" rel="stylesheet" href="https://github.githubassets.com/assets/primer-bbda46ca867f.css" />
    <link crossorigin="anonymous" media="all" rel="stylesheet" href="https://github.githubassets.com/assets/global-fe6db6dfddd1.css" />
    <link crossorigin="anonymous" media="all" rel="stylesheet" href="https://github.githubassets.com/assets/github-cf4e90581e80.css" />
  <link crossorigin="anonymous" media="all" rel="stylesheet" href="https://github.githubassets.com/assets/repository-992e95451f25.css" />
<link crossorigin="anonymous" media="all" rel="stylesheet" href="https://github.githubassets.com/assets/code-34406d39e629.css" />

  


  <script type="application/json" id="client-env">{"locale":"en","featureFlags":["code_vulnerability_scanning","copilot_beta_features_opt_in","copilot_chat_static_thread_suggestions","copilot_completion_new_domain","copilot_conversational_ux_history_refs","copilot_followup_to_agent","copilot_implicit_context","copilot_smell_icebreaker_ux","custom_inp","experimentation_azure_variant_endpoint","failbot_handle_non_errors","geojson_azure_maps","ghas_copilot_agents_ga_web_updates","ghost_pilot_confidence_scores","ghost_pilot_feedback","ghost_pilot_rai_safety_clause","ghost_pilot_screen_reader","ghost_pilot_stream_handling","hovercard_accessibility","hovercard_longer_activate_timeout","marketing_pages_search_explore_provider","remove_child_patch","sample_network_conn_type","site_metered_billing_update","ignore_hidden_in_quote_reply"]}</script>
<script crossorigin="anonymous" defer="defer" type="application/javascript" src="https://github.githubassets.com/assets/wp-runtime-b2dffb6f39e4.js"></script>
<script crossorigin="anonymous" defer="defer" type="application/javascript" src="https://github.githubassets.com/assets/vendors-node_modules_dompurify_dist_purify_js-89a69c248502.js"></script>
<script crossorigin="anonymous" defer="defer" type="application/javascript" src="https://github.githubassets.com/assets/vendors-node_modules_oddbird_popover-polyfill_dist_popover_js-56729c905fe2.js"></script>
<script crossorigin="anonymous" defer="defer" type="application/javascript" src="https://github.githubassets.com/assets/vendors-node_modules_github_mini-throttle_dist_index_js-node_modules_smoothscroll-polyfill_di-75db2e-686488490524.js"></script>
<script crossorigin="anonymous" defer="defer" type="application/javascript" src="https://github.githubassets.com/assets/environment-cd098098ff2e.js"></script>
<script crossorigin="anonymous" defer="defer" type="application/javascript" src="https://github.githubassets.com/assets/vendors-node_modules_github_selector-observer_dist_index_esm_js-f690fd9ae3d5.js"></script>
<script crossorigin="anonymous" defer="defer" type="application/javascript" src="https://github.githubassets.com/assets/vendors-node_modules_primer_behaviors_dist_esm_focus-zone_js-c9086a4fb62b.js"></script>
<script crossorigin="anonymous" defer="defer" type="application/javascript" src="https://github.githubassets.com/assets/vendors-node_modules_github_relative-time-element_dist_index_js-f9b958f5f2df.js"></script>
<script crossorigin="anonymous" defer="defer" type="application/javascript" src="https://github.githubassets.com/assets/vendors-node_modules_primer_behaviors_dist_esm_anchored-position_js-node_modules_fzy_js_index-05960a-797b1227c4b8.js"></script>
<script crossorigin="anonymous" defer="defer" type="application/javascript" src="https://github.githubassets.com/assets/vendors-node_modules_github_auto-complete-element_dist_index_js-node_modules_github_details-d-ed9a97-841122a1e9d4.js"></script>
<script crossorigin="anonymous" defer="defer" type="application/javascript" src="https://github.githubassets.com/assets/vendors-node_modules_github_text-expander-element_dist_index_js-cd48220d74d5.js"></script>
<script crossorigin="anonymous" defer="defer" type="application/javascript" src="https://github.githubassets.com/assets/vendors-node_modules_github_mini-throttle_dist_index_js-node_modules_delegated-events_dist_in-3efda3-701acb69193f.js"></script>
<script crossorigin="anonymous" defer="defer" type="application/javascript" src="https://github.githubassets.com/assets/vendors-node_modules_github_filter-input-element_dist_index_js-node_modules_github_remote-inp-2e8678-34feeec9c894.js"></script>
<script crossorigin="anonymous" defer="defer" type="application/javascript" src="https://github.githubassets.com/assets/vendors-node_modules_github_catalyst_lib_index_js-node_modules_github_clipboard-copy-element_-782ca5-54763cd55b96.js"></script>
<script crossorigin="anonymous" defer="defer" type="application/javascript" src="https://github.githubassets.com/assets/vendors-node_modules_github_file-attachment-element_dist_index_js-node_modules_primer_view-co-3959a9-5779869d7165.js"></script>
<script crossorigin="anonymous" defer="defer" type="application/javascript" src="https://github.githubassets.com/assets/app_assets_modules_github_onfocus_ts-ui_packages_trusted-types-policies_policy_ts-ui_packages-6fe316-9d50d6f10c3d.js"></script>
<script crossorigin="anonymous" defer="defer" type="application/javascript" src="https://github.githubassets.com/assets/github-elements-074e91131d8f.js"></script>
<script crossorigin="anonymous" defer="defer" type="application/javascript" src="https://github.githubassets.com/assets/element-registry-207a3f1b3875.js"></script>
<script crossorigin="anonymous" defer="defer" type="application/javascript" src="https://github.githubassets.com/assets/vendors-node_modules_github_catalyst_lib_index_js-node_modules_github_hydro-analytics-client_-7901e7-dc88587c14ed.js"></script>
<script crossorigin="anonymous" defer="defer" type="application/javascript" src="https://github.githubassets.com/assets/vendors-node_modules_braintree_browser-detection_dist_browser-detection_js-node_modules_stack-68835d-a18220f1db8d.js"></script>
<script crossorigin="anonymous" defer="defer" type="application/javascript" src="https://github.githubassets.com/assets/vendors-node_modules_lit-html_lit-html_js-ce7225a304c5.js"></script>
<script crossorigin="anonymous" defer="defer" type="application/javascript" src="https://github.githubassets.com/assets/vendors-node_modules_github_mini-throttle_dist_index_js-node_modules_morphdom_dist_morphdom-e-7c534c-f8a5485c982a.js"></script>
<script crossorigin="anonymous" defer="defer" type="application/javascript" src="https://github.githubassets.com/assets/vendors-node_modules_github_turbo_dist_turbo_es2017-esm_js-858e043fcf76.js"></script>
<script crossorigin="anonymous" defer="defer" type="application/javascript" src="https://github.githubassets.com/assets/vendors-node_modules_github_remote-form_dist_index_js-node_modules_delegated-events_dist_inde-893f9f-6cf3320416b8.js"></script>
<script crossorigin="anonymous" defer="defer" type="application/javascript" src="https://github.githubassets.com/assets/vendors-node_modules_scroll-anchoring_dist_scroll-anchoring_esm_js-node_modules_github_hotkey-1a1d91-fa9f29a8514b.js"></script>
<script crossorigin="anonymous" defer="defer" type="application/javascript" src="https://github.githubassets.com/assets/vendors-node_modules_color-convert_index_js-0e07cc183eed.js"></script>
<script crossorigin="anonymous" defer="defer" type="application/javascript" src="https://github.githubassets.com/assets/vendors-node_modules_github_session-resume_dist_index_js-node_modules_primer_behaviors_dist_e-ac74c6-5e03381c44b5.js"></script>
<script crossorigin="anonymous" defer="defer" type="application/javascript" src="https://github.githubassets.com/assets/vendors-node_modules_primer_behaviors_dist_esm_dimensions_js-node_modules_github_jtml_lib_index_js-53b423ede32a.js"></script>
<script crossorigin="anonymous" defer="defer" type="application/javascript" src="https://github.githubassets.com/assets/vendors-node_modules_github_quote-selection_dist_index_js-node_modules_github_textarea-autosi-9e0349-ab4976fc78a6.js"></script>
<script crossorigin="anonymous" defer="defer" type="application/javascript" src="https://github.githubassets.com/assets/ui_packages_updatable-content_updatable-content_ts-e15463ecf7e6.js"></script>
<script crossorigin="anonymous" defer="defer" type="application/javascript" src="https://github.githubassets.com/assets/app_assets_modules_github_behaviors_task-list_ts-app_assets_modules_github_onfocus_ts-app_ass-421cec-f0e1d31bff9a.js"></script>
<script crossorigin="anonymous" defer="defer" type="application/javascript" src="https://github.githubassets.com/assets/app_assets_modules_github_sticky-scroll-into-view_ts-112600808cf9.js"></script>
<script crossorigin="anonymous" defer="defer" type="application/javascript" src="https://github.githubassets.com/assets/app_assets_modules_github_behaviors_ajax-error_ts-app_assets_modules_github_behaviors_include-467754-8b1a4442f9b3.js"></script>
<script crossorigin="anonymous" defer="defer" type="application/javascript" src="https://github.githubassets.com/assets/app_assets_modules_github_behaviors_commenting_edit_ts-app_assets_modules_github_behaviors_ht-83c235-4accd4baf37d.js"></script>
<script crossorigin="anonymous" defer="defer" type="application/javascript" src="https://github.githubassets.com/assets/app_assets_modules_github_blob-anchor_ts-app_assets_modules_github_filter-sort_ts-app_assets_-6deafe-fc95155e233a.js"></script>
<script crossorigin="anonymous" defer="defer" type="application/javascript" src="https://github.githubassets.com/assets/behaviors-3b4c83250375.js"></script>
<script crossorigin="anonymous" defer="defer" type="application/javascript" src="https://github.githubassets.com/assets/vendors-node_modules_delegated-events_dist_index_js-node_modules_github_catalyst_lib_index_js-06ff531-bf7e5a3732fd.js"></script>
<script crossorigin="anonymous" defer="defer" type="application/javascript" src="https://github.githubassets.com/assets/notifications-global-3ddac678adaf.js"></script>
<script crossorigin="anonymous" defer="defer" type="application/javascript" src="https://github.githubassets.com/assets/vendors-node_modules_github_mini-throttle_dist_index_js-node_modules_github_catalyst_lib_inde-dbbea9-e73b311a14f1.js"></script>
<script crossorigin="anonymous" defer="defer" type="application/javascript" src="https://github.githubassets.com/assets/app_assets_modules_github_repositories_get-repo-element_ts-4fc152f40452.js"></script>
<script crossorigin="anonymous" defer="defer" type="application/javascript" src="https://github.githubassets.com/assets/code-menu-a8d08997ac4f.js"></script>
  
  <script crossorigin="anonymous" defer="defer" type="application/javascript" src="https://github.githubassets.com/assets/react-lib-7b7b5264f6c1.js"></script>
<script crossorigin="anonymous" defer="defer" type="application/javascript" src="https://github.githubassets.com/assets/vendors-node_modules_github_mini-throttle_dist_index_js-node_modules_primer_octicons-react_di-b40d97-06881c63f955.js"></script>
<script crossorigin="anonymous" defer="defer" type="application/javascript" src="https://github.githubassets.com/assets/vendors-node_modules_primer_react_lib-esm_Box_Box_js-55a9038b54f0.js"></script>
<script crossorigin="anonymous" defer="defer" type="application/javascript" src="https://github.githubassets.com/assets/vendors-node_modules_primer_react_lib-esm_Button_Button_js-b0edbfb6a9e5.js"></script>
<script crossorigin="anonymous" defer="defer" type="application/javascript" src="https://github.githubassets.com/assets/vendors-node_modules_primer_react_lib-esm_TooltipV2_Tooltip_js-4d5019830e3c.js"></script>
<script crossorigin="anonymous" defer="defer" type="application/javascript" src="https://github.githubassets.com/assets/vendors-node_modules_clsx_dist_clsx_m_js-node_modules_primer_react_node_modules_primer_octico-c56103-e91295e60abd.js"></script>
<script crossorigin="anonymous" defer="defer" type="application/javascript" src="https://github.githubassets.com/assets/vendors-node_modules_primer_react_lib-esm_ActionList_index_js-f646728c385c.js"></script>
<script crossorigin="anonymous" defer="defer" type="application/javascript" src="https://github.githubassets.com/assets/vendors-node_modules_primer_react_lib-esm_ActionMenu_ActionMenu_js-node_modules_primer_react_-5b2420-048f91dcedb3.js"></script>
<script crossorigin="anonymous" defer="defer" type="application/javascript" src="https://github.githubassets.com/assets/vendors-node_modules_primer_react_lib-esm_Text_Text_js-node_modules_primer_react_lib-esm_Text-7845da-adcc76ee8848.js"></script>
<script crossorigin="anonymous" defer="defer" type="application/javascript" src="https://github.githubassets.com/assets/vendors-node_modules_primer_react_lib-esm_FormControl_FormControl_js-1f51ab2bdcca.js"></script>
<script crossorigin="anonymous" defer="defer" type="application/javascript" src="https://github.githubassets.com/assets/vendors-node_modules_react-router-dom_dist_index_js-c5568c29d405.js"></script>
<script crossorigin="anonymous" defer="defer" type="application/javascript" src="https://github.githubassets.com/assets/vendors-node_modules_primer_react_lib-esm_ConfirmationDialog_ConfirmationDialog_js-099e8bfead83.js"></script>
<script crossorigin="anonymous" defer="defer" type="application/javascript" src="https://github.githubassets.com/assets/vendors-node_modules_primer_react_lib-esm_Heading_Heading_js-node_modules_primer_react_lib-es-96435f-69dda7b301fe.js"></script>
<script crossorigin="anonymous" defer="defer" type="application/javascript" src="https://github.githubassets.com/assets/vendors-node_modules_primer_react_lib-esm_TreeView_TreeView_js-163f241772cf.js"></script>
<script crossorigin="anonymous" defer="defer" type="application/javascript" src="https://github.githubassets.com/assets/vendors-node_modules_primer_behaviors_dist_esm_anchored-position_js-node_modules_primer_react-4d507b-85f1dac4ce7d.js"></script>
<script crossorigin="anonymous" defer="defer" type="application/javascript" src="https://github.githubassets.com/assets/vendors-node_modules_primer_react_lib-esm_AvatarStack_AvatarStack_js-node_modules_primer_reac-cd52f5-34ef2ba7726b.js"></script>
<script crossorigin="anonymous" defer="defer" type="application/javascript" src="https://github.githubassets.com/assets/vendors-node_modules_primer_behaviors_dist_esm_scroll-into-view_js-node_modules_primer_react_-3602e6-08dffc43caa6.js"></script>
<script crossorigin="anonymous" defer="defer" type="application/javascript" src="https://github.githubassets.com/assets/ui_packages_react-core_create-browser-history_ts-ui_packages_safe-storage_safe-storage_ts-ui_-682c2c-7a1e99981675.js"></script>
<script crossorigin="anonymous" defer="defer" type="application/javascript" src="https://github.githubassets.com/assets/ui_packages_react-core_register-app_ts-d92f692cd90a.js"></script>
<script crossorigin="anonymous" defer="defer" type="application/javascript" src="https://github.githubassets.com/assets/ui_packages_paths_index_ts-9eb3412d85a7.js"></script>
<script crossorigin="anonymous" defer="defer" type="application/javascript" src="https://github.githubassets.com/assets/ui_packages_ref-selector_RefSelector_tsx-7b0796d1324c.js"></script>
<script crossorigin="anonymous" defer="defer" type="application/javascript" src="https://github.githubassets.com/assets/ui_packages_commit-attribution_index_ts-ui_packages_commit-checks-status_index_ts-ui_packages-f45efb-a5bb4a693481.js"></script>
<script crossorigin="anonymous" defer="defer" type="application/javascript" src="https://github.githubassets.com/assets/ui_packages_copy-to-clipboard_index_ts-ui_packages_react-core_use-feature-flag_ts-ui_packages-9fa6b6-6e8c63eb2d15.js"></script>
<script crossorigin="anonymous" defer="defer" type="application/javascript" src="https://github.githubassets.com/assets/ui_packages_code-view-shared_hooks_use-canonical-object_ts-ui_packages_code-view-shared_hooks-9a3d65-c2af6875bd6f.js"></script>
<script crossorigin="anonymous" defer="defer" type="application/javascript" src="https://github.githubassets.com/assets/ui_packages_repos-file-tree-view_repos-file-tree-view_ts-ui_packages_feature-request_FeatureR-ec5225-9dd7225109c4.js"></script>
<script crossorigin="anonymous" defer="defer" type="application/javascript" src="https://github.githubassets.com/assets/react-code-view-299b1fa0c14c.js"></script>
<link crossorigin="anonymous" media="all" rel="stylesheet" href="https://github.githubassets.com/assets/react-code-view.234ae39ff1fa1232236c.module.css" />

    <script crossorigin="anonymous" defer="defer" type="application/javascript" src="https://github.githubassets.com/assets/react-lib-7b7b5264f6c1.js"></script>
<script crossorigin="anonymous" defer="defer" type="application/javascript" src="https://github.githubassets.com/assets/vendors-node_modules_github_mini-throttle_dist_index_js-node_modules_primer_octicons-react_di-b40d97-06881c63f955.js"></script>
<script crossorigin="anonymous" defer="defer" type="application/javascript" src="https://github.githubassets.com/assets/vendors-node_modules_primer_react_lib-esm_Box_Box_js-55a9038b54f0.js"></script>
<script crossorigin="anonymous" defer="defer" type="application/javascript" src="https://github.githubassets.com/assets/vendors-node_modules_primer_react_lib-esm_Button_Button_js-b0edbfb6a9e5.js"></script>
<script crossorigin="anonymous" defer="defer" type="application/javascript" src="https://github.githubassets.com/assets/vendors-node_modules_primer_react_lib-esm_TooltipV2_Tooltip_js-4d5019830e3c.js"></script>
<script crossorigin="anonymous" defer="defer" type="application/javascript" src="https://github.githubassets.com/assets/vendors-node_modules_clsx_dist_clsx_m_js-node_modules_primer_react_node_modules_primer_octico-c56103-e91295e60abd.js"></script>
<script crossorigin="anonymous" defer="defer" type="application/javascript" src="https://github.githubassets.com/assets/vendors-node_modules_primer_react_lib-esm_ActionList_index_js-f646728c385c.js"></script>
<script crossorigin="anonymous" defer="defer" type="application/javascript" src="https://github.githubassets.com/assets/vendors-node_modules_primer_react_lib-esm_ActionMenu_ActionMenu_js-node_modules_primer_react_-5b2420-048f91dcedb3.js"></script>
<script crossorigin="anonymous" defer="defer" type="application/javascript" src="https://github.githubassets.com/assets/vendors-node_modules_primer_react_lib-esm_Text_Text_js-node_modules_primer_react_lib-esm_Text-7845da-adcc76ee8848.js"></script>
<script crossorigin="anonymous" defer="defer" type="application/javascript" src="https://github.githubassets.com/assets/vendors-node_modules_primer_react_lib-esm_FormControl_FormControl_js-1f51ab2bdcca.js"></script>
<script crossorigin="anonymous" defer="defer" type="application/javascript" src="https://github.githubassets.com/assets/vendors-node_modules_primer_react_lib-esm_FilteredActionList_FilteredActionList_js-5a52bf212e2b.js"></script>
<script crossorigin="anonymous" defer="defer" type="application/javascript" src="https://github.githubassets.com/assets/vendors-node_modules_primer_react_lib-esm_Dialog_js-node_modules_primer_react_lib-esm_Feature-cdf735-892e8f58058f.js"></script>
<script crossorigin="anonymous" defer="defer" type="application/javascript" src="https://github.githubassets.com/assets/ui_packages_react-core_create-browser-history_ts-ui_packages_safe-storage_safe-storage_ts-ui_-682c2c-7a1e99981675.js"></script>
<script crossorigin="anonymous" defer="defer" type="application/javascript" src="https://github.githubassets.com/assets/notifications-subscriptions-menu-be1efa498152.js"></script>
<link crossorigin="anonymous" media="all" rel="stylesheet" href="https://github.githubassets.com/assets/notifications-subscriptions-menu.572fff1cb5c3caef1ac9.module.css" />


  <title>tutorial-notebooks/DP03_01_Introduccion_a_DP03_ES.ipynb at 9182688346c2e65f98aa77d51d1dbcccc604c410 · rubin-dp0/tutorial-notebooks · GitHub</title>



  <meta name="route-pattern" content="/:user_id/:repository/blob/*name(/*path)" data-turbo-transient>
  <meta name="route-controller" content="blob" data-turbo-transient>
  <meta name="route-action" content="show" data-turbo-transient>

    
  <meta name="current-catalog-service-hash" content="f3abb0cc802f3d7b95fc8762b94bdcb13bf39634c40c357301c4aa1d67a256fb">


  <meta name="request-id" content="1B86:2B6A1D:19D8578:1D4A487:66C36B61" data-pjax-transient="true"/><meta name="html-safe-nonce" content="a900dd042db8065db4af6a7e2b7b8b9b7e809d2c59d87efffadc06fc2bdc179a" data-pjax-transient="true"/><meta name="visitor-payload" content="eyJyZWZlcnJlciI6IiIsInJlcXVlc3RfaWQiOiIxQjg2OjJCNkExRDoxOUQ4NTc4OjFENEE0ODc6NjZDMzZCNjEiLCJ2aXNpdG9yX2lkIjoiMTUyODUyNjI0MDQzMTE3MjQ0OSIsInJlZ2lvbl9lZGdlIjoiYWUtMDEiLCJyZWdpb25fcmVuZGVyIjoiYXVzdHJhbGlhZWFzdCJ9" data-pjax-transient="true"/><meta name="visitor-hmac" content="a105eed7b6a1bf8223c9ee4ab6c5162aaea9ae9872f698d7150f70803176806e" data-pjax-transient="true"/>


    <meta name="hovercard-subject-tag" content="repository:369330175" data-turbo-transient>


  <meta name="github-keyboard-shortcuts" content="repository,source-code,file-tree,copilot" data-turbo-transient="true" />
  

  <meta name="selected-link" value="repo_source" data-turbo-transient>
  <link rel="assets" href="https://github.githubassets.com/">

    <meta name="google-site-verification" content="Apib7-x98H0j5cPqHWwSMm6dNU4GmODRoqxLiDzdx9I">

<meta name="octolytics-url" content="https://collector.github.com/github/collect" />

  <meta name="analytics-location" content="/&lt;user-name&gt;/&lt;repo-name&gt;/blob/show" data-turbo-transient="true" />

  




    <meta name="user-login" content="">

  

    <meta name="viewport" content="width=device-width">

    

      <meta name="description" content="Tutorial Jupyter Notebooks for Data Preview 0, created and maintained by the Rubin Observatory Community Science Team. - tutorial-notebooks/DP03_01_Introduccion_a_DP03_ES.ipynb at 9182688346c2e65f98aa77d51d1dbcccc604c410 · rubin-dp0/tutorial-notebooks">

      <link rel="search" type="application/opensearchdescription+xml" href="/opensearch.xml" title="GitHub">

    <link rel="fluid-icon" href="https://github.com/fluidicon.png" title="GitHub">
    <meta property="fb:app_id" content="1401488693436528">
    <meta name="apple-itunes-app" content="app-id=1477376905, app-argument=https://github.com/rubin-dp0/tutorial-notebooks/blob/9182688346c2e65f98aa77d51d1dbcccc604c410/DP03_01_Introduccion_a_DP03_ES.ipynb" />

      <meta name="twitter:image:src" content="https://opengraph.githubassets.com/e6cdcdc39401f3288faa6b33c0ffdd6635ada8dbb56933f731861d90b0ad08f4/rubin-dp0/tutorial-notebooks" /><meta name="twitter:site" content="@github" /><meta name="twitter:card" content="summary_large_image" /><meta name="twitter:title" content="tutorial-notebooks/DP03_01_Introduccion_a_DP03_ES.ipynb at 9182688346c2e65f98aa77d51d1dbcccc604c410 · rubin-dp0/tutorial-notebooks" /><meta name="twitter:description" content="Tutorial Jupyter Notebooks for Data Preview 0, created and maintained by the Rubin Observatory Community Science Team. - rubin-dp0/tutorial-notebooks" />
  <meta property="og:image" content="https://opengraph.githubassets.com/e6cdcdc39401f3288faa6b33c0ffdd6635ada8dbb56933f731861d90b0ad08f4/rubin-dp0/tutorial-notebooks" /><meta property="og:image:alt" content="Tutorial Jupyter Notebooks for Data Preview 0, created and maintained by the Rubin Observatory Community Science Team. - rubin-dp0/tutorial-notebooks" /><meta property="og:image:width" content="1200" /><meta property="og:image:height" content="600" /><meta property="og:site_name" content="GitHub" /><meta property="og:type" content="object" /><meta property="og:title" content="tutorial-notebooks/DP03_01_Introduccion_a_DP03_ES.ipynb at 9182688346c2e65f98aa77d51d1dbcccc604c410 · rubin-dp0/tutorial-notebooks" /><meta property="og:url" content="https://github.com/rubin-dp0/tutorial-notebooks/blob/9182688346c2e65f98aa77d51d1dbcccc604c410/DP03_01_Introduccion_a_DP03_ES.ipynb" /><meta property="og:description" content="Tutorial Jupyter Notebooks for Data Preview 0, created and maintained by the Rubin Observatory Community Science Team. - rubin-dp0/tutorial-notebooks" />
  




      <meta name="hostname" content="github.com">



        <meta name="expected-hostname" content="github.com">


  <meta http-equiv="x-pjax-version" content="f1f0a3331962893e5aca2b5050384501459ad0f84ab91edef81dadd5edf14732" data-turbo-track="reload">
  <meta http-equiv="x-pjax-csp-version" content="43bc2a0e2750a1219c17b5bf1ec22aae37041bbc018bc5e27bb7708f80e7ab88" data-turbo-track="reload">
  <meta http-equiv="x-pjax-css-version" content="7f3a6fa631adee55b20691ccc8267f762130f641fe9a0d5ba41c45f484f2eb18" data-turbo-track="reload">
  <meta http-equiv="x-pjax-js-version" content="a0007f502b04e99a5cee2933b2fbdb00e3eb9cdcfc9213d866622bfd8c4fcbcc" data-turbo-track="reload">

  <meta name="turbo-cache-control" content="no-preview" data-turbo-transient="">

      <meta name="turbo-cache-control" content="no-cache" data-turbo-transient>
    <meta data-hydrostats="publish">
  <meta name="go-import" content="github.com/rubin-dp0/tutorial-notebooks git https://github.com/rubin-dp0/tutorial-notebooks.git">

  <meta name="octolytics-dimension-user_id" content="84341567" /><meta name="octolytics-dimension-user_login" content="rubin-dp0" /><meta name="octolytics-dimension-repository_id" content="369330175" /><meta name="octolytics-dimension-repository_nwo" content="rubin-dp0/tutorial-notebooks" /><meta name="octolytics-dimension-repository_public" content="true" /><meta name="octolytics-dimension-repository_is_fork" content="false" /><meta name="octolytics-dimension-repository_network_root_id" content="369330175" /><meta name="octolytics-dimension-repository_network_root_nwo" content="rubin-dp0/tutorial-notebooks" />



    

    <meta name="turbo-body-classes" content="logged-out env-production page-responsive">


  <meta name="browser-stats-url" content="https://api.github.com/_private/browser/stats">

  <meta name="browser-errors-url" content="https://api.github.com/_private/browser/errors">

  <link rel="mask-icon" href="https://github.githubassets.com/assets/pinned-octocat-093da3e6fa40.svg" color="#000000">
  <link rel="alternate icon" class="js-site-favicon" type="image/png" href="https://github.githubassets.com/favicons/favicon.png">
  <link rel="icon" class="js-site-favicon" type="image/svg+xml" href="https://github.githubassets.com/favicons/favicon.svg">

<meta name="theme-color" content="#1e2327">
<meta name="color-scheme" content="light dark" />


  <link rel="manifest" href="/manifest.json" crossOrigin="use-credentials">

  </head>

  <body class="logged-out env-production page-responsive" style="word-wrap: break-word;">
    <div data-turbo-body class="logged-out env-production page-responsive" style="word-wrap: break-word;">
      


    <div class="position-relative js-header-wrapper ">
      <a href="#start-of-content" data-skip-target-assigned="false" class="px-2 py-4 color-bg-accent-emphasis color-fg-on-emphasis show-on-focus js-skip-to-content">Skip to content</a>

      <span data-view-component="true" class="progress-pjax-loader Progress position-fixed width-full">
    <span style="width: 0%;" data-view-component="true" class="Progress-item progress-pjax-loader-bar left-0 top-0 color-bg-accent-emphasis"></span>
</span>      
      
      <script crossorigin="anonymous" defer="defer" type="application/javascript" src="https://github.githubassets.com/assets/vendors-node_modules_primer_react_lib-esm_Dialog_Dialog_js-node_modules_primer_react_lib-esm_-bd7638-683c833a31df.js"></script>
<script crossorigin="anonymous" defer="defer" type="application/javascript" src="https://github.githubassets.com/assets/keyboard-shortcuts-dialog-15a4cf222dbb.js"></script>

<react-partial
  partial-name="keyboard-shortcuts-dialog"
  data-ssr="false"
>
  
  <script type="application/json" data-target="react-partial.embeddedData">{"props":{"docsUrl":"https://docs.github.com/get-started/accessibility/keyboard-shortcuts"}}</script>
  <div data-target="react-partial.reactRoot"></div>
</react-partial>




      

          

              
<script crossorigin="anonymous" defer="defer" type="application/javascript" src="https://github.githubassets.com/assets/vendors-node_modules_github_remote-form_dist_index_js-node_modules_delegated-events_dist_inde-94fd67-9a621ecbf672.js"></script>
<script crossorigin="anonymous" defer="defer" type="application/javascript" src="https://github.githubassets.com/assets/sessions-b81e688feb0f.js"></script>
<header class="HeaderMktg header-logged-out js-details-container js-header Details position-relative f4 py-3" role="banner" data-color-mode=light data-light-theme=light data-dark-theme=dark>
  <h2 class="sr-only">Navigation Menu</h2>

  <button type="button" class="HeaderMktg-backdrop d-lg-none border-0 position-fixed top-0 left-0 width-full height-full js-details-target" aria-label="Toggle navigation">
    <span class="d-none">Toggle navigation</span>
  </button>

  <div class="d-flex flex-column flex-lg-row flex-items-center px-3 px-md-4 px-lg-5 height-full position-relative z-1">
    <div class="d-flex flex-justify-between flex-items-center width-full width-lg-auto">
      <div class="flex-1">
        <button aria-label="Toggle navigation" aria-expanded="false" type="button" data-view-component="true" class="js-details-target js-nav-padding-recalculate js-header-menu-toggle Button--link Button--medium Button d-lg-none color-fg-inherit p-1">  <span class="Button-content">
    <span class="Button-label"><div class="HeaderMenu-toggle-bar rounded my-1"></div>
            <div class="HeaderMenu-toggle-bar rounded my-1"></div>
            <div class="HeaderMenu-toggle-bar rounded my-1"></div></span>
  </span>
</button>
      </div>

      <a class="mr-lg-3 color-fg-inherit flex-order-2 js-prevent-focus-on-mobile-nav"
        href="/"
        aria-label="Homepage"
        data-analytics-event="{&quot;category&quot;:&quot;Marketing nav&quot;,&quot;action&quot;:&quot;click to go to homepage&quot;,&quot;label&quot;:&quot;ref_page:Marketing;ref_cta:Logomark;ref_loc:Header&quot;}">
        <svg height="32" aria-hidden="true" viewBox="0 0 24 24" version="1.1" width="32" data-view-component="true" class="octicon octicon-mark-github">
    <path d="M12.5.75C6.146.75 1 5.896 1 12.25c0 5.089 3.292 9.387 7.863 10.91.575.101.79-.244.79-.546 0-.273-.014-1.178-.014-2.142-2.889.532-3.636-.704-3.866-1.35-.13-.331-.69-1.352-1.18-1.625-.402-.216-.977-.748-.014-.762.906-.014 1.553.834 1.769 1.179 1.035 1.74 2.688 1.25 3.349.948.1-.747.402-1.25.733-1.538-2.559-.287-5.232-1.279-5.232-5.678 0-1.25.445-2.285 1.178-3.09-.115-.288-.517-1.467.115-3.048 0 0 .963-.302 3.163 1.179.92-.259 1.897-.388 2.875-.388.977 0 1.955.13 2.875.388 2.2-1.495 3.162-1.179 3.162-1.179.633 1.581.23 2.76.115 3.048.733.805 1.179 1.825 1.179 3.09 0 4.413-2.688 5.39-5.247 5.678.417.36.776 1.05.776 2.128 0 1.538-.014 2.774-.014 3.162 0 .302.216.662.79.547C20.709 21.637 24 17.324 24 12.25 24 5.896 18.854.75 12.5.75Z"></path>
</svg>
      </a>

      <div class="flex-1 flex-order-2 text-right">
          <a
            href="/login?return_to=https%3A%2F%2Fgithub.com%2Frubin-dp0%2Ftutorial-notebooks%2Fblob%2F9182688346c2e65f98aa77d51d1dbcccc604c410%2FDP03_01_Introduccion_a_DP03_ES.ipynb"
            class="HeaderMenu-link HeaderMenu-button d-inline-flex d-lg-none flex-order-1 f5 no-underline border color-border-default rounded-2 px-2 py-1 color-fg-inherit js-prevent-focus-on-mobile-nav"
            data-hydro-click="{&quot;event_type&quot;:&quot;authentication.click&quot;,&quot;payload&quot;:{&quot;location_in_page&quot;:&quot;site header menu&quot;,&quot;repository_id&quot;:null,&quot;auth_type&quot;:&quot;SIGN_UP&quot;,&quot;originating_url&quot;:&quot;https://github.com/rubin-dp0/tutorial-notebooks/blob/9182688346c2e65f98aa77d51d1dbcccc604c410/DP03_01_Introduccion_a_DP03_ES.ipynb&quot;,&quot;user_id&quot;:null}}" data-hydro-click-hmac="1034c8718f2799d65fe23db6173b744d6f35279f238f32d78546dc22ffdec779"
            data-analytics-event="{&quot;category&quot;:&quot;Marketing nav&quot;,&quot;action&quot;:&quot;click to Sign in&quot;,&quot;label&quot;:&quot;ref_page:Marketing;ref_cta:Sign in;ref_loc:Header&quot;}"
          >
            Sign in
          </a>
      </div>
    </div>


    <div class="HeaderMenu js-header-menu height-fit position-lg-relative d-lg-flex flex-column flex-auto top-0">
      <div class="HeaderMenu-wrapper d-flex flex-column flex-self-start flex-lg-row flex-auto rounded rounded-lg-0">
          <nav class="HeaderMenu-nav" aria-label="Global">
            <ul class="d-lg-flex list-style-none">
                <li class="HeaderMenu-item position-relative flex-wrap flex-justify-between flex-items-center d-block d-lg-flex flex-lg-nowrap flex-lg-items-center js-details-container js-header-menu-item">
      <button type="button" class="HeaderMenu-link border-0 width-full width-lg-auto px-0 px-lg-2 py-lg-2 no-wrap d-flex flex-items-center flex-justify-between js-details-target" aria-expanded="false">
        Product
        <svg opacity="0.5" aria-hidden="true" height="16" viewBox="0 0 16 16" version="1.1" width="16" data-view-component="true" class="octicon octicon-chevron-down HeaderMenu-icon ml-1">
    <path d="M12.78 5.22a.749.749 0 0 1 0 1.06l-4.25 4.25a.749.749 0 0 1-1.06 0L3.22 6.28a.749.749 0 1 1 1.06-1.06L8 8.939l3.72-3.719a.749.749 0 0 1 1.06 0Z"></path>
</svg>
      </button>
      <div class="HeaderMenu-dropdown dropdown-menu rounded m-0 p-0 py-2 py-lg-4 position-relative position-lg-absolute left-0 left-lg-n3 d-lg-flex dropdown-menu-wide">
          <div class="px-lg-4 border-lg-right mb-4 mb-lg-0 pr-lg-7">
            <ul class="list-style-none f5" >
                <li>
  <a class="HeaderMenu-dropdown-link d-block no-underline position-relative py-2 Link--secondary d-flex flex-items-center Link--has-description pb-lg-3" data-analytics-event="{&quot;location&quot;:&quot;navbar&quot;,&quot;action&quot;:&quot;actions&quot;,&quot;context&quot;:&quot;product&quot;,&quot;tag&quot;:&quot;link&quot;,&quot;label&quot;:&quot;actions_link_product_navbar&quot;}" href="https://github.com/features/actions">
      <svg aria-hidden="true" height="24" viewBox="0 0 24 24" version="1.1" width="24" data-view-component="true" class="octicon octicon-workflow color-fg-subtle mr-3">
    <path d="M1 3a2 2 0 0 1 2-2h6.5a2 2 0 0 1 2 2v6.5a2 2 0 0 1-2 2H7v4.063C7 16.355 7.644 17 8.438 17H12.5v-2.5a2 2 0 0 1 2-2H21a2 2 0 0 1 2 2V21a2 2 0 0 1-2 2h-6.5a2 2 0 0 1-2-2v-2.5H8.437A2.939 2.939 0 0 1 5.5 15.562V11.5H3a2 2 0 0 1-2-2Zm2-.5a.5.5 0 0 0-.5.5v6.5a.5.5 0 0 0 .5.5h6.5a.5.5 0 0 0 .5-.5V3a.5.5 0 0 0-.5-.5ZM14.5 14a.5.5 0 0 0-.5.5V21a.5.5 0 0 0 .5.5H21a.5.5 0 0 0 .5-.5v-6.5a.5.5 0 0 0-.5-.5Z"></path>
</svg>
      <div>
        <div class="color-fg-default h4">Actions</div>
        Automate any workflow
      </div>

    
</a></li>

                <li>
  <a class="HeaderMenu-dropdown-link d-block no-underline position-relative py-2 Link--secondary d-flex flex-items-center Link--has-description pb-lg-3" data-analytics-event="{&quot;location&quot;:&quot;navbar&quot;,&quot;action&quot;:&quot;packages&quot;,&quot;context&quot;:&quot;product&quot;,&quot;tag&quot;:&quot;link&quot;,&quot;label&quot;:&quot;packages_link_product_navbar&quot;}" href="https://github.com/features/packages">
      <svg aria-hidden="true" height="24" viewBox="0 0 24 24" version="1.1" width="24" data-view-component="true" class="octicon octicon-package color-fg-subtle mr-3">
    <path d="M12.876.64V.639l8.25 4.763c.541.313.875.89.875 1.515v9.525a1.75 1.75 0 0 1-.875 1.516l-8.25 4.762a1.748 1.748 0 0 1-1.75 0l-8.25-4.763a1.75 1.75 0 0 1-.875-1.515V6.917c0-.625.334-1.202.875-1.515L11.126.64a1.748 1.748 0 0 1 1.75 0Zm-1 1.298L4.251 6.34l7.75 4.474 7.75-4.474-7.625-4.402a.248.248 0 0 0-.25 0Zm.875 19.123 7.625-4.402a.25.25 0 0 0 .125-.216V7.639l-7.75 4.474ZM3.501 7.64v8.803c0 .09.048.172.125.216l7.625 4.402v-8.947Z"></path>
</svg>
      <div>
        <div class="color-fg-default h4">Packages</div>
        Host and manage packages
      </div>

    
</a></li>

                <li>
  <a class="HeaderMenu-dropdown-link d-block no-underline position-relative py-2 Link--secondary d-flex flex-items-center Link--has-description pb-lg-3" data-analytics-event="{&quot;location&quot;:&quot;navbar&quot;,&quot;action&quot;:&quot;security&quot;,&quot;context&quot;:&quot;product&quot;,&quot;tag&quot;:&quot;link&quot;,&quot;label&quot;:&quot;security_link_product_navbar&quot;}" href="https://github.com/features/security">
      <svg aria-hidden="true" height="24" viewBox="0 0 24 24" version="1.1" width="24" data-view-component="true" class="octicon octicon-shield-check color-fg-subtle mr-3">
    <path d="M16.53 9.78a.75.75 0 0 0-1.06-1.06L11 13.19l-1.97-1.97a.75.75 0 0 0-1.06 1.06l2.5 2.5a.75.75 0 0 0 1.06 0l5-5Z"></path><path d="m12.54.637 8.25 2.675A1.75 1.75 0 0 1 22 4.976V10c0 6.19-3.771 10.704-9.401 12.83a1.704 1.704 0 0 1-1.198 0C5.77 20.705 2 16.19 2 10V4.976c0-.758.489-1.43 1.21-1.664L11.46.637a1.748 1.748 0 0 1 1.08 0Zm-.617 1.426-8.25 2.676a.249.249 0 0 0-.173.237V10c0 5.46 3.28 9.483 8.43 11.426a.199.199 0 0 0 .14 0C17.22 19.483 20.5 15.461 20.5 10V4.976a.25.25 0 0 0-.173-.237l-8.25-2.676a.253.253 0 0 0-.154 0Z"></path>
</svg>
      <div>
        <div class="color-fg-default h4">Security</div>
        Find and fix vulnerabilities
      </div>

    
</a></li>

                <li>
  <a class="HeaderMenu-dropdown-link d-block no-underline position-relative py-2 Link--secondary d-flex flex-items-center Link--has-description pb-lg-3" data-analytics-event="{&quot;location&quot;:&quot;navbar&quot;,&quot;action&quot;:&quot;codespaces&quot;,&quot;context&quot;:&quot;product&quot;,&quot;tag&quot;:&quot;link&quot;,&quot;label&quot;:&quot;codespaces_link_product_navbar&quot;}" href="https://github.com/features/codespaces">
      <svg aria-hidden="true" height="24" viewBox="0 0 24 24" version="1.1" width="24" data-view-component="true" class="octicon octicon-codespaces color-fg-subtle mr-3">
    <path d="M3.5 3.75C3.5 2.784 4.284 2 5.25 2h13.5c.966 0 1.75.784 1.75 1.75v7.5A1.75 1.75 0 0 1 18.75 13H5.25a1.75 1.75 0 0 1-1.75-1.75Zm-2 12c0-.966.784-1.75 1.75-1.75h17.5c.966 0 1.75.784 1.75 1.75v4a1.75 1.75 0 0 1-1.75 1.75H3.25a1.75 1.75 0 0 1-1.75-1.75ZM5.25 3.5a.25.25 0 0 0-.25.25v7.5c0 .138.112.25.25.25h13.5a.25.25 0 0 0 .25-.25v-7.5a.25.25 0 0 0-.25-.25Zm-2 12a.25.25 0 0 0-.25.25v4c0 .138.112.25.25.25h17.5a.25.25 0 0 0 .25-.25v-4a.25.25 0 0 0-.25-.25Z"></path><path d="M10 17.75a.75.75 0 0 1 .75-.75h6.5a.75.75 0 0 1 0 1.5h-6.5a.75.75 0 0 1-.75-.75Zm-4 0a.75.75 0 0 1 .75-.75h.5a.75.75 0 0 1 0 1.5h-.5a.75.75 0 0 1-.75-.75Z"></path>
</svg>
      <div>
        <div class="color-fg-default h4">Codespaces</div>
        Instant dev environments
      </div>

    
</a></li>

                <li>
  <a class="HeaderMenu-dropdown-link d-block no-underline position-relative py-2 Link--secondary d-flex flex-items-center Link--has-description pb-lg-3" data-analytics-event="{&quot;location&quot;:&quot;navbar&quot;,&quot;action&quot;:&quot;github_copilot&quot;,&quot;context&quot;:&quot;product&quot;,&quot;tag&quot;:&quot;link&quot;,&quot;label&quot;:&quot;github_copilot_link_product_navbar&quot;}" href="https://github.com/features/copilot">
      <svg aria-hidden="true" height="24" viewBox="0 0 24 24" version="1.1" width="24" data-view-component="true" class="octicon octicon-copilot color-fg-subtle mr-3">
    <path d="M23.922 16.992c-.861 1.495-5.859 5.023-11.922 5.023-6.063 0-11.061-3.528-11.922-5.023A.641.641 0 0 1 0 16.736v-2.869a.841.841 0 0 1 .053-.22c.372-.935 1.347-2.292 2.605-2.656.167-.429.414-1.055.644-1.517a10.195 10.195 0 0 1-.052-1.086c0-1.331.282-2.499 1.132-3.368.397-.406.89-.717 1.474-.952 1.399-1.136 3.392-2.093 6.122-2.093 2.731 0 4.767.957 6.166 2.093.584.235 1.077.546 1.474.952.85.869 1.132 2.037 1.132 3.368 0 .368-.014.733-.052 1.086.23.462.477 1.088.644 1.517 1.258.364 2.233 1.721 2.605 2.656a.832.832 0 0 1 .053.22v2.869a.641.641 0 0 1-.078.256ZM12.172 11h-.344a4.323 4.323 0 0 1-.355.508C10.703 12.455 9.555 13 7.965 13c-1.725 0-2.989-.359-3.782-1.259a2.005 2.005 0 0 1-.085-.104L4 11.741v6.585c1.435.779 4.514 2.179 8 2.179 3.486 0 6.565-1.4 8-2.179v-6.585l-.098-.104s-.033.045-.085.104c-.793.9-2.057 1.259-3.782 1.259-1.59 0-2.738-.545-3.508-1.492a4.323 4.323 0 0 1-.355-.508h-.016.016Zm.641-2.935c.136 1.057.403 1.913.878 2.497.442.544 1.134.938 2.344.938 1.573 0 2.292-.337 2.657-.751.384-.435.558-1.15.558-2.361 0-1.14-.243-1.847-.705-2.319-.477-.488-1.319-.862-2.824-1.025-1.487-.161-2.192.138-2.533.529-.269.307-.437.808-.438 1.578v.021c0 .265.021.562.063.893Zm-1.626 0c.042-.331.063-.628.063-.894v-.02c-.001-.77-.169-1.271-.438-1.578-.341-.391-1.046-.69-2.533-.529-1.505.163-2.347.537-2.824 1.025-.462.472-.705 1.179-.705 2.319 0 1.211.175 1.926.558 2.361.365.414 1.084.751 2.657.751 1.21 0 1.902-.394 2.344-.938.475-.584.742-1.44.878-2.497Z"></path><path d="M14.5 14.25a1 1 0 0 1 1 1v2a1 1 0 0 1-2 0v-2a1 1 0 0 1 1-1Zm-5 0a1 1 0 0 1 1 1v2a1 1 0 0 1-2 0v-2a1 1 0 0 1 1-1Z"></path>
</svg>
      <div>
        <div class="color-fg-default h4">GitHub Copilot</div>
        Write better code with AI
      </div>

    
</a></li>

                <li>
  <a class="HeaderMenu-dropdown-link d-block no-underline position-relative py-2 Link--secondary d-flex flex-items-center Link--has-description pb-lg-3" data-analytics-event="{&quot;location&quot;:&quot;navbar&quot;,&quot;action&quot;:&quot;code_review&quot;,&quot;context&quot;:&quot;product&quot;,&quot;tag&quot;:&quot;link&quot;,&quot;label&quot;:&quot;code_review_link_product_navbar&quot;}" href="https://github.com/features/code-review">
      <svg aria-hidden="true" height="24" viewBox="0 0 24 24" version="1.1" width="24" data-view-component="true" class="octicon octicon-code-review color-fg-subtle mr-3">
    <path d="M10.3 6.74a.75.75 0 0 1-.04 1.06l-2.908 2.7 2.908 2.7a.75.75 0 1 1-1.02 1.1l-3.5-3.25a.75.75 0 0 1 0-1.1l3.5-3.25a.75.75 0 0 1 1.06.04Zm3.44 1.06a.75.75 0 1 1 1.02-1.1l3.5 3.25a.75.75 0 0 1 0 1.1l-3.5 3.25a.75.75 0 1 1-1.02-1.1l2.908-2.7-2.908-2.7Z"></path><path d="M1.5 4.25c0-.966.784-1.75 1.75-1.75h17.5c.966 0 1.75.784 1.75 1.75v12.5a1.75 1.75 0 0 1-1.75 1.75h-9.69l-3.573 3.573A1.458 1.458 0 0 1 5 21.043V18.5H3.25a1.75 1.75 0 0 1-1.75-1.75ZM3.25 4a.25.25 0 0 0-.25.25v12.5c0 .138.112.25.25.25h2.5a.75.75 0 0 1 .75.75v3.19l3.72-3.72a.749.749 0 0 1 .53-.22h10a.25.25 0 0 0 .25-.25V4.25a.25.25 0 0 0-.25-.25Z"></path>
</svg>
      <div>
        <div class="color-fg-default h4">Code review</div>
        Manage code changes
      </div>

    
</a></li>

                <li>
  <a class="HeaderMenu-dropdown-link d-block no-underline position-relative py-2 Link--secondary d-flex flex-items-center Link--has-description pb-lg-3" data-analytics-event="{&quot;location&quot;:&quot;navbar&quot;,&quot;action&quot;:&quot;issues&quot;,&quot;context&quot;:&quot;product&quot;,&quot;tag&quot;:&quot;link&quot;,&quot;label&quot;:&quot;issues_link_product_navbar&quot;}" href="https://github.com/features/issues">
      <svg aria-hidden="true" height="24" viewBox="0 0 24 24" version="1.1" width="24" data-view-component="true" class="octicon octicon-issue-opened color-fg-subtle mr-3">
    <path d="M12 1c6.075 0 11 4.925 11 11s-4.925 11-11 11S1 18.075 1 12 5.925 1 12 1ZM2.5 12a9.5 9.5 0 0 0 9.5 9.5 9.5 9.5 0 0 0 9.5-9.5A9.5 9.5 0 0 0 12 2.5 9.5 9.5 0 0 0 2.5 12Zm9.5 2a2 2 0 1 1-.001-3.999A2 2 0 0 1 12 14Z"></path>
</svg>
      <div>
        <div class="color-fg-default h4">Issues</div>
        Plan and track work
      </div>

    
</a></li>

                <li>
  <a class="HeaderMenu-dropdown-link d-block no-underline position-relative py-2 Link--secondary d-flex flex-items-center Link--has-description" data-analytics-event="{&quot;location&quot;:&quot;navbar&quot;,&quot;action&quot;:&quot;discussions&quot;,&quot;context&quot;:&quot;product&quot;,&quot;tag&quot;:&quot;link&quot;,&quot;label&quot;:&quot;discussions_link_product_navbar&quot;}" href="https://github.com/features/discussions">
      <svg aria-hidden="true" height="24" viewBox="0 0 24 24" version="1.1" width="24" data-view-component="true" class="octicon octicon-comment-discussion color-fg-subtle mr-3">
    <path d="M1.75 1h12.5c.966 0 1.75.784 1.75 1.75v9.5A1.75 1.75 0 0 1 14.25 14H8.061l-2.574 2.573A1.458 1.458 0 0 1 3 15.543V14H1.75A1.75 1.75 0 0 1 0 12.25v-9.5C0 1.784.784 1 1.75 1ZM1.5 2.75v9.5c0 .138.112.25.25.25h2a.75.75 0 0 1 .75.75v2.19l2.72-2.72a.749.749 0 0 1 .53-.22h6.5a.25.25 0 0 0 .25-.25v-9.5a.25.25 0 0 0-.25-.25H1.75a.25.25 0 0 0-.25.25Z"></path><path d="M22.5 8.75a.25.25 0 0 0-.25-.25h-3.5a.75.75 0 0 1 0-1.5h3.5c.966 0 1.75.784 1.75 1.75v9.5A1.75 1.75 0 0 1 22.25 20H21v1.543a1.457 1.457 0 0 1-2.487 1.03L15.939 20H10.75A1.75 1.75 0 0 1 9 18.25v-1.465a.75.75 0 0 1 1.5 0v1.465c0 .138.112.25.25.25h5.5a.75.75 0 0 1 .53.22l2.72 2.72v-2.19a.75.75 0 0 1 .75-.75h2a.25.25 0 0 0 .25-.25v-9.5Z"></path>
</svg>
      <div>
        <div class="color-fg-default h4">Discussions</div>
        Collaborate outside of code
      </div>

    
</a></li>

            </ul>
          </div>
          <div class="px-lg-4">
                <span class="d-block h4 color-fg-default my-1" id="product-explore-heading">Explore</span>
            <ul class="list-style-none f5" aria-labelledby="product-explore-heading">
                <li>
  <a class="HeaderMenu-dropdown-link d-block no-underline position-relative py-2 Link--secondary" data-analytics-event="{&quot;location&quot;:&quot;navbar&quot;,&quot;action&quot;:&quot;all_features&quot;,&quot;context&quot;:&quot;product&quot;,&quot;tag&quot;:&quot;link&quot;,&quot;label&quot;:&quot;all_features_link_product_navbar&quot;}" href="https://github.com/features">
      All features

    
</a></li>

                <li>
  <a class="HeaderMenu-dropdown-link d-block no-underline position-relative py-2 Link--secondary Link--external" target="_blank" data-analytics-event="{&quot;location&quot;:&quot;navbar&quot;,&quot;action&quot;:&quot;documentation&quot;,&quot;context&quot;:&quot;product&quot;,&quot;tag&quot;:&quot;link&quot;,&quot;label&quot;:&quot;documentation_link_product_navbar&quot;}" href="https://docs.github.com">
      Documentation

    <svg aria-hidden="true" height="16" viewBox="0 0 16 16" version="1.1" width="16" data-view-component="true" class="octicon octicon-link-external HeaderMenu-external-icon color-fg-subtle">
    <path d="M3.75 2h3.5a.75.75 0 0 1 0 1.5h-3.5a.25.25 0 0 0-.25.25v8.5c0 .138.112.25.25.25h8.5a.25.25 0 0 0 .25-.25v-3.5a.75.75 0 0 1 1.5 0v3.5A1.75 1.75 0 0 1 12.25 14h-8.5A1.75 1.75 0 0 1 2 12.25v-8.5C2 2.784 2.784 2 3.75 2Zm6.854-1h4.146a.25.25 0 0 1 .25.25v4.146a.25.25 0 0 1-.427.177L13.03 4.03 9.28 7.78a.751.751 0 0 1-1.042-.018.751.751 0 0 1-.018-1.042l3.75-3.75-1.543-1.543A.25.25 0 0 1 10.604 1Z"></path>
</svg>
</a></li>

                <li>
  <a class="HeaderMenu-dropdown-link d-block no-underline position-relative py-2 Link--secondary Link--external" target="_blank" data-analytics-event="{&quot;location&quot;:&quot;navbar&quot;,&quot;action&quot;:&quot;github_skills&quot;,&quot;context&quot;:&quot;product&quot;,&quot;tag&quot;:&quot;link&quot;,&quot;label&quot;:&quot;github_skills_link_product_navbar&quot;}" href="https://skills.github.com">
      GitHub Skills

    <svg aria-hidden="true" height="16" viewBox="0 0 16 16" version="1.1" width="16" data-view-component="true" class="octicon octicon-link-external HeaderMenu-external-icon color-fg-subtle">
    <path d="M3.75 2h3.5a.75.75 0 0 1 0 1.5h-3.5a.25.25 0 0 0-.25.25v8.5c0 .138.112.25.25.25h8.5a.25.25 0 0 0 .25-.25v-3.5a.75.75 0 0 1 1.5 0v3.5A1.75 1.75 0 0 1 12.25 14h-8.5A1.75 1.75 0 0 1 2 12.25v-8.5C2 2.784 2.784 2 3.75 2Zm6.854-1h4.146a.25.25 0 0 1 .25.25v4.146a.25.25 0 0 1-.427.177L13.03 4.03 9.28 7.78a.751.751 0 0 1-1.042-.018.751.751 0 0 1-.018-1.042l3.75-3.75-1.543-1.543A.25.25 0 0 1 10.604 1Z"></path>
</svg>
</a></li>

                <li>
  <a class="HeaderMenu-dropdown-link d-block no-underline position-relative py-2 Link--secondary Link--external" target="_blank" data-analytics-event="{&quot;location&quot;:&quot;navbar&quot;,&quot;action&quot;:&quot;blog&quot;,&quot;context&quot;:&quot;product&quot;,&quot;tag&quot;:&quot;link&quot;,&quot;label&quot;:&quot;blog_link_product_navbar&quot;}" href="https://github.blog">
      Blog

    <svg aria-hidden="true" height="16" viewBox="0 0 16 16" version="1.1" width="16" data-view-component="true" class="octicon octicon-link-external HeaderMenu-external-icon color-fg-subtle">
    <path d="M3.75 2h3.5a.75.75 0 0 1 0 1.5h-3.5a.25.25 0 0 0-.25.25v8.5c0 .138.112.25.25.25h8.5a.25.25 0 0 0 .25-.25v-3.5a.75.75 0 0 1 1.5 0v3.5A1.75 1.75 0 0 1 12.25 14h-8.5A1.75 1.75 0 0 1 2 12.25v-8.5C2 2.784 2.784 2 3.75 2Zm6.854-1h4.146a.25.25 0 0 1 .25.25v4.146a.25.25 0 0 1-.427.177L13.03 4.03 9.28 7.78a.751.751 0 0 1-1.042-.018.751.751 0 0 1-.018-1.042l3.75-3.75-1.543-1.543A.25.25 0 0 1 10.604 1Z"></path>
</svg>
</a></li>

            </ul>
          </div>
      </div>
</li>

                  <li class="HeaderMenu-item position-relative flex-wrap flex-justify-between flex-items-center d-block d-lg-flex flex-lg-nowrap flex-lg-items-center js-details-container js-header-menu-item">
      <button type="button" class="HeaderMenu-link border-0 width-full width-lg-auto px-0 px-lg-2 py-lg-2 no-wrap d-flex flex-items-center flex-justify-between js-details-target" aria-expanded="false">
        Solutions
        <svg opacity="0.5" aria-hidden="true" height="16" viewBox="0 0 16 16" version="1.1" width="16" data-view-component="true" class="octicon octicon-chevron-down HeaderMenu-icon ml-1">
    <path d="M12.78 5.22a.749.749 0 0 1 0 1.06l-4.25 4.25a.749.749 0 0 1-1.06 0L3.22 6.28a.749.749 0 1 1 1.06-1.06L8 8.939l3.72-3.719a.749.749 0 0 1 1.06 0Z"></path>
</svg>
      </button>
      <div class="HeaderMenu-dropdown dropdown-menu rounded m-0 p-0 py-2 py-lg-4 position-relative position-lg-absolute left-0 left-lg-n3 px-lg-4">
          <div class="border-bottom pb-3 mb-3">
                <span class="d-block h4 color-fg-default my-1" id="solutions-by-size-heading">By size</span>
            <ul class="list-style-none f5" aria-labelledby="solutions-by-size-heading">
                <li>
  <a class="HeaderMenu-dropdown-link d-block no-underline position-relative py-2 Link--secondary" data-analytics-event="{&quot;location&quot;:&quot;navbar&quot;,&quot;action&quot;:&quot;enterprise&quot;,&quot;context&quot;:&quot;solutions&quot;,&quot;tag&quot;:&quot;link&quot;,&quot;label&quot;:&quot;enterprise_link_solutions_navbar&quot;}" href="https://github.com/enterprise">
      Enterprise

    
</a></li>

                <li>
  <a class="HeaderMenu-dropdown-link d-block no-underline position-relative py-2 Link--secondary" data-analytics-event="{&quot;location&quot;:&quot;navbar&quot;,&quot;action&quot;:&quot;teams&quot;,&quot;context&quot;:&quot;solutions&quot;,&quot;tag&quot;:&quot;link&quot;,&quot;label&quot;:&quot;teams_link_solutions_navbar&quot;}" href="https://github.com/team">
      Teams

    
</a></li>

                <li>
  <a class="HeaderMenu-dropdown-link d-block no-underline position-relative py-2 Link--secondary" data-analytics-event="{&quot;location&quot;:&quot;navbar&quot;,&quot;action&quot;:&quot;startups&quot;,&quot;context&quot;:&quot;solutions&quot;,&quot;tag&quot;:&quot;link&quot;,&quot;label&quot;:&quot;startups_link_solutions_navbar&quot;}" href="https://github.com/enterprise/startups">
      Startups

    
</a></li>

            </ul>
          </div>
          <div class="border-bottom pb-3 mb-3">
                <span class="d-block h4 color-fg-default my-1" id="solutions-by-industry-heading">By industry</span>
            <ul class="list-style-none f5" aria-labelledby="solutions-by-industry-heading">
                <li>
  <a class="HeaderMenu-dropdown-link d-block no-underline position-relative py-2 Link--secondary" data-analytics-event="{&quot;location&quot;:&quot;navbar&quot;,&quot;action&quot;:&quot;healthcare&quot;,&quot;context&quot;:&quot;solutions&quot;,&quot;tag&quot;:&quot;link&quot;,&quot;label&quot;:&quot;healthcare_link_solutions_navbar&quot;}" href="https://github.com/solutions/industries/healthcare">
      Healthcare

    
</a></li>

                <li>
  <a class="HeaderMenu-dropdown-link d-block no-underline position-relative py-2 Link--secondary" data-analytics-event="{&quot;location&quot;:&quot;navbar&quot;,&quot;action&quot;:&quot;financial_services&quot;,&quot;context&quot;:&quot;solutions&quot;,&quot;tag&quot;:&quot;link&quot;,&quot;label&quot;:&quot;financial_services_link_solutions_navbar&quot;}" href="https://github.com/solutions/industries/financial-services">
      Financial services

    
</a></li>

                <li>
  <a class="HeaderMenu-dropdown-link d-block no-underline position-relative py-2 Link--secondary" data-analytics-event="{&quot;location&quot;:&quot;navbar&quot;,&quot;action&quot;:&quot;manufacturing&quot;,&quot;context&quot;:&quot;solutions&quot;,&quot;tag&quot;:&quot;link&quot;,&quot;label&quot;:&quot;manufacturing_link_solutions_navbar&quot;}" href="https://github.com/solutions/industries/manufacturing">
      Manufacturing

    
</a></li>

            </ul>
          </div>
          <div class="">
                <span class="d-block h4 color-fg-default my-1" id="solutions-by-use-case-heading">By use case</span>
            <ul class="list-style-none f5" aria-labelledby="solutions-by-use-case-heading">
                <li>
  <a class="HeaderMenu-dropdown-link d-block no-underline position-relative py-2 Link--secondary" data-analytics-event="{&quot;location&quot;:&quot;navbar&quot;,&quot;action&quot;:&quot;ci_cd_amp_automation&quot;,&quot;context&quot;:&quot;solutions&quot;,&quot;tag&quot;:&quot;link&quot;,&quot;label&quot;:&quot;ci_cd_amp_automation_link_solutions_navbar&quot;}" href="https://github.com/solutions/ci-cd">
      CI/CD &amp; Automation

    
</a></li>

                <li>
  <a class="HeaderMenu-dropdown-link d-block no-underline position-relative py-2 Link--secondary" data-analytics-event="{&quot;location&quot;:&quot;navbar&quot;,&quot;action&quot;:&quot;devops&quot;,&quot;context&quot;:&quot;solutions&quot;,&quot;tag&quot;:&quot;link&quot;,&quot;label&quot;:&quot;devops_link_solutions_navbar&quot;}" href="https://github.com/solutions/devops">
      DevOps

    
</a></li>

                <li>
  <a class="HeaderMenu-dropdown-link d-block no-underline position-relative py-2 Link--secondary" data-analytics-event="{&quot;location&quot;:&quot;navbar&quot;,&quot;action&quot;:&quot;devsecops&quot;,&quot;context&quot;:&quot;solutions&quot;,&quot;tag&quot;:&quot;link&quot;,&quot;label&quot;:&quot;devsecops_link_solutions_navbar&quot;}" href="https://github.com/solutions/devsecops">
      DevSecOps

    
</a></li>

            </ul>
          </div>
      </div>
</li>

                  <li class="HeaderMenu-item position-relative flex-wrap flex-justify-between flex-items-center d-block d-lg-flex flex-lg-nowrap flex-lg-items-center js-details-container js-header-menu-item">
      <button type="button" class="HeaderMenu-link border-0 width-full width-lg-auto px-0 px-lg-2 py-lg-2 no-wrap d-flex flex-items-center flex-justify-between js-details-target" aria-expanded="false">
        Resources
        <svg opacity="0.5" aria-hidden="true" height="16" viewBox="0 0 16 16" version="1.1" width="16" data-view-component="true" class="octicon octicon-chevron-down HeaderMenu-icon ml-1">
    <path d="M12.78 5.22a.749.749 0 0 1 0 1.06l-4.25 4.25a.749.749 0 0 1-1.06 0L3.22 6.28a.749.749 0 1 1 1.06-1.06L8 8.939l3.72-3.719a.749.749 0 0 1 1.06 0Z"></path>
</svg>
      </button>
      <div class="HeaderMenu-dropdown dropdown-menu rounded m-0 p-0 py-2 py-lg-4 position-relative position-lg-absolute left-0 left-lg-n3 d-lg-flex dropdown-menu-wide">
          <div class="px-lg-4 border-lg-right mb-4 mb-lg-0 pr-lg-7">
                <span class="d-block h4 color-fg-default my-1" id="resources-topics-heading">Topics</span>
            <ul class="list-style-none f5" aria-labelledby="resources-topics-heading">
                <li>
  <a class="HeaderMenu-dropdown-link d-block no-underline position-relative py-2 Link--secondary" data-analytics-event="{&quot;location&quot;:&quot;navbar&quot;,&quot;action&quot;:&quot;ai&quot;,&quot;context&quot;:&quot;resources&quot;,&quot;tag&quot;:&quot;link&quot;,&quot;label&quot;:&quot;ai_link_resources_navbar&quot;}" href="/resources/articles/ai">
      AI

    
</a></li>

                <li>
  <a class="HeaderMenu-dropdown-link d-block no-underline position-relative py-2 Link--secondary" data-analytics-event="{&quot;location&quot;:&quot;navbar&quot;,&quot;action&quot;:&quot;devops&quot;,&quot;context&quot;:&quot;resources&quot;,&quot;tag&quot;:&quot;link&quot;,&quot;label&quot;:&quot;devops_link_resources_navbar&quot;}" href="/resources/articles/devops">
      DevOps

    
</a></li>

                <li>
  <a class="HeaderMenu-dropdown-link d-block no-underline position-relative py-2 Link--secondary" data-analytics-event="{&quot;location&quot;:&quot;navbar&quot;,&quot;action&quot;:&quot;security&quot;,&quot;context&quot;:&quot;resources&quot;,&quot;tag&quot;:&quot;link&quot;,&quot;label&quot;:&quot;security_link_resources_navbar&quot;}" href="/resources/articles/security">
      Security

    
</a></li>

                <li>
  <a class="HeaderMenu-dropdown-link d-block no-underline position-relative py-2 Link--secondary" data-analytics-event="{&quot;location&quot;:&quot;navbar&quot;,&quot;action&quot;:&quot;software_development&quot;,&quot;context&quot;:&quot;resources&quot;,&quot;tag&quot;:&quot;link&quot;,&quot;label&quot;:&quot;software_development_link_resources_navbar&quot;}" href="/resources/articles/software-development">
      Software Development

    
</a></li>

            </ul>
          </div>
          <div class="px-lg-4">
                <span class="d-block h4 color-fg-default my-1" id="resources-explore-heading">Explore</span>
            <ul class="list-style-none f5" aria-labelledby="resources-explore-heading">
                <li>
  <a class="HeaderMenu-dropdown-link d-block no-underline position-relative py-2 Link--secondary Link--external" target="_blank" data-analytics-event="{&quot;location&quot;:&quot;navbar&quot;,&quot;action&quot;:&quot;learning_pathways&quot;,&quot;context&quot;:&quot;resources&quot;,&quot;tag&quot;:&quot;link&quot;,&quot;label&quot;:&quot;learning_pathways_link_resources_navbar&quot;}" href="https://resources.github.com/learn/pathways">
      Learning Pathways

    <svg aria-hidden="true" height="16" viewBox="0 0 16 16" version="1.1" width="16" data-view-component="true" class="octicon octicon-link-external HeaderMenu-external-icon color-fg-subtle">
    <path d="M3.75 2h3.5a.75.75 0 0 1 0 1.5h-3.5a.25.25 0 0 0-.25.25v8.5c0 .138.112.25.25.25h8.5a.25.25 0 0 0 .25-.25v-3.5a.75.75 0 0 1 1.5 0v3.5A1.75 1.75 0 0 1 12.25 14h-8.5A1.75 1.75 0 0 1 2 12.25v-8.5C2 2.784 2.784 2 3.75 2Zm6.854-1h4.146a.25.25 0 0 1 .25.25v4.146a.25.25 0 0 1-.427.177L13.03 4.03 9.28 7.78a.751.751 0 0 1-1.042-.018.751.751 0 0 1-.018-1.042l3.75-3.75-1.543-1.543A.25.25 0 0 1 10.604 1Z"></path>
</svg>
</a></li>

                <li>
  <a class="HeaderMenu-dropdown-link d-block no-underline position-relative py-2 Link--secondary Link--external" target="_blank" data-analytics-event="{&quot;location&quot;:&quot;navbar&quot;,&quot;action&quot;:&quot;white_papers_ebooks_webinars&quot;,&quot;context&quot;:&quot;resources&quot;,&quot;tag&quot;:&quot;link&quot;,&quot;label&quot;:&quot;white_papers_ebooks_webinars_link_resources_navbar&quot;}" href="https://resources.github.com">
      White papers, Ebooks, Webinars

    <svg aria-hidden="true" height="16" viewBox="0 0 16 16" version="1.1" width="16" data-view-component="true" class="octicon octicon-link-external HeaderMenu-external-icon color-fg-subtle">
    <path d="M3.75 2h3.5a.75.75 0 0 1 0 1.5h-3.5a.25.25 0 0 0-.25.25v8.5c0 .138.112.25.25.25h8.5a.25.25 0 0 0 .25-.25v-3.5a.75.75 0 0 1 1.5 0v3.5A1.75 1.75 0 0 1 12.25 14h-8.5A1.75 1.75 0 0 1 2 12.25v-8.5C2 2.784 2.784 2 3.75 2Zm6.854-1h4.146a.25.25 0 0 1 .25.25v4.146a.25.25 0 0 1-.427.177L13.03 4.03 9.28 7.78a.751.751 0 0 1-1.042-.018.751.751 0 0 1-.018-1.042l3.75-3.75-1.543-1.543A.25.25 0 0 1 10.604 1Z"></path>
</svg>
</a></li>

                <li>
  <a class="HeaderMenu-dropdown-link d-block no-underline position-relative py-2 Link--secondary" data-analytics-event="{&quot;location&quot;:&quot;navbar&quot;,&quot;action&quot;:&quot;customer_stories&quot;,&quot;context&quot;:&quot;resources&quot;,&quot;tag&quot;:&quot;link&quot;,&quot;label&quot;:&quot;customer_stories_link_resources_navbar&quot;}" href="https://github.com/customer-stories">
      Customer Stories

    
</a></li>

                <li>
  <a class="HeaderMenu-dropdown-link d-block no-underline position-relative py-2 Link--secondary Link--external" target="_blank" data-analytics-event="{&quot;location&quot;:&quot;navbar&quot;,&quot;action&quot;:&quot;partners&quot;,&quot;context&quot;:&quot;resources&quot;,&quot;tag&quot;:&quot;link&quot;,&quot;label&quot;:&quot;partners_link_resources_navbar&quot;}" href="https://partner.github.com">
      Partners

    <svg aria-hidden="true" height="16" viewBox="0 0 16 16" version="1.1" width="16" data-view-component="true" class="octicon octicon-link-external HeaderMenu-external-icon color-fg-subtle">
    <path d="M3.75 2h3.5a.75.75 0 0 1 0 1.5h-3.5a.25.25 0 0 0-.25.25v8.5c0 .138.112.25.25.25h8.5a.25.25 0 0 0 .25-.25v-3.5a.75.75 0 0 1 1.5 0v3.5A1.75 1.75 0 0 1 12.25 14h-8.5A1.75 1.75 0 0 1 2 12.25v-8.5C2 2.784 2.784 2 3.75 2Zm6.854-1h4.146a.25.25 0 0 1 .25.25v4.146a.25.25 0 0 1-.427.177L13.03 4.03 9.28 7.78a.751.751 0 0 1-1.042-.018.751.751 0 0 1-.018-1.042l3.75-3.75-1.543-1.543A.25.25 0 0 1 10.604 1Z"></path>
</svg>
</a></li>

            </ul>
          </div>
      </div>
</li>


                <li class="HeaderMenu-item position-relative flex-wrap flex-justify-between flex-items-center d-block d-lg-flex flex-lg-nowrap flex-lg-items-center js-details-container js-header-menu-item">
      <button type="button" class="HeaderMenu-link border-0 width-full width-lg-auto px-0 px-lg-2 py-lg-2 no-wrap d-flex flex-items-center flex-justify-between js-details-target" aria-expanded="false">
        Open Source
        <svg opacity="0.5" aria-hidden="true" height="16" viewBox="0 0 16 16" version="1.1" width="16" data-view-component="true" class="octicon octicon-chevron-down HeaderMenu-icon ml-1">
    <path d="M12.78 5.22a.749.749 0 0 1 0 1.06l-4.25 4.25a.749.749 0 0 1-1.06 0L3.22 6.28a.749.749 0 1 1 1.06-1.06L8 8.939l3.72-3.719a.749.749 0 0 1 1.06 0Z"></path>
</svg>
      </button>
      <div class="HeaderMenu-dropdown dropdown-menu rounded m-0 p-0 py-2 py-lg-4 position-relative position-lg-absolute left-0 left-lg-n3 px-lg-4">
          <div class="border-bottom pb-3 mb-3">
            <ul class="list-style-none f5" >
                <li>
  <a class="HeaderMenu-dropdown-link d-block no-underline position-relative py-2 Link--secondary d-flex flex-items-center Link--has-description" data-analytics-event="{&quot;location&quot;:&quot;navbar&quot;,&quot;action&quot;:&quot;github_sponsors&quot;,&quot;context&quot;:&quot;open_source&quot;,&quot;tag&quot;:&quot;link&quot;,&quot;label&quot;:&quot;github_sponsors_link_open_source_navbar&quot;}" href="/sponsors">
      
      <div>
        <div class="color-fg-default h4">GitHub Sponsors</div>
        Fund open source developers
      </div>

    
</a></li>

            </ul>
          </div>
          <div class="border-bottom pb-3 mb-3">
            <ul class="list-style-none f5" >
                <li>
  <a class="HeaderMenu-dropdown-link d-block no-underline position-relative py-2 Link--secondary d-flex flex-items-center Link--has-description" data-analytics-event="{&quot;location&quot;:&quot;navbar&quot;,&quot;action&quot;:&quot;the_readme_project&quot;,&quot;context&quot;:&quot;open_source&quot;,&quot;tag&quot;:&quot;link&quot;,&quot;label&quot;:&quot;the_readme_project_link_open_source_navbar&quot;}" href="https://github.com/readme">
      
      <div>
        <div class="color-fg-default h4">The ReadME Project</div>
        GitHub community articles
      </div>

    
</a></li>

            </ul>
          </div>
          <div class="">
                <span class="d-block h4 color-fg-default my-1" id="open-source-repositories-heading">Repositories</span>
            <ul class="list-style-none f5" aria-labelledby="open-source-repositories-heading">
                <li>
  <a class="HeaderMenu-dropdown-link d-block no-underline position-relative py-2 Link--secondary" data-analytics-event="{&quot;location&quot;:&quot;navbar&quot;,&quot;action&quot;:&quot;topics&quot;,&quot;context&quot;:&quot;open_source&quot;,&quot;tag&quot;:&quot;link&quot;,&quot;label&quot;:&quot;topics_link_open_source_navbar&quot;}" href="https://github.com/topics">
      Topics

    
</a></li>

                <li>
  <a class="HeaderMenu-dropdown-link d-block no-underline position-relative py-2 Link--secondary" data-analytics-event="{&quot;location&quot;:&quot;navbar&quot;,&quot;action&quot;:&quot;trending&quot;,&quot;context&quot;:&quot;open_source&quot;,&quot;tag&quot;:&quot;link&quot;,&quot;label&quot;:&quot;trending_link_open_source_navbar&quot;}" href="https://github.com/trending">
      Trending

    
</a></li>

                <li>
  <a class="HeaderMenu-dropdown-link d-block no-underline position-relative py-2 Link--secondary" data-analytics-event="{&quot;location&quot;:&quot;navbar&quot;,&quot;action&quot;:&quot;collections&quot;,&quot;context&quot;:&quot;open_source&quot;,&quot;tag&quot;:&quot;link&quot;,&quot;label&quot;:&quot;collections_link_open_source_navbar&quot;}" href="https://github.com/collections">
      Collections

    
</a></li>

            </ul>
          </div>
      </div>
</li>


                <li class="HeaderMenu-item position-relative flex-wrap flex-justify-between flex-items-center d-block d-lg-flex flex-lg-nowrap flex-lg-items-center js-details-container js-header-menu-item">
      <button type="button" class="HeaderMenu-link border-0 width-full width-lg-auto px-0 px-lg-2 py-lg-2 no-wrap d-flex flex-items-center flex-justify-between js-details-target" aria-expanded="false">
        Enterprise
        <svg opacity="0.5" aria-hidden="true" height="16" viewBox="0 0 16 16" version="1.1" width="16" data-view-component="true" class="octicon octicon-chevron-down HeaderMenu-icon ml-1">
    <path d="M12.78 5.22a.749.749 0 0 1 0 1.06l-4.25 4.25a.749.749 0 0 1-1.06 0L3.22 6.28a.749.749 0 1 1 1.06-1.06L8 8.939l3.72-3.719a.749.749 0 0 1 1.06 0Z"></path>
</svg>
      </button>
      <div class="HeaderMenu-dropdown dropdown-menu rounded m-0 p-0 py-2 py-lg-4 position-relative position-lg-absolute left-0 left-lg-n3 px-lg-4">
          <div class="border-bottom pb-3 mb-3">
            <ul class="list-style-none f5" >
                <li>
  <a class="HeaderMenu-dropdown-link d-block no-underline position-relative py-2 Link--secondary d-flex flex-items-center Link--has-description" data-analytics-event="{&quot;location&quot;:&quot;navbar&quot;,&quot;action&quot;:&quot;enterprise_platform&quot;,&quot;context&quot;:&quot;enterprise&quot;,&quot;tag&quot;:&quot;link&quot;,&quot;label&quot;:&quot;enterprise_platform_link_enterprise_navbar&quot;}" href="/enterprise">
      <svg aria-hidden="true" height="24" viewBox="0 0 24 24" version="1.1" width="24" data-view-component="true" class="octicon octicon-stack color-fg-subtle mr-3">
    <path d="M11.063 1.456a1.749 1.749 0 0 1 1.874 0l8.383 5.316a1.751 1.751 0 0 1 0 2.956l-8.383 5.316a1.749 1.749 0 0 1-1.874 0L2.68 9.728a1.751 1.751 0 0 1 0-2.956Zm1.071 1.267a.25.25 0 0 0-.268 0L3.483 8.039a.25.25 0 0 0 0 .422l8.383 5.316a.25.25 0 0 0 .268 0l8.383-5.316a.25.25 0 0 0 0-.422Z"></path><path d="M1.867 12.324a.75.75 0 0 1 1.035-.232l8.964 5.685a.25.25 0 0 0 .268 0l8.964-5.685a.75.75 0 0 1 .804 1.267l-8.965 5.685a1.749 1.749 0 0 1-1.874 0l-8.965-5.685a.75.75 0 0 1-.231-1.035Z"></path><path d="M1.867 16.324a.75.75 0 0 1 1.035-.232l8.964 5.685a.25.25 0 0 0 .268 0l8.964-5.685a.75.75 0 0 1 .804 1.267l-8.965 5.685a1.749 1.749 0 0 1-1.874 0l-8.965-5.685a.75.75 0 0 1-.231-1.035Z"></path>
</svg>
      <div>
        <div class="color-fg-default h4">Enterprise platform</div>
        AI-powered developer platform
      </div>

    
</a></li>

            </ul>
          </div>
          <div class="">
                <span class="d-block h4 color-fg-default my-1" id="enterprise-available-add-ons-heading">Available add-ons</span>
            <ul class="list-style-none f5" aria-labelledby="enterprise-available-add-ons-heading">
                <li>
  <a class="HeaderMenu-dropdown-link d-block no-underline position-relative py-2 Link--secondary d-flex flex-items-center Link--has-description pb-lg-3" data-analytics-event="{&quot;location&quot;:&quot;navbar&quot;,&quot;action&quot;:&quot;advanced_security&quot;,&quot;context&quot;:&quot;enterprise&quot;,&quot;tag&quot;:&quot;link&quot;,&quot;label&quot;:&quot;advanced_security_link_enterprise_navbar&quot;}" href="https://github.com/enterprise/advanced-security">
      <svg aria-hidden="true" height="24" viewBox="0 0 24 24" version="1.1" width="24" data-view-component="true" class="octicon octicon-shield-check color-fg-subtle mr-3">
    <path d="M16.53 9.78a.75.75 0 0 0-1.06-1.06L11 13.19l-1.97-1.97a.75.75 0 0 0-1.06 1.06l2.5 2.5a.75.75 0 0 0 1.06 0l5-5Z"></path><path d="m12.54.637 8.25 2.675A1.75 1.75 0 0 1 22 4.976V10c0 6.19-3.771 10.704-9.401 12.83a1.704 1.704 0 0 1-1.198 0C5.77 20.705 2 16.19 2 10V4.976c0-.758.489-1.43 1.21-1.664L11.46.637a1.748 1.748 0 0 1 1.08 0Zm-.617 1.426-8.25 2.676a.249.249 0 0 0-.173.237V10c0 5.46 3.28 9.483 8.43 11.426a.199.199 0 0 0 .14 0C17.22 19.483 20.5 15.461 20.5 10V4.976a.25.25 0 0 0-.173-.237l-8.25-2.676a.253.253 0 0 0-.154 0Z"></path>
</svg>
      <div>
        <div class="color-fg-default h4">Advanced Security</div>
        Enterprise-grade security features
      </div>

    
</a></li>

                <li>
  <a class="HeaderMenu-dropdown-link d-block no-underline position-relative py-2 Link--secondary d-flex flex-items-center Link--has-description pb-lg-3" data-analytics-event="{&quot;location&quot;:&quot;navbar&quot;,&quot;action&quot;:&quot;github_copilot&quot;,&quot;context&quot;:&quot;enterprise&quot;,&quot;tag&quot;:&quot;link&quot;,&quot;label&quot;:&quot;github_copilot_link_enterprise_navbar&quot;}" href="/features/copilot#enterprise">
      <svg aria-hidden="true" height="24" viewBox="0 0 24 24" version="1.1" width="24" data-view-component="true" class="octicon octicon-copilot color-fg-subtle mr-3">
    <path d="M23.922 16.992c-.861 1.495-5.859 5.023-11.922 5.023-6.063 0-11.061-3.528-11.922-5.023A.641.641 0 0 1 0 16.736v-2.869a.841.841 0 0 1 .053-.22c.372-.935 1.347-2.292 2.605-2.656.167-.429.414-1.055.644-1.517a10.195 10.195 0 0 1-.052-1.086c0-1.331.282-2.499 1.132-3.368.397-.406.89-.717 1.474-.952 1.399-1.136 3.392-2.093 6.122-2.093 2.731 0 4.767.957 6.166 2.093.584.235 1.077.546 1.474.952.85.869 1.132 2.037 1.132 3.368 0 .368-.014.733-.052 1.086.23.462.477 1.088.644 1.517 1.258.364 2.233 1.721 2.605 2.656a.832.832 0 0 1 .053.22v2.869a.641.641 0 0 1-.078.256ZM12.172 11h-.344a4.323 4.323 0 0 1-.355.508C10.703 12.455 9.555 13 7.965 13c-1.725 0-2.989-.359-3.782-1.259a2.005 2.005 0 0 1-.085-.104L4 11.741v6.585c1.435.779 4.514 2.179 8 2.179 3.486 0 6.565-1.4 8-2.179v-6.585l-.098-.104s-.033.045-.085.104c-.793.9-2.057 1.259-3.782 1.259-1.59 0-2.738-.545-3.508-1.492a4.323 4.323 0 0 1-.355-.508h-.016.016Zm.641-2.935c.136 1.057.403 1.913.878 2.497.442.544 1.134.938 2.344.938 1.573 0 2.292-.337 2.657-.751.384-.435.558-1.15.558-2.361 0-1.14-.243-1.847-.705-2.319-.477-.488-1.319-.862-2.824-1.025-1.487-.161-2.192.138-2.533.529-.269.307-.437.808-.438 1.578v.021c0 .265.021.562.063.893Zm-1.626 0c.042-.331.063-.628.063-.894v-.02c-.001-.77-.169-1.271-.438-1.578-.341-.391-1.046-.69-2.533-.529-1.505.163-2.347.537-2.824 1.025-.462.472-.705 1.179-.705 2.319 0 1.211.175 1.926.558 2.361.365.414 1.084.751 2.657.751 1.21 0 1.902-.394 2.344-.938.475-.584.742-1.44.878-2.497Z"></path><path d="M14.5 14.25a1 1 0 0 1 1 1v2a1 1 0 0 1-2 0v-2a1 1 0 0 1 1-1Zm-5 0a1 1 0 0 1 1 1v2a1 1 0 0 1-2 0v-2a1 1 0 0 1 1-1Z"></path>
</svg>
      <div>
        <div class="color-fg-default h4">GitHub Copilot</div>
        Enterprise-grade AI features
      </div>

    
</a></li>

                <li>
  <a class="HeaderMenu-dropdown-link d-block no-underline position-relative py-2 Link--secondary d-flex flex-items-center Link--has-description" data-analytics-event="{&quot;location&quot;:&quot;navbar&quot;,&quot;action&quot;:&quot;premium_support&quot;,&quot;context&quot;:&quot;enterprise&quot;,&quot;tag&quot;:&quot;link&quot;,&quot;label&quot;:&quot;premium_support_link_enterprise_navbar&quot;}" href="/premium-support">
      <svg aria-hidden="true" height="24" viewBox="0 0 24 24" version="1.1" width="24" data-view-component="true" class="octicon octicon-comment-discussion color-fg-subtle mr-3">
    <path d="M1.75 1h12.5c.966 0 1.75.784 1.75 1.75v9.5A1.75 1.75 0 0 1 14.25 14H8.061l-2.574 2.573A1.458 1.458 0 0 1 3 15.543V14H1.75A1.75 1.75 0 0 1 0 12.25v-9.5C0 1.784.784 1 1.75 1ZM1.5 2.75v9.5c0 .138.112.25.25.25h2a.75.75 0 0 1 .75.75v2.19l2.72-2.72a.749.749 0 0 1 .53-.22h6.5a.25.25 0 0 0 .25-.25v-9.5a.25.25 0 0 0-.25-.25H1.75a.25.25 0 0 0-.25.25Z"></path><path d="M22.5 8.75a.25.25 0 0 0-.25-.25h-3.5a.75.75 0 0 1 0-1.5h3.5c.966 0 1.75.784 1.75 1.75v9.5A1.75 1.75 0 0 1 22.25 20H21v1.543a1.457 1.457 0 0 1-2.487 1.03L15.939 20H10.75A1.75 1.75 0 0 1 9 18.25v-1.465a.75.75 0 0 1 1.5 0v1.465c0 .138.112.25.25.25h5.5a.75.75 0 0 1 .53.22l2.72 2.72v-2.19a.75.75 0 0 1 .75-.75h2a.25.25 0 0 0 .25-.25v-9.5Z"></path>
</svg>
      <div>
        <div class="color-fg-default h4">Premium Support</div>
        Enterprise-grade 24/7 support
      </div>

    
</a></li>

            </ul>
          </div>
      </div>
</li>


                <li class="HeaderMenu-item position-relative flex-wrap flex-justify-between flex-items-center d-block d-lg-flex flex-lg-nowrap flex-lg-items-center js-details-container js-header-menu-item">
    <a class="HeaderMenu-link no-underline px-0 px-lg-2 py-3 py-lg-2 d-block d-lg-inline-block" data-analytics-event="{&quot;location&quot;:&quot;navbar&quot;,&quot;action&quot;:&quot;pricing&quot;,&quot;context&quot;:&quot;global&quot;,&quot;tag&quot;:&quot;link&quot;,&quot;label&quot;:&quot;pricing_link_global_navbar&quot;}" href="https://github.com/pricing">Pricing</a>
</li>

            </ul>
          </nav>

        <div class="d-flex flex-column flex-lg-row width-full flex-justify-end flex-lg-items-center text-center mt-3 mt-lg-0 text-lg-left ml-lg-3">
                


<qbsearch-input class="search-input" data-scope="repo:rubin-dp0/tutorial-notebooks" data-custom-scopes-path="/search/custom_scopes" data-delete-custom-scopes-csrf="mXg7ZXQ219DICXKGO_b8f0ETluk7UcFw0_9Y-uqKcHQQlu-CJwzt4NDqm4yIX7xAhxygszEyyFLvzALe7-4b1Q" data-max-custom-scopes="10" data-header-redesign-enabled="false" data-initial-value="" data-blackbird-suggestions-path="/search/suggestions" data-jump-to-suggestions-path="/_graphql/GetSuggestedNavigationDestinations" data-current-repository="rubin-dp0/tutorial-notebooks" data-current-org="rubin-dp0" data-current-owner="" data-logged-in="false" data-copilot-chat-enabled="false" data-nl-search-enabled="false" data-retain-scroll-position="true">
  <div
    class="search-input-container search-with-dialog position-relative d-flex flex-row flex-items-center mr-4 rounded"
    data-action="click:qbsearch-input#searchInputContainerClicked"
  >
      <button
        type="button"
        class="header-search-button placeholder  input-button form-control d-flex flex-1 flex-self-stretch flex-items-center no-wrap width-full py-0 pl-2 pr-0 text-left border-0 box-shadow-none"
        data-target="qbsearch-input.inputButton"
        aria-label="Search or jump to…"
        aria-haspopup="dialog"
        placeholder="Search or jump to..."
        data-hotkey=s,/
        autocapitalize="off"
        data-analytics-event="{&quot;location&quot;:&quot;navbar&quot;,&quot;action&quot;:&quot;searchbar&quot;,&quot;context&quot;:&quot;global&quot;,&quot;tag&quot;:&quot;input&quot;,&quot;label&quot;:&quot;searchbar_input_global_navbar&quot;}"
        data-action="click:qbsearch-input#handleExpand"
      >
        <div class="mr-2 color-fg-muted">
          <svg aria-hidden="true" height="16" viewBox="0 0 16 16" version="1.1" width="16" data-view-component="true" class="octicon octicon-search">
    <path d="M10.68 11.74a6 6 0 0 1-7.922-8.982 6 6 0 0 1 8.982 7.922l3.04 3.04a.749.749 0 0 1-.326 1.275.749.749 0 0 1-.734-.215ZM11.5 7a4.499 4.499 0 1 0-8.997 0A4.499 4.499 0 0 0 11.5 7Z"></path>
</svg>
        </div>
        <span class="flex-1" data-target="qbsearch-input.inputButtonText">Search or jump to...</span>
          <div class="d-flex" data-target="qbsearch-input.hotkeyIndicator">
            <svg xmlns="http://www.w3.org/2000/svg" width="22" height="20" aria-hidden="true" class="mr-1"><path fill="none" stroke="#979A9C" opacity=".4" d="M3.5.5h12c1.7 0 3 1.3 3 3v13c0 1.7-1.3 3-3 3h-12c-1.7 0-3-1.3-3-3v-13c0-1.7 1.3-3 3-3z"></path><path fill="#979A9C" d="M11.8 6L8 15.1h-.9L10.8 6h1z"></path></svg>

          </div>
      </button>

    <input type="hidden" name="type" class="js-site-search-type-field">

    
<div class="Overlay--hidden " data-modal-dialog-overlay>
  <modal-dialog data-action="close:qbsearch-input#handleClose cancel:qbsearch-input#handleClose" data-target="qbsearch-input.searchSuggestionsDialog" role="dialog" id="search-suggestions-dialog" aria-modal="true" aria-labelledby="search-suggestions-dialog-header" data-view-component="true" class="Overlay Overlay--width-large Overlay--height-auto">
      <h1 id="search-suggestions-dialog-header" class="sr-only">Search code, repositories, users, issues, pull requests...</h1>
    <div class="Overlay-body Overlay-body--paddingNone">
      
          <div data-view-component="true">        <div class="search-suggestions position-fixed width-full color-shadow-large border color-fg-default color-bg-default overflow-hidden d-flex flex-column query-builder-container"
          style="border-radius: 12px;"
          data-target="qbsearch-input.queryBuilderContainer"
          hidden
        >
          <!-- '"` --><!-- </textarea></xmp> --></option></form><form id="query-builder-test-form" action="" accept-charset="UTF-8" method="get">
  <query-builder data-target="qbsearch-input.queryBuilder" id="query-builder-query-builder-test" data-filter-key=":" data-view-component="true" class="QueryBuilder search-query-builder">
    <div class="FormControl FormControl--fullWidth">
      <label id="query-builder-test-label" for="query-builder-test" class="FormControl-label sr-only">
        Search
      </label>
      <div
        class="QueryBuilder-StyledInput width-fit "
        data-target="query-builder.styledInput"
      >
          <span id="query-builder-test-leadingvisual-wrap" class="FormControl-input-leadingVisualWrap QueryBuilder-leadingVisualWrap">
            <svg aria-hidden="true" height="16" viewBox="0 0 16 16" version="1.1" width="16" data-view-component="true" class="octicon octicon-search FormControl-input-leadingVisual">
    <path d="M10.68 11.74a6 6 0 0 1-7.922-8.982 6 6 0 0 1 8.982 7.922l3.04 3.04a.749.749 0 0 1-.326 1.275.749.749 0 0 1-.734-.215ZM11.5 7a4.499 4.499 0 1 0-8.997 0A4.499 4.499 0 0 0 11.5 7Z"></path>
</svg>
          </span>
        <div data-target="query-builder.styledInputContainer" class="QueryBuilder-StyledInputContainer">
          <div
            aria-hidden="true"
            class="QueryBuilder-StyledInputContent"
            data-target="query-builder.styledInputContent"
          ></div>
          <div class="QueryBuilder-InputWrapper">
            <div aria-hidden="true" class="QueryBuilder-Sizer" data-target="query-builder.sizer"></div>
            <input id="query-builder-test" name="query-builder-test" value="" autocomplete="off" type="text" role="combobox" spellcheck="false" aria-expanded="false" aria-describedby="validation-262289aa-02d2-47d6-b4bc-b645186885c4" data-target="query-builder.input" data-action="
          input:query-builder#inputChange
          blur:query-builder#inputBlur
          keydown:query-builder#inputKeydown
          focus:query-builder#inputFocus
        " data-view-component="true" class="FormControl-input QueryBuilder-Input FormControl-medium" />
          </div>
        </div>
          <span class="sr-only" id="query-builder-test-clear">Clear</span>
          <button role="button" id="query-builder-test-clear-button" aria-labelledby="query-builder-test-clear query-builder-test-label" data-target="query-builder.clearButton" data-action="
                click:query-builder#clear
                focus:query-builder#clearButtonFocus
                blur:query-builder#clearButtonBlur
              " variant="small" hidden="hidden" type="button" data-view-component="true" class="Button Button--iconOnly Button--invisible Button--medium mr-1 px-2 py-0 d-flex flex-items-center rounded-1 color-fg-muted">  <svg aria-hidden="true" height="16" viewBox="0 0 16 16" version="1.1" width="16" data-view-component="true" class="octicon octicon-x-circle-fill Button-visual">
    <path d="M2.343 13.657A8 8 0 1 1 13.658 2.343 8 8 0 0 1 2.343 13.657ZM6.03 4.97a.751.751 0 0 0-1.042.018.751.751 0 0 0-.018 1.042L6.94 8 4.97 9.97a.749.749 0 0 0 .326 1.275.749.749 0 0 0 .734-.215L8 9.06l1.97 1.97a.749.749 0 0 0 1.275-.326.749.749 0 0 0-.215-.734L9.06 8l1.97-1.97a.749.749 0 0 0-.326-1.275.749.749 0 0 0-.734.215L8 6.94Z"></path>
</svg>
</button>

      </div>
      <template id="search-icon">
  <svg aria-hidden="true" height="16" viewBox="0 0 16 16" version="1.1" width="16" data-view-component="true" class="octicon octicon-search">
    <path d="M10.68 11.74a6 6 0 0 1-7.922-8.982 6 6 0 0 1 8.982 7.922l3.04 3.04a.749.749 0 0 1-.326 1.275.749.749 0 0 1-.734-.215ZM11.5 7a4.499 4.499 0 1 0-8.997 0A4.499 4.499 0 0 0 11.5 7Z"></path>
</svg>
</template>

<template id="code-icon">
  <svg aria-hidden="true" height="16" viewBox="0 0 16 16" version="1.1" width="16" data-view-component="true" class="octicon octicon-code">
    <path d="m11.28 3.22 4.25 4.25a.75.75 0 0 1 0 1.06l-4.25 4.25a.749.749 0 0 1-1.275-.326.749.749 0 0 1 .215-.734L13.94 8l-3.72-3.72a.749.749 0 0 1 .326-1.275.749.749 0 0 1 .734.215Zm-6.56 0a.751.751 0 0 1 1.042.018.751.751 0 0 1 .018 1.042L2.06 8l3.72 3.72a.749.749 0 0 1-.326 1.275.749.749 0 0 1-.734-.215L.47 8.53a.75.75 0 0 1 0-1.06Z"></path>
</svg>
</template>

<template id="file-code-icon">
  <svg aria-hidden="true" height="16" viewBox="0 0 16 16" version="1.1" width="16" data-view-component="true" class="octicon octicon-file-code">
    <path d="M4 1.75C4 .784 4.784 0 5.75 0h5.586c.464 0 .909.184 1.237.513l2.914 2.914c.329.328.513.773.513 1.237v8.586A1.75 1.75 0 0 1 14.25 15h-9a.75.75 0 0 1 0-1.5h9a.25.25 0 0 0 .25-.25V6h-2.75A1.75 1.75 0 0 1 10 4.25V1.5H5.75a.25.25 0 0 0-.25.25v2.5a.75.75 0 0 1-1.5 0Zm1.72 4.97a.75.75 0 0 1 1.06 0l2 2a.75.75 0 0 1 0 1.06l-2 2a.749.749 0 0 1-1.275-.326.749.749 0 0 1 .215-.734l1.47-1.47-1.47-1.47a.75.75 0 0 1 0-1.06ZM3.28 7.78 1.81 9.25l1.47 1.47a.751.751 0 0 1-.018 1.042.751.751 0 0 1-1.042.018l-2-2a.75.75 0 0 1 0-1.06l2-2a.751.751 0 0 1 1.042.018.751.751 0 0 1 .018 1.042Zm8.22-6.218V4.25c0 .138.112.25.25.25h2.688l-.011-.013-2.914-2.914-.013-.011Z"></path>
</svg>
</template>

<template id="history-icon">
  <svg aria-hidden="true" height="16" viewBox="0 0 16 16" version="1.1" width="16" data-view-component="true" class="octicon octicon-history">
    <path d="m.427 1.927 1.215 1.215a8.002 8.002 0 1 1-1.6 5.685.75.75 0 1 1 1.493-.154 6.5 6.5 0 1 0 1.18-4.458l1.358 1.358A.25.25 0 0 1 3.896 6H.25A.25.25 0 0 1 0 5.75V2.104a.25.25 0 0 1 .427-.177ZM7.75 4a.75.75 0 0 1 .75.75v2.992l2.028.812a.75.75 0 0 1-.557 1.392l-2.5-1A.751.751 0 0 1 7 8.25v-3.5A.75.75 0 0 1 7.75 4Z"></path>
</svg>
</template>

<template id="repo-icon">
  <svg aria-hidden="true" height="16" viewBox="0 0 16 16" version="1.1" width="16" data-view-component="true" class="octicon octicon-repo">
    <path d="M2 2.5A2.5 2.5 0 0 1 4.5 0h8.75a.75.75 0 0 1 .75.75v12.5a.75.75 0 0 1-.75.75h-2.5a.75.75 0 0 1 0-1.5h1.75v-2h-8a1 1 0 0 0-.714 1.7.75.75 0 1 1-1.072 1.05A2.495 2.495 0 0 1 2 11.5Zm10.5-1h-8a1 1 0 0 0-1 1v6.708A2.486 2.486 0 0 1 4.5 9h8ZM5 12.25a.25.25 0 0 1 .25-.25h3.5a.25.25 0 0 1 .25.25v3.25a.25.25 0 0 1-.4.2l-1.45-1.087a.249.249 0 0 0-.3 0L5.4 15.7a.25.25 0 0 1-.4-.2Z"></path>
</svg>
</template>

<template id="bookmark-icon">
  <svg aria-hidden="true" height="16" viewBox="0 0 16 16" version="1.1" width="16" data-view-component="true" class="octicon octicon-bookmark">
    <path d="M3 2.75C3 1.784 3.784 1 4.75 1h6.5c.966 0 1.75.784 1.75 1.75v11.5a.75.75 0 0 1-1.227.579L8 11.722l-3.773 3.107A.751.751 0 0 1 3 14.25Zm1.75-.25a.25.25 0 0 0-.25.25v9.91l3.023-2.489a.75.75 0 0 1 .954 0l3.023 2.49V2.75a.25.25 0 0 0-.25-.25Z"></path>
</svg>
</template>

<template id="plus-circle-icon">
  <svg aria-hidden="true" height="16" viewBox="0 0 16 16" version="1.1" width="16" data-view-component="true" class="octicon octicon-plus-circle">
    <path d="M8 0a8 8 0 1 1 0 16A8 8 0 0 1 8 0ZM1.5 8a6.5 6.5 0 1 0 13 0 6.5 6.5 0 0 0-13 0Zm7.25-3.25v2.5h2.5a.75.75 0 0 1 0 1.5h-2.5v2.5a.75.75 0 0 1-1.5 0v-2.5h-2.5a.75.75 0 0 1 0-1.5h2.5v-2.5a.75.75 0 0 1 1.5 0Z"></path>
</svg>
</template>

<template id="circle-icon">
  <svg aria-hidden="true" height="16" viewBox="0 0 16 16" version="1.1" width="16" data-view-component="true" class="octicon octicon-dot-fill">
    <path d="M8 4a4 4 0 1 1 0 8 4 4 0 0 1 0-8Z"></path>
</svg>
</template>

<template id="trash-icon">
  <svg aria-hidden="true" height="16" viewBox="0 0 16 16" version="1.1" width="16" data-view-component="true" class="octicon octicon-trash">
    <path d="M11 1.75V3h2.25a.75.75 0 0 1 0 1.5H2.75a.75.75 0 0 1 0-1.5H5V1.75C5 .784 5.784 0 6.75 0h2.5C10.216 0 11 .784 11 1.75ZM4.496 6.675l.66 6.6a.25.25 0 0 0 .249.225h5.19a.25.25 0 0 0 .249-.225l.66-6.6a.75.75 0 0 1 1.492.149l-.66 6.6A1.748 1.748 0 0 1 10.595 15h-5.19a1.75 1.75 0 0 1-1.741-1.575l-.66-6.6a.75.75 0 1 1 1.492-.15ZM6.5 1.75V3h3V1.75a.25.25 0 0 0-.25-.25h-2.5a.25.25 0 0 0-.25.25Z"></path>
</svg>
</template>

<template id="team-icon">
  <svg aria-hidden="true" height="16" viewBox="0 0 16 16" version="1.1" width="16" data-view-component="true" class="octicon octicon-people">
    <path d="M2 5.5a3.5 3.5 0 1 1 5.898 2.549 5.508 5.508 0 0 1 3.034 4.084.75.75 0 1 1-1.482.235 4 4 0 0 0-7.9 0 .75.75 0 0 1-1.482-.236A5.507 5.507 0 0 1 3.102 8.05 3.493 3.493 0 0 1 2 5.5ZM11 4a3.001 3.001 0 0 1 2.22 5.018 5.01 5.01 0 0 1 2.56 3.012.749.749 0 0 1-.885.954.752.752 0 0 1-.549-.514 3.507 3.507 0 0 0-2.522-2.372.75.75 0 0 1-.574-.73v-.352a.75.75 0 0 1 .416-.672A1.5 1.5 0 0 0 11 5.5.75.75 0 0 1 11 4Zm-5.5-.5a2 2 0 1 0-.001 3.999A2 2 0 0 0 5.5 3.5Z"></path>
</svg>
</template>

<template id="project-icon">
  <svg aria-hidden="true" height="16" viewBox="0 0 16 16" version="1.1" width="16" data-view-component="true" class="octicon octicon-project">
    <path d="M1.75 0h12.5C15.216 0 16 .784 16 1.75v12.5A1.75 1.75 0 0 1 14.25 16H1.75A1.75 1.75 0 0 1 0 14.25V1.75C0 .784.784 0 1.75 0ZM1.5 1.75v12.5c0 .138.112.25.25.25h12.5a.25.25 0 0 0 .25-.25V1.75a.25.25 0 0 0-.25-.25H1.75a.25.25 0 0 0-.25.25ZM11.75 3a.75.75 0 0 1 .75.75v7.5a.75.75 0 0 1-1.5 0v-7.5a.75.75 0 0 1 .75-.75Zm-8.25.75a.75.75 0 0 1 1.5 0v5.5a.75.75 0 0 1-1.5 0ZM8 3a.75.75 0 0 1 .75.75v3.5a.75.75 0 0 1-1.5 0v-3.5A.75.75 0 0 1 8 3Z"></path>
</svg>
</template>

<template id="pencil-icon">
  <svg aria-hidden="true" height="16" viewBox="0 0 16 16" version="1.1" width="16" data-view-component="true" class="octicon octicon-pencil">
    <path d="M11.013 1.427a1.75 1.75 0 0 1 2.474 0l1.086 1.086a1.75 1.75 0 0 1 0 2.474l-8.61 8.61c-.21.21-.47.364-.756.445l-3.251.93a.75.75 0 0 1-.927-.928l.929-3.25c.081-.286.235-.547.445-.758l8.61-8.61Zm.176 4.823L9.75 4.81l-6.286 6.287a.253.253 0 0 0-.064.108l-.558 1.953 1.953-.558a.253.253 0 0 0 .108-.064Zm1.238-3.763a.25.25 0 0 0-.354 0L10.811 3.75l1.439 1.44 1.263-1.263a.25.25 0 0 0 0-.354Z"></path>
</svg>
</template>

<template id="copilot-icon">
  <svg aria-hidden="true" height="16" viewBox="0 0 16 16" version="1.1" width="16" data-view-component="true" class="octicon octicon-copilot">
    <path d="M7.998 15.035c-4.562 0-7.873-2.914-7.998-3.749V9.338c.085-.628.677-1.686 1.588-2.065.013-.07.024-.143.036-.218.029-.183.06-.384.126-.612-.201-.508-.254-1.084-.254-1.656 0-.87.128-1.769.693-2.484.579-.733 1.494-1.124 2.724-1.261 1.206-.134 2.262.034 2.944.765.05.053.096.108.139.165.044-.057.094-.112.143-.165.682-.731 1.738-.899 2.944-.765 1.23.137 2.145.528 2.724 1.261.566.715.693 1.614.693 2.484 0 .572-.053 1.148-.254 1.656.066.228.098.429.126.612.012.076.024.148.037.218.924.385 1.522 1.471 1.591 2.095v1.872c0 .766-3.351 3.795-8.002 3.795Zm0-1.485c2.28 0 4.584-1.11 5.002-1.433V7.862l-.023-.116c-.49.21-1.075.291-1.727.291-1.146 0-2.059-.327-2.71-.991A3.222 3.222 0 0 1 8 6.303a3.24 3.24 0 0 1-.544.743c-.65.664-1.563.991-2.71.991-.652 0-1.236-.081-1.727-.291l-.023.116v4.255c.419.323 2.722 1.433 5.002 1.433ZM6.762 2.83c-.193-.206-.637-.413-1.682-.297-1.019.113-1.479.404-1.713.7-.247.312-.369.789-.369 1.554 0 .793.129 1.171.308 1.371.162.181.519.379 1.442.379.853 0 1.339-.235 1.638-.54.315-.322.527-.827.617-1.553.117-.935-.037-1.395-.241-1.614Zm4.155-.297c-1.044-.116-1.488.091-1.681.297-.204.219-.359.679-.242 1.614.091.726.303 1.231.618 1.553.299.305.784.54 1.638.54.922 0 1.28-.198 1.442-.379.179-.2.308-.578.308-1.371 0-.765-.123-1.242-.37-1.554-.233-.296-.693-.587-1.713-.7Z"></path><path d="M6.25 9.037a.75.75 0 0 1 .75.75v1.501a.75.75 0 0 1-1.5 0V9.787a.75.75 0 0 1 .75-.75Zm4.25.75v1.501a.75.75 0 0 1-1.5 0V9.787a.75.75 0 0 1 1.5 0Z"></path>
</svg>
</template>

<template id="copilot-error-icon">
  <svg aria-hidden="true" height="16" viewBox="0 0 16 16" version="1.1" width="16" data-view-component="true" class="octicon octicon-copilot-error">
    <path d="M16 11.24c0 .112-.072.274-.21.467L13 9.688V7.862l-.023-.116c-.49.21-1.075.291-1.727.291-.198 0-.388-.009-.571-.029L6.833 5.226a4.01 4.01 0 0 0 .17-.782c.117-.935-.037-1.395-.241-1.614-.193-.206-.637-.413-1.682-.297-.683.076-1.115.231-1.395.415l-1.257-.91c.579-.564 1.413-.877 2.485-.996 1.206-.134 2.262.034 2.944.765.05.053.096.108.139.165.044-.057.094-.112.143-.165.682-.731 1.738-.899 2.944-.765 1.23.137 2.145.528 2.724 1.261.566.715.693 1.614.693 2.484 0 .572-.053 1.148-.254 1.656.066.228.098.429.126.612.012.076.024.148.037.218.924.385 1.522 1.471 1.591 2.095Zm-5.083-8.707c-1.044-.116-1.488.091-1.681.297-.204.219-.359.679-.242 1.614.091.726.303 1.231.618 1.553.299.305.784.54 1.638.54.922 0 1.28-.198 1.442-.379.179-.2.308-.578.308-1.371 0-.765-.123-1.242-.37-1.554-.233-.296-.693-.587-1.713-.7Zm2.511 11.074c-1.393.776-3.272 1.428-5.43 1.428-4.562 0-7.873-2.914-7.998-3.749V9.338c.085-.628.677-1.686 1.588-2.065.013-.07.024-.143.036-.218.029-.183.06-.384.126-.612-.18-.455-.241-.963-.252-1.475L.31 4.107A.747.747 0 0 1 0 3.509V3.49a.748.748 0 0 1 .625-.73c.156-.026.306.047.435.139l14.667 10.578a.592.592 0 0 1 .227.264.752.752 0 0 1 .046.249v.022a.75.75 0 0 1-1.19.596Zm-1.367-.991L5.635 7.964a5.128 5.128 0 0 1-.889.073c-.652 0-1.236-.081-1.727-.291l-.023.116v4.255c.419.323 2.722 1.433 5.002 1.433 1.539 0 3.089-.505 4.063-.934Z"></path>
</svg>
</template>

<template id="workflow-icon">
  <svg aria-hidden="true" height="16" viewBox="0 0 16 16" version="1.1" width="16" data-view-component="true" class="octicon octicon-workflow">
    <path d="M0 1.75C0 .784.784 0 1.75 0h3.5C6.216 0 7 .784 7 1.75v3.5A1.75 1.75 0 0 1 5.25 7H4v4a1 1 0 0 0 1 1h4v-1.25C9 9.784 9.784 9 10.75 9h3.5c.966 0 1.75.784 1.75 1.75v3.5A1.75 1.75 0 0 1 14.25 16h-3.5A1.75 1.75 0 0 1 9 14.25v-.75H5A2.5 2.5 0 0 1 2.5 11V7h-.75A1.75 1.75 0 0 1 0 5.25Zm1.75-.25a.25.25 0 0 0-.25.25v3.5c0 .138.112.25.25.25h3.5a.25.25 0 0 0 .25-.25v-3.5a.25.25 0 0 0-.25-.25Zm9 9a.25.25 0 0 0-.25.25v3.5c0 .138.112.25.25.25h3.5a.25.25 0 0 0 .25-.25v-3.5a.25.25 0 0 0-.25-.25Z"></path>
</svg>
</template>

<template id="book-icon">
  <svg aria-hidden="true" height="16" viewBox="0 0 16 16" version="1.1" width="16" data-view-component="true" class="octicon octicon-book">
    <path d="M0 1.75A.75.75 0 0 1 .75 1h4.253c1.227 0 2.317.59 3 1.501A3.743 3.743 0 0 1 11.006 1h4.245a.75.75 0 0 1 .75.75v10.5a.75.75 0 0 1-.75.75h-4.507a2.25 2.25 0 0 0-1.591.659l-.622.621a.75.75 0 0 1-1.06 0l-.622-.621A2.25 2.25 0 0 0 5.258 13H.75a.75.75 0 0 1-.75-.75Zm7.251 10.324.004-5.073-.002-2.253A2.25 2.25 0 0 0 5.003 2.5H1.5v9h3.757a3.75 3.75 0 0 1 1.994.574ZM8.755 4.75l-.004 7.322a3.752 3.752 0 0 1 1.992-.572H14.5v-9h-3.495a2.25 2.25 0 0 0-2.25 2.25Z"></path>
</svg>
</template>

<template id="code-review-icon">
  <svg aria-hidden="true" height="16" viewBox="0 0 16 16" version="1.1" width="16" data-view-component="true" class="octicon octicon-code-review">
    <path d="M1.75 1h12.5c.966 0 1.75.784 1.75 1.75v8.5A1.75 1.75 0 0 1 14.25 13H8.061l-2.574 2.573A1.458 1.458 0 0 1 3 14.543V13H1.75A1.75 1.75 0 0 1 0 11.25v-8.5C0 1.784.784 1 1.75 1ZM1.5 2.75v8.5c0 .138.112.25.25.25h2a.75.75 0 0 1 .75.75v2.19l2.72-2.72a.749.749 0 0 1 .53-.22h6.5a.25.25 0 0 0 .25-.25v-8.5a.25.25 0 0 0-.25-.25H1.75a.25.25 0 0 0-.25.25Zm5.28 1.72a.75.75 0 0 1 0 1.06L5.31 7l1.47 1.47a.751.751 0 0 1-.018 1.042.751.751 0 0 1-1.042.018l-2-2a.75.75 0 0 1 0-1.06l2-2a.75.75 0 0 1 1.06 0Zm2.44 0a.75.75 0 0 1 1.06 0l2 2a.75.75 0 0 1 0 1.06l-2 2a.751.751 0 0 1-1.042-.018.751.751 0 0 1-.018-1.042L10.69 7 9.22 5.53a.75.75 0 0 1 0-1.06Z"></path>
</svg>
</template>

<template id="codespaces-icon">
  <svg aria-hidden="true" height="16" viewBox="0 0 16 16" version="1.1" width="16" data-view-component="true" class="octicon octicon-codespaces">
    <path d="M0 11.25c0-.966.784-1.75 1.75-1.75h12.5c.966 0 1.75.784 1.75 1.75v3A1.75 1.75 0 0 1 14.25 16H1.75A1.75 1.75 0 0 1 0 14.25Zm2-9.5C2 .784 2.784 0 3.75 0h8.5C13.216 0 14 .784 14 1.75v5a1.75 1.75 0 0 1-1.75 1.75h-8.5A1.75 1.75 0 0 1 2 6.75Zm1.75-.25a.25.25 0 0 0-.25.25v5c0 .138.112.25.25.25h8.5a.25.25 0 0 0 .25-.25v-5a.25.25 0 0 0-.25-.25Zm-2 9.5a.25.25 0 0 0-.25.25v3c0 .138.112.25.25.25h12.5a.25.25 0 0 0 .25-.25v-3a.25.25 0 0 0-.25-.25Z"></path><path d="M7 12.75a.75.75 0 0 1 .75-.75h4.5a.75.75 0 0 1 0 1.5h-4.5a.75.75 0 0 1-.75-.75Zm-4 0a.75.75 0 0 1 .75-.75h.5a.75.75 0 0 1 0 1.5h-.5a.75.75 0 0 1-.75-.75Z"></path>
</svg>
</template>

<template id="comment-icon">
  <svg aria-hidden="true" height="16" viewBox="0 0 16 16" version="1.1" width="16" data-view-component="true" class="octicon octicon-comment">
    <path d="M1 2.75C1 1.784 1.784 1 2.75 1h10.5c.966 0 1.75.784 1.75 1.75v7.5A1.75 1.75 0 0 1 13.25 12H9.06l-2.573 2.573A1.458 1.458 0 0 1 4 13.543V12H2.75A1.75 1.75 0 0 1 1 10.25Zm1.75-.25a.25.25 0 0 0-.25.25v7.5c0 .138.112.25.25.25h2a.75.75 0 0 1 .75.75v2.19l2.72-2.72a.749.749 0 0 1 .53-.22h4.5a.25.25 0 0 0 .25-.25v-7.5a.25.25 0 0 0-.25-.25Z"></path>
</svg>
</template>

<template id="comment-discussion-icon">
  <svg aria-hidden="true" height="16" viewBox="0 0 16 16" version="1.1" width="16" data-view-component="true" class="octicon octicon-comment-discussion">
    <path d="M1.75 1h8.5c.966 0 1.75.784 1.75 1.75v5.5A1.75 1.75 0 0 1 10.25 10H7.061l-2.574 2.573A1.458 1.458 0 0 1 2 11.543V10h-.25A1.75 1.75 0 0 1 0 8.25v-5.5C0 1.784.784 1 1.75 1ZM1.5 2.75v5.5c0 .138.112.25.25.25h1a.75.75 0 0 1 .75.75v2.19l2.72-2.72a.749.749 0 0 1 .53-.22h3.5a.25.25 0 0 0 .25-.25v-5.5a.25.25 0 0 0-.25-.25h-8.5a.25.25 0 0 0-.25.25Zm13 2a.25.25 0 0 0-.25-.25h-.5a.75.75 0 0 1 0-1.5h.5c.966 0 1.75.784 1.75 1.75v5.5A1.75 1.75 0 0 1 14.25 12H14v1.543a1.458 1.458 0 0 1-2.487 1.03L9.22 12.28a.749.749 0 0 1 .326-1.275.749.749 0 0 1 .734.215l2.22 2.22v-2.19a.75.75 0 0 1 .75-.75h1a.25.25 0 0 0 .25-.25Z"></path>
</svg>
</template>

<template id="organization-icon">
  <svg aria-hidden="true" height="16" viewBox="0 0 16 16" version="1.1" width="16" data-view-component="true" class="octicon octicon-organization">
    <path d="M1.75 16A1.75 1.75 0 0 1 0 14.25V1.75C0 .784.784 0 1.75 0h8.5C11.216 0 12 .784 12 1.75v12.5c0 .085-.006.168-.018.25h2.268a.25.25 0 0 0 .25-.25V8.285a.25.25 0 0 0-.111-.208l-1.055-.703a.749.749 0 1 1 .832-1.248l1.055.703c.487.325.779.871.779 1.456v5.965A1.75 1.75 0 0 1 14.25 16h-3.5a.766.766 0 0 1-.197-.026c-.099.017-.2.026-.303.026h-3a.75.75 0 0 1-.75-.75V14h-1v1.25a.75.75 0 0 1-.75.75Zm-.25-1.75c0 .138.112.25.25.25H4v-1.25a.75.75 0 0 1 .75-.75h2.5a.75.75 0 0 1 .75.75v1.25h2.25a.25.25 0 0 0 .25-.25V1.75a.25.25 0 0 0-.25-.25h-8.5a.25.25 0 0 0-.25.25ZM3.75 6h.5a.75.75 0 0 1 0 1.5h-.5a.75.75 0 0 1 0-1.5ZM3 3.75A.75.75 0 0 1 3.75 3h.5a.75.75 0 0 1 0 1.5h-.5A.75.75 0 0 1 3 3.75Zm4 3A.75.75 0 0 1 7.75 6h.5a.75.75 0 0 1 0 1.5h-.5A.75.75 0 0 1 7 6.75ZM7.75 3h.5a.75.75 0 0 1 0 1.5h-.5a.75.75 0 0 1 0-1.5ZM3 9.75A.75.75 0 0 1 3.75 9h.5a.75.75 0 0 1 0 1.5h-.5A.75.75 0 0 1 3 9.75ZM7.75 9h.5a.75.75 0 0 1 0 1.5h-.5a.75.75 0 0 1 0-1.5Z"></path>
</svg>
</template>

<template id="rocket-icon">
  <svg aria-hidden="true" height="16" viewBox="0 0 16 16" version="1.1" width="16" data-view-component="true" class="octicon octicon-rocket">
    <path d="M14.064 0h.186C15.216 0 16 .784 16 1.75v.186a8.752 8.752 0 0 1-2.564 6.186l-.458.459c-.314.314-.641.616-.979.904v3.207c0 .608-.315 1.172-.833 1.49l-2.774 1.707a.749.749 0 0 1-1.11-.418l-.954-3.102a1.214 1.214 0 0 1-.145-.125L3.754 9.816a1.218 1.218 0 0 1-.124-.145L.528 8.717a.749.749 0 0 1-.418-1.11l1.71-2.774A1.748 1.748 0 0 1 3.31 4h3.204c.288-.338.59-.665.904-.979l.459-.458A8.749 8.749 0 0 1 14.064 0ZM8.938 3.623h-.002l-.458.458c-.76.76-1.437 1.598-2.02 2.5l-1.5 2.317 2.143 2.143 2.317-1.5c.902-.583 1.74-1.26 2.499-2.02l.459-.458a7.25 7.25 0 0 0 2.123-5.127V1.75a.25.25 0 0 0-.25-.25h-.186a7.249 7.249 0 0 0-5.125 2.123ZM3.56 14.56c-.732.732-2.334 1.045-3.005 1.148a.234.234 0 0 1-.201-.064.234.234 0 0 1-.064-.201c.103-.671.416-2.273 1.15-3.003a1.502 1.502 0 1 1 2.12 2.12Zm6.94-3.935c-.088.06-.177.118-.266.175l-2.35 1.521.548 1.783 1.949-1.2a.25.25 0 0 0 .119-.213ZM3.678 8.116 5.2 5.766c.058-.09.117-.178.176-.266H3.309a.25.25 0 0 0-.213.119l-1.2 1.95ZM12 5a1 1 0 1 1-2 0 1 1 0 0 1 2 0Z"></path>
</svg>
</template>

<template id="shield-check-icon">
  <svg aria-hidden="true" height="16" viewBox="0 0 16 16" version="1.1" width="16" data-view-component="true" class="octicon octicon-shield-check">
    <path d="m8.533.133 5.25 1.68A1.75 1.75 0 0 1 15 3.48V7c0 1.566-.32 3.182-1.303 4.682-.983 1.498-2.585 2.813-5.032 3.855a1.697 1.697 0 0 1-1.33 0c-2.447-1.042-4.049-2.357-5.032-3.855C1.32 10.182 1 8.566 1 7V3.48a1.75 1.75 0 0 1 1.217-1.667l5.25-1.68a1.748 1.748 0 0 1 1.066 0Zm-.61 1.429.001.001-5.25 1.68a.251.251 0 0 0-.174.237V7c0 1.36.275 2.666 1.057 3.859.784 1.194 2.121 2.342 4.366 3.298a.196.196 0 0 0 .154 0c2.245-.957 3.582-2.103 4.366-3.297C13.225 9.666 13.5 8.358 13.5 7V3.48a.25.25 0 0 0-.174-.238l-5.25-1.68a.25.25 0 0 0-.153 0ZM11.28 6.28l-3.5 3.5a.75.75 0 0 1-1.06 0l-1.5-1.5a.749.749 0 0 1 .326-1.275.749.749 0 0 1 .734.215l.97.97 2.97-2.97a.751.751 0 0 1 1.042.018.751.751 0 0 1 .018 1.042Z"></path>
</svg>
</template>

<template id="heart-icon">
  <svg aria-hidden="true" height="16" viewBox="0 0 16 16" version="1.1" width="16" data-view-component="true" class="octicon octicon-heart">
    <path d="m8 14.25.345.666a.75.75 0 0 1-.69 0l-.008-.004-.018-.01a7.152 7.152 0 0 1-.31-.17 22.055 22.055 0 0 1-3.434-2.414C2.045 10.731 0 8.35 0 5.5 0 2.836 2.086 1 4.25 1 5.797 1 7.153 1.802 8 3.02 8.847 1.802 10.203 1 11.75 1 13.914 1 16 2.836 16 5.5c0 2.85-2.045 5.231-3.885 6.818a22.066 22.066 0 0 1-3.744 2.584l-.018.01-.006.003h-.002ZM4.25 2.5c-1.336 0-2.75 1.164-2.75 3 0 2.15 1.58 4.144 3.365 5.682A20.58 20.58 0 0 0 8 13.393a20.58 20.58 0 0 0 3.135-2.211C12.92 9.644 14.5 7.65 14.5 5.5c0-1.836-1.414-3-2.75-3-1.373 0-2.609.986-3.029 2.456a.749.749 0 0 1-1.442 0C6.859 3.486 5.623 2.5 4.25 2.5Z"></path>
</svg>
</template>

<template id="server-icon">
  <svg aria-hidden="true" height="16" viewBox="0 0 16 16" version="1.1" width="16" data-view-component="true" class="octicon octicon-server">
    <path d="M1.75 1h12.5c.966 0 1.75.784 1.75 1.75v4c0 .372-.116.717-.314 1 .198.283.314.628.314 1v4a1.75 1.75 0 0 1-1.75 1.75H1.75A1.75 1.75 0 0 1 0 12.75v-4c0-.358.109-.707.314-1a1.739 1.739 0 0 1-.314-1v-4C0 1.784.784 1 1.75 1ZM1.5 2.75v4c0 .138.112.25.25.25h12.5a.25.25 0 0 0 .25-.25v-4a.25.25 0 0 0-.25-.25H1.75a.25.25 0 0 0-.25.25Zm.25 5.75a.25.25 0 0 0-.25.25v4c0 .138.112.25.25.25h12.5a.25.25 0 0 0 .25-.25v-4a.25.25 0 0 0-.25-.25ZM7 4.75A.75.75 0 0 1 7.75 4h4.5a.75.75 0 0 1 0 1.5h-4.5A.75.75 0 0 1 7 4.75ZM7.75 10h4.5a.75.75 0 0 1 0 1.5h-4.5a.75.75 0 0 1 0-1.5ZM3 4.75A.75.75 0 0 1 3.75 4h.5a.75.75 0 0 1 0 1.5h-.5A.75.75 0 0 1 3 4.75ZM3.75 10h.5a.75.75 0 0 1 0 1.5h-.5a.75.75 0 0 1 0-1.5Z"></path>
</svg>
</template>

<template id="globe-icon">
  <svg aria-hidden="true" height="16" viewBox="0 0 16 16" version="1.1" width="16" data-view-component="true" class="octicon octicon-globe">
    <path d="M8 0a8 8 0 1 1 0 16A8 8 0 0 1 8 0ZM5.78 8.75a9.64 9.64 0 0 0 1.363 4.177c.255.426.542.832.857 1.215.245-.296.551-.705.857-1.215A9.64 9.64 0 0 0 10.22 8.75Zm4.44-1.5a9.64 9.64 0 0 0-1.363-4.177c-.307-.51-.612-.919-.857-1.215a9.927 9.927 0 0 0-.857 1.215A9.64 9.64 0 0 0 5.78 7.25Zm-5.944 1.5H1.543a6.507 6.507 0 0 0 4.666 5.5c-.123-.181-.24-.365-.352-.552-.715-1.192-1.437-2.874-1.581-4.948Zm-2.733-1.5h2.733c.144-2.074.866-3.756 1.58-4.948.12-.197.237-.381.353-.552a6.507 6.507 0 0 0-4.666 5.5Zm10.181 1.5c-.144 2.074-.866 3.756-1.58 4.948-.12.197-.237.381-.353.552a6.507 6.507 0 0 0 4.666-5.5Zm2.733-1.5a6.507 6.507 0 0 0-4.666-5.5c.123.181.24.365.353.552.714 1.192 1.436 2.874 1.58 4.948Z"></path>
</svg>
</template>

<template id="issue-opened-icon">
  <svg aria-hidden="true" height="16" viewBox="0 0 16 16" version="1.1" width="16" data-view-component="true" class="octicon octicon-issue-opened">
    <path d="M8 9.5a1.5 1.5 0 1 0 0-3 1.5 1.5 0 0 0 0 3Z"></path><path d="M8 0a8 8 0 1 1 0 16A8 8 0 0 1 8 0ZM1.5 8a6.5 6.5 0 1 0 13 0 6.5 6.5 0 0 0-13 0Z"></path>
</svg>
</template>

<template id="device-mobile-icon">
  <svg aria-hidden="true" height="16" viewBox="0 0 16 16" version="1.1" width="16" data-view-component="true" class="octicon octicon-device-mobile">
    <path d="M3.75 0h8.5C13.216 0 14 .784 14 1.75v12.5A1.75 1.75 0 0 1 12.25 16h-8.5A1.75 1.75 0 0 1 2 14.25V1.75C2 .784 2.784 0 3.75 0ZM3.5 1.75v12.5c0 .138.112.25.25.25h8.5a.25.25 0 0 0 .25-.25V1.75a.25.25 0 0 0-.25-.25h-8.5a.25.25 0 0 0-.25.25ZM8 13a1 1 0 1 1 0-2 1 1 0 0 1 0 2Z"></path>
</svg>
</template>

<template id="package-icon">
  <svg aria-hidden="true" height="16" viewBox="0 0 16 16" version="1.1" width="16" data-view-component="true" class="octicon octicon-package">
    <path d="m8.878.392 5.25 3.045c.54.314.872.89.872 1.514v6.098a1.75 1.75 0 0 1-.872 1.514l-5.25 3.045a1.75 1.75 0 0 1-1.756 0l-5.25-3.045A1.75 1.75 0 0 1 1 11.049V4.951c0-.624.332-1.201.872-1.514L7.122.392a1.75 1.75 0 0 1 1.756 0ZM7.875 1.69l-4.63 2.685L8 7.133l4.755-2.758-4.63-2.685a.248.248 0 0 0-.25 0ZM2.5 5.677v5.372c0 .09.047.171.125.216l4.625 2.683V8.432Zm6.25 8.271 4.625-2.683a.25.25 0 0 0 .125-.216V5.677L8.75 8.432Z"></path>
</svg>
</template>

<template id="credit-card-icon">
  <svg aria-hidden="true" height="16" viewBox="0 0 16 16" version="1.1" width="16" data-view-component="true" class="octicon octicon-credit-card">
    <path d="M10.75 9a.75.75 0 0 0 0 1.5h1.5a.75.75 0 0 0 0-1.5h-1.5Z"></path><path d="M0 3.75C0 2.784.784 2 1.75 2h12.5c.966 0 1.75.784 1.75 1.75v8.5A1.75 1.75 0 0 1 14.25 14H1.75A1.75 1.75 0 0 1 0 12.25ZM14.5 6.5h-13v5.75c0 .138.112.25.25.25h12.5a.25.25 0 0 0 .25-.25Zm0-2.75a.25.25 0 0 0-.25-.25H1.75a.25.25 0 0 0-.25.25V5h13Z"></path>
</svg>
</template>

<template id="play-icon">
  <svg aria-hidden="true" height="16" viewBox="0 0 16 16" version="1.1" width="16" data-view-component="true" class="octicon octicon-play">
    <path d="M8 0a8 8 0 1 1 0 16A8 8 0 0 1 8 0ZM1.5 8a6.5 6.5 0 1 0 13 0 6.5 6.5 0 0 0-13 0Zm4.879-2.773 4.264 2.559a.25.25 0 0 1 0 .428l-4.264 2.559A.25.25 0 0 1 6 10.559V5.442a.25.25 0 0 1 .379-.215Z"></path>
</svg>
</template>

<template id="gift-icon">
  <svg aria-hidden="true" height="16" viewBox="0 0 16 16" version="1.1" width="16" data-view-component="true" class="octicon octicon-gift">
    <path d="M2 2.75A2.75 2.75 0 0 1 4.75 0c.983 0 1.873.42 2.57 1.232.268.318.497.668.68 1.042.183-.375.411-.725.68-1.044C9.376.42 10.266 0 11.25 0a2.75 2.75 0 0 1 2.45 4h.55c.966 0 1.75.784 1.75 1.75v2c0 .698-.409 1.301-1 1.582v4.918A1.75 1.75 0 0 1 13.25 16H2.75A1.75 1.75 0 0 1 1 14.25V9.332C.409 9.05 0 8.448 0 7.75v-2C0 4.784.784 4 1.75 4h.55c-.192-.375-.3-.8-.3-1.25ZM7.25 9.5H2.5v4.75c0 .138.112.25.25.25h4.5Zm1.5 0v5h4.5a.25.25 0 0 0 .25-.25V9.5Zm0-4V8h5.5a.25.25 0 0 0 .25-.25v-2a.25.25 0 0 0-.25-.25Zm-7 0a.25.25 0 0 0-.25.25v2c0 .138.112.25.25.25h5.5V5.5h-5.5Zm3-4a1.25 1.25 0 0 0 0 2.5h2.309c-.233-.818-.542-1.401-.878-1.793-.43-.502-.915-.707-1.431-.707ZM8.941 4h2.309a1.25 1.25 0 0 0 0-2.5c-.516 0-1 .205-1.43.707-.337.392-.646.975-.879 1.793Z"></path>
</svg>
</template>

<template id="code-square-icon">
  <svg aria-hidden="true" height="16" viewBox="0 0 16 16" version="1.1" width="16" data-view-component="true" class="octicon octicon-code-square">
    <path d="M0 1.75C0 .784.784 0 1.75 0h12.5C15.216 0 16 .784 16 1.75v12.5A1.75 1.75 0 0 1 14.25 16H1.75A1.75 1.75 0 0 1 0 14.25Zm1.75-.25a.25.25 0 0 0-.25.25v12.5c0 .138.112.25.25.25h12.5a.25.25 0 0 0 .25-.25V1.75a.25.25 0 0 0-.25-.25Zm7.47 3.97a.75.75 0 0 1 1.06 0l2 2a.75.75 0 0 1 0 1.06l-2 2a.749.749 0 0 1-1.275-.326.749.749 0 0 1 .215-.734L10.69 8 9.22 6.53a.75.75 0 0 1 0-1.06ZM6.78 6.53 5.31 8l1.47 1.47a.749.749 0 0 1-.326 1.275.749.749 0 0 1-.734-.215l-2-2a.75.75 0 0 1 0-1.06l2-2a.751.751 0 0 1 1.042.018.751.751 0 0 1 .018 1.042Z"></path>
</svg>
</template>

<template id="device-desktop-icon">
  <svg aria-hidden="true" height="16" viewBox="0 0 16 16" version="1.1" width="16" data-view-component="true" class="octicon octicon-device-desktop">
    <path d="M14.25 1c.966 0 1.75.784 1.75 1.75v7.5A1.75 1.75 0 0 1 14.25 12h-3.727c.099 1.041.52 1.872 1.292 2.757A.752.752 0 0 1 11.25 16h-6.5a.75.75 0 0 1-.565-1.243c.772-.885 1.192-1.716 1.292-2.757H1.75A1.75 1.75 0 0 1 0 10.25v-7.5C0 1.784.784 1 1.75 1ZM1.75 2.5a.25.25 0 0 0-.25.25v7.5c0 .138.112.25.25.25h12.5a.25.25 0 0 0 .25-.25v-7.5a.25.25 0 0 0-.25-.25ZM9.018 12H6.982a5.72 5.72 0 0 1-.765 2.5h3.566a5.72 5.72 0 0 1-.765-2.5Z"></path>
</svg>
</template>

        <div class="position-relative">
                <ul
                  role="listbox"
                  class="ActionListWrap QueryBuilder-ListWrap"
                  aria-label="Suggestions"
                  data-action="
                    combobox-commit:query-builder#comboboxCommit
                    mousedown:query-builder#resultsMousedown
                  "
                  data-target="query-builder.resultsList"
                  data-persist-list=false
                  id="query-builder-test-results"
                ></ul>
        </div>
      <div class="FormControl-inlineValidation" id="validation-262289aa-02d2-47d6-b4bc-b645186885c4" hidden="hidden">
        <span class="FormControl-inlineValidation--visual">
          <svg aria-hidden="true" height="12" viewBox="0 0 12 12" version="1.1" width="12" data-view-component="true" class="octicon octicon-alert-fill">
    <path d="M4.855.708c.5-.896 1.79-.896 2.29 0l4.675 8.351a1.312 1.312 0 0 1-1.146 1.954H1.33A1.313 1.313 0 0 1 .183 9.058ZM7 7V3H5v4Zm-1 3a1 1 0 1 0 0-2 1 1 0 0 0 0 2Z"></path>
</svg>
        </span>
        <span></span>
</div>    </div>
    <div data-target="query-builder.screenReaderFeedback" aria-live="polite" aria-atomic="true" class="sr-only"></div>
</query-builder></form>
          <div class="d-flex flex-row color-fg-muted px-3 text-small color-bg-default search-feedback-prompt">
            <a target="_blank" href="https://docs.github.com/search-github/github-code-search/understanding-github-code-search-syntax" data-view-component="true" class="Link color-fg-accent text-normal ml-2">
              Search syntax tips
</a>            <div class="d-flex flex-1"></div>
          </div>
        </div>
</div>

    </div>
</modal-dialog></div>
  </div>
  <div data-action="click:qbsearch-input#retract" class="dark-backdrop position-fixed" hidden data-target="qbsearch-input.darkBackdrop"></div>
  <div class="color-fg-default">
    
<dialog-helper>
  <dialog data-target="qbsearch-input.feedbackDialog" data-action="close:qbsearch-input#handleDialogClose cancel:qbsearch-input#handleDialogClose" id="feedback-dialog" aria-modal="true" aria-labelledby="feedback-dialog-title" aria-describedby="feedback-dialog-description" data-view-component="true" class="Overlay Overlay-whenNarrow Overlay--size-medium Overlay--motion-scaleFade">
    <div data-view-component="true" class="Overlay-header">
  <div class="Overlay-headerContentWrap">
    <div class="Overlay-titleWrap">
      <h1 class="Overlay-title " id="feedback-dialog-title">
        Provide feedback
      </h1>
        
    </div>
    <div class="Overlay-actionWrap">
      <button data-close-dialog-id="feedback-dialog" aria-label="Close" type="button" data-view-component="true" class="close-button Overlay-closeButton"><svg aria-hidden="true" height="16" viewBox="0 0 16 16" version="1.1" width="16" data-view-component="true" class="octicon octicon-x">
    <path d="M3.72 3.72a.75.75 0 0 1 1.06 0L8 6.94l3.22-3.22a.749.749 0 0 1 1.275.326.749.749 0 0 1-.215.734L9.06 8l3.22 3.22a.749.749 0 0 1-.326 1.275.749.749 0 0 1-.734-.215L8 9.06l-3.22 3.22a.751.751 0 0 1-1.042-.018.751.751 0 0 1-.018-1.042L6.94 8 3.72 4.78a.75.75 0 0 1 0-1.06Z"></path>
</svg></button>
    </div>
  </div>
  
</div>
      <scrollable-region data-labelled-by="feedback-dialog-title">
        <div data-view-component="true" class="Overlay-body">        <!-- '"` --><!-- </textarea></xmp> --></option></form><form id="code-search-feedback-form" data-turbo="false" action="/search/feedback" accept-charset="UTF-8" method="post"><input type="hidden" data-csrf="true" name="authenticity_token" value="uJxX1MCw9mdgYI942OGh7lfpR2+rGUEad1AohJhKuGWqr2FVDvh5Ku7X5gGjfmrd0pTCBTGWLap+Psa7sTmsaw==" />
          <p>We read every piece of feedback, and take your input very seriously.</p>
          <textarea name="feedback" class="form-control width-full mb-2" style="height: 120px" id="feedback"></textarea>
          <input name="include_email" id="include_email" aria-label="Include my email address so I can be contacted" class="form-control mr-2" type="checkbox">
          <label for="include_email" style="font-weight: normal">Include my email address so I can be contacted</label>
</form></div>
      </scrollable-region>
      <div data-view-component="true" class="Overlay-footer Overlay-footer--alignEnd">          <button data-close-dialog-id="feedback-dialog" type="button" data-view-component="true" class="btn">    Cancel
</button>
          <button form="code-search-feedback-form" data-action="click:qbsearch-input#submitFeedback" type="submit" data-view-component="true" class="btn-primary btn">    Submit feedback
</button>
</div>
</dialog></dialog-helper>

    <custom-scopes data-target="qbsearch-input.customScopesManager">
    
<dialog-helper>
  <dialog data-target="custom-scopes.customScopesModalDialog" data-action="close:qbsearch-input#handleDialogClose cancel:qbsearch-input#handleDialogClose" id="custom-scopes-dialog" aria-modal="true" aria-labelledby="custom-scopes-dialog-title" aria-describedby="custom-scopes-dialog-description" data-view-component="true" class="Overlay Overlay-whenNarrow Overlay--size-medium Overlay--motion-scaleFade">
    <div data-view-component="true" class="Overlay-header Overlay-header--divided">
  <div class="Overlay-headerContentWrap">
    <div class="Overlay-titleWrap">
      <h1 class="Overlay-title " id="custom-scopes-dialog-title">
        Saved searches
      </h1>
        <h2 id="custom-scopes-dialog-description" class="Overlay-description">Use saved searches to filter your results more quickly</h2>
    </div>
    <div class="Overlay-actionWrap">
      <button data-close-dialog-id="custom-scopes-dialog" aria-label="Close" type="button" data-view-component="true" class="close-button Overlay-closeButton"><svg aria-hidden="true" height="16" viewBox="0 0 16 16" version="1.1" width="16" data-view-component="true" class="octicon octicon-x">
    <path d="M3.72 3.72a.75.75 0 0 1 1.06 0L8 6.94l3.22-3.22a.749.749 0 0 1 1.275.326.749.749 0 0 1-.215.734L9.06 8l3.22 3.22a.749.749 0 0 1-.326 1.275.749.749 0 0 1-.734-.215L8 9.06l-3.22 3.22a.751.751 0 0 1-1.042-.018.751.751 0 0 1-.018-1.042L6.94 8 3.72 4.78a.75.75 0 0 1 0-1.06Z"></path>
</svg></button>
    </div>
  </div>
  
</div>
      <scrollable-region data-labelled-by="custom-scopes-dialog-title">
        <div data-view-component="true" class="Overlay-body">        <div data-target="custom-scopes.customScopesModalDialogFlash"></div>

        <div hidden class="create-custom-scope-form" data-target="custom-scopes.createCustomScopeForm">
        <!-- '"` --><!-- </textarea></xmp> --></option></form><form id="custom-scopes-dialog-form" data-turbo="false" action="/search/custom_scopes" accept-charset="UTF-8" method="post"><input type="hidden" data-csrf="true" name="authenticity_token" value="gq/ez/mFOm60G53LmATx/cEVfnDptlfDd0pP6YJ7EYcwaTWCPY1ZmXeTgOwRXlEislpfd05lDzCooTpGbzHJYg==" />
          <div data-target="custom-scopes.customScopesModalDialogFlash"></div>

          <input type="hidden" id="custom_scope_id" name="custom_scope_id" data-target="custom-scopes.customScopesIdField">

          <div class="form-group">
            <label for="custom_scope_name">Name</label>
            <auto-check src="/search/custom_scopes/check_name" required>
              <input
                type="text"
                name="custom_scope_name"
                id="custom_scope_name"
                data-target="custom-scopes.customScopesNameField"
                class="form-control"
                autocomplete="off"
                placeholder="github-ruby"
                required
                maxlength="50">
              <input type="hidden" data-csrf="true" value="OLbeiC7qZYVq7kjwP2M3XMGn22W/fE9G/HdJJld17J6JmZJ8cyFT8o/5jOh+kwiV8fggpb6A/wyHYd78GzLBXA==" />
            </auto-check>
          </div>

          <div class="form-group">
            <label for="custom_scope_query">Query</label>
            <input
              type="text"
              name="custom_scope_query"
              id="custom_scope_query"
              data-target="custom-scopes.customScopesQueryField"
              class="form-control"
              autocomplete="off"
              placeholder="(repo:mona/a OR repo:mona/b) AND lang:python"
              required
              maxlength="500">
          </div>

          <p class="text-small color-fg-muted">
            To see all available qualifiers, see our <a class="Link--inTextBlock" href="https://docs.github.com/search-github/github-code-search/understanding-github-code-search-syntax">documentation</a>.
          </p>
</form>        </div>

        <div data-target="custom-scopes.manageCustomScopesForm">
          <div data-target="custom-scopes.list"></div>
        </div>

</div>
      </scrollable-region>
      <div data-view-component="true" class="Overlay-footer Overlay-footer--alignEnd Overlay-footer--divided">          <button data-action="click:custom-scopes#customScopesCancel" type="button" data-view-component="true" class="btn">    Cancel
</button>
          <button form="custom-scopes-dialog-form" data-action="click:custom-scopes#customScopesSubmit" data-target="custom-scopes.customScopesSubmitButton" type="submit" data-view-component="true" class="btn-primary btn">    Create saved search
</button>
</div>
</dialog></dialog-helper>
    </custom-scopes>
  </div>
</qbsearch-input>

            <div class="position-relative HeaderMenu-link-wrap d-lg-inline-block">
              <a
                href="/login?return_to=https%3A%2F%2Fgithub.com%2Frubin-dp0%2Ftutorial-notebooks%2Fblob%2F9182688346c2e65f98aa77d51d1dbcccc604c410%2FDP03_01_Introduccion_a_DP03_ES.ipynb"
                class="HeaderMenu-link HeaderMenu-link--sign-in HeaderMenu-button flex-shrink-0 no-underline d-none d-lg-inline-flex border border-lg-0 rounded rounded-lg-0 px-2 py-1"
                style="margin-left: 12px;"
                data-hydro-click="{&quot;event_type&quot;:&quot;authentication.click&quot;,&quot;payload&quot;:{&quot;location_in_page&quot;:&quot;site header menu&quot;,&quot;repository_id&quot;:null,&quot;auth_type&quot;:&quot;SIGN_UP&quot;,&quot;originating_url&quot;:&quot;https://github.com/rubin-dp0/tutorial-notebooks/blob/9182688346c2e65f98aa77d51d1dbcccc604c410/DP03_01_Introduccion_a_DP03_ES.ipynb&quot;,&quot;user_id&quot;:null}}" data-hydro-click-hmac="1034c8718f2799d65fe23db6173b744d6f35279f238f32d78546dc22ffdec779"
                data-analytics-event="{&quot;category&quot;:&quot;Marketing nav&quot;,&quot;action&quot;:&quot;click to go to homepage&quot;,&quot;label&quot;:&quot;ref_page:Marketing;ref_cta:Sign in;ref_loc:Header&quot;}"
              >
                Sign in
              </a>
            </div>

              <a href="/signup?ref_cta=Sign+up&amp;ref_loc=header+logged+out&amp;ref_page=%2F%3Cuser-name%3E%2F%3Crepo-name%3E%2Fblob%2Fshow&amp;source=header-repo&amp;source_repo=rubin-dp0%2Ftutorial-notebooks"
                class="HeaderMenu-link HeaderMenu-link--sign-up HeaderMenu-button flex-shrink-0 d-flex d-lg-inline-flex no-underline border color-border-default rounded px-2 py-1"
                data-hydro-click="{&quot;event_type&quot;:&quot;authentication.click&quot;,&quot;payload&quot;:{&quot;location_in_page&quot;:&quot;site header menu&quot;,&quot;repository_id&quot;:null,&quot;auth_type&quot;:&quot;SIGN_UP&quot;,&quot;originating_url&quot;:&quot;https://github.com/rubin-dp0/tutorial-notebooks/blob/9182688346c2e65f98aa77d51d1dbcccc604c410/DP03_01_Introduccion_a_DP03_ES.ipynb&quot;,&quot;user_id&quot;:null}}" data-hydro-click-hmac="1034c8718f2799d65fe23db6173b744d6f35279f238f32d78546dc22ffdec779"
                data-analytics-event="{&quot;category&quot;:&quot;Sign up&quot;,&quot;action&quot;:&quot;click to sign up for account&quot;,&quot;label&quot;:&quot;ref_page:/&lt;user-name&gt;/&lt;repo-name&gt;/blob/show;ref_cta:Sign up;ref_loc:header logged out&quot;}"
              >
                Sign up
              </a>
          <button type="button" class="sr-only js-header-menu-focus-trap d-block d-lg-none">Reseting focus</button>
        </div>
      </div>
    </div>
  </div>
</header>

      <div hidden="hidden" data-view-component="true" class="js-stale-session-flash stale-session-flash flash flash-warn flash-full">
  
        <svg aria-hidden="true" height="16" viewBox="0 0 16 16" version="1.1" width="16" data-view-component="true" class="octicon octicon-alert">
    <path d="M6.457 1.047c.659-1.234 2.427-1.234 3.086 0l6.082 11.378A1.75 1.75 0 0 1 14.082 15H1.918a1.75 1.75 0 0 1-1.543-2.575Zm1.763.707a.25.25 0 0 0-.44 0L1.698 13.132a.25.25 0 0 0 .22.368h12.164a.25.25 0 0 0 .22-.368Zm.53 3.996v2.5a.75.75 0 0 1-1.5 0v-2.5a.75.75 0 0 1 1.5 0ZM9 11a1 1 0 1 1-2 0 1 1 0 0 1 2 0Z"></path>
</svg>
        <span class="js-stale-session-flash-signed-in" hidden>You signed in with another tab or window. <a class="Link--inTextBlock" href="">Reload</a> to refresh your session.</span>
        <span class="js-stale-session-flash-signed-out" hidden>You signed out in another tab or window. <a class="Link--inTextBlock" href="">Reload</a> to refresh your session.</span>
        <span class="js-stale-session-flash-switched" hidden>You switched accounts on another tab or window. <a class="Link--inTextBlock" href="">Reload</a> to refresh your session.</span>

    <button id="icon-button-a06fc2a9-91af-4325-af5a-b726a5e857ef" aria-labelledby="tooltip-bf6d6fb7-53fa-42a9-8e02-7b033811f93d" type="button" data-view-component="true" class="Button Button--iconOnly Button--invisible Button--medium flash-close js-flash-close">  <svg aria-hidden="true" height="16" viewBox="0 0 16 16" version="1.1" width="16" data-view-component="true" class="octicon octicon-x Button-visual">
    <path d="M3.72 3.72a.75.75 0 0 1 1.06 0L8 6.94l3.22-3.22a.749.749 0 0 1 1.275.326.749.749 0 0 1-.215.734L9.06 8l3.22 3.22a.749.749 0 0 1-.326 1.275.749.749 0 0 1-.734-.215L8 9.06l-3.22 3.22a.751.751 0 0 1-1.042-.018.751.751 0 0 1-.018-1.042L6.94 8 3.72 4.78a.75.75 0 0 1 0-1.06Z"></path>
</svg>
</button><tool-tip id="tooltip-bf6d6fb7-53fa-42a9-8e02-7b033811f93d" for="icon-button-a06fc2a9-91af-4325-af5a-b726a5e857ef" popover="manual" data-direction="s" data-type="label" data-view-component="true" class="sr-only position-absolute">Dismiss alert</tool-tip>


  
</div>
    </div>

  <div id="start-of-content" class="show-on-focus"></div>








    <div id="js-flash-container" class="flash-container" data-turbo-replace>




  <template class="js-flash-template">
    
<div class="flash flash-full   {{ className }}">
  <div >
    <button autofocus class="flash-close js-flash-close" type="button" aria-label="Dismiss this message">
      <svg aria-hidden="true" height="16" viewBox="0 0 16 16" version="1.1" width="16" data-view-component="true" class="octicon octicon-x">
    <path d="M3.72 3.72a.75.75 0 0 1 1.06 0L8 6.94l3.22-3.22a.749.749 0 0 1 1.275.326.749.749 0 0 1-.215.734L9.06 8l3.22 3.22a.749.749 0 0 1-.326 1.275.749.749 0 0 1-.734-.215L8 9.06l-3.22 3.22a.751.751 0 0 1-1.042-.018.751.751 0 0 1-.018-1.042L6.94 8 3.72 4.78a.75.75 0 0 1 0-1.06Z"></path>
</svg>
    </button>
    <div aria-atomic="true" role="alert" class="js-flash-alert">
      
      <div>{{ message }}</div>

    </div>
  </div>
</div>
  </template>
</div>


    
    <include-fragment class="js-notification-shelf-include-fragment" data-base-src="https://github.com/notifications/beta/shelf"></include-fragment>





  <div
    class="application-main "
    data-commit-hovercards-enabled
    data-discussion-hovercards-enabled
    data-issue-and-pr-hovercards-enabled
  >
        <div itemscope itemtype="http://schema.org/SoftwareSourceCode" class="">
    <main id="js-repo-pjax-container" >
      
      
    

    






  
  <div id="repository-container-header"  class="pt-3 hide-full-screen" style="background-color: var(--page-header-bgColor, var(--color-page-header-bg));" data-turbo-replace>

      <div class="d-flex flex-nowrap flex-justify-end mb-3  px-3 px-lg-5" style="gap: 1rem;">

        <div class="flex-auto min-width-0 width-fit">
            
  <div class=" d-flex flex-wrap flex-items-center wb-break-word f3 text-normal">
      <svg aria-hidden="true" height="16" viewBox="0 0 16 16" version="1.1" width="16" data-view-component="true" class="octicon octicon-repo color-fg-muted mr-2">
    <path d="M2 2.5A2.5 2.5 0 0 1 4.5 0h8.75a.75.75 0 0 1 .75.75v12.5a.75.75 0 0 1-.75.75h-2.5a.75.75 0 0 1 0-1.5h1.75v-2h-8a1 1 0 0 0-.714 1.7.75.75 0 1 1-1.072 1.05A2.495 2.495 0 0 1 2 11.5Zm10.5-1h-8a1 1 0 0 0-1 1v6.708A2.486 2.486 0 0 1 4.5 9h8ZM5 12.25a.25.25 0 0 1 .25-.25h3.5a.25.25 0 0 1 .25.25v3.25a.25.25 0 0 1-.4.2l-1.45-1.087a.249.249 0 0 0-.3 0L5.4 15.7a.25.25 0 0 1-.4-.2Z"></path>
</svg>
    
    <span class="author flex-self-stretch" itemprop="author">
      <a class="url fn" rel="author" data-hovercard-type="organization" data-hovercard-url="/orgs/rubin-dp0/hovercard" data-octo-click="hovercard-link-click" data-octo-dimensions="link_type:self" href="/rubin-dp0">
        rubin-dp0
</a>    </span>
    <span class="mx-1 flex-self-stretch color-fg-muted">/</span>
    <strong itemprop="name" class="mr-2 flex-self-stretch">
      <a data-pjax="#repo-content-pjax-container" data-turbo-frame="repo-content-turbo-frame" href="/rubin-dp0/tutorial-notebooks">tutorial-notebooks</a>
    </strong>

    <span></span><span class="Label Label--secondary v-align-middle mr-1">Public</span>
  </div>


        </div>

        <div id="repository-details-container" class="flex-shrink-0" data-turbo-replace style="max-width: 70%;">
            <ul class="pagehead-actions flex-shrink-0 d-none d-md-inline" style="padding: 2px 0;">
    
      

  <li>
            <a href="/login?return_to=%2Frubin-dp0%2Ftutorial-notebooks" rel="nofollow" id="repository-details-watch-button" data-hydro-click="{&quot;event_type&quot;:&quot;authentication.click&quot;,&quot;payload&quot;:{&quot;location_in_page&quot;:&quot;notification subscription menu watch&quot;,&quot;repository_id&quot;:null,&quot;auth_type&quot;:&quot;LOG_IN&quot;,&quot;originating_url&quot;:&quot;https://github.com/rubin-dp0/tutorial-notebooks/blob/9182688346c2e65f98aa77d51d1dbcccc604c410/DP03_01_Introduccion_a_DP03_ES.ipynb&quot;,&quot;user_id&quot;:null}}" data-hydro-click-hmac="3009aeb5785f770140f60c8cc45cebfca599259133a9c7a2f7a96a64cbb6f204" aria-label="You must be signed in to change notification settings" data-view-component="true" class="btn-sm btn">    <svg aria-hidden="true" height="16" viewBox="0 0 16 16" version="1.1" width="16" data-view-component="true" class="octicon octicon-bell mr-2">
    <path d="M8 16a2 2 0 0 0 1.985-1.75c.017-.137-.097-.25-.235-.25h-3.5c-.138 0-.252.113-.235.25A2 2 0 0 0 8 16ZM3 5a5 5 0 0 1 10 0v2.947c0 .05.015.098.042.139l1.703 2.555A1.519 1.519 0 0 1 13.482 13H2.518a1.516 1.516 0 0 1-1.263-2.36l1.703-2.554A.255.255 0 0 0 3 7.947Zm5-3.5A3.5 3.5 0 0 0 4.5 5v2.947c0 .346-.102.683-.294.97l-1.703 2.556a.017.017 0 0 0-.003.01l.001.006c0 .002.002.004.004.006l.006.004.007.001h10.964l.007-.001.006-.004.004-.006.001-.007a.017.017 0 0 0-.003-.01l-1.703-2.554a1.745 1.745 0 0 1-.294-.97V5A3.5 3.5 0 0 0 8 1.5Z"></path>
</svg>Notifications
</a>    <tool-tip id="tooltip-32343162-96ee-41b6-b5cf-171dfdc3f3f0" for="repository-details-watch-button" popover="manual" data-direction="s" data-type="description" data-view-component="true" class="sr-only position-absolute">You must be signed in to change notification settings</tool-tip>

    </li>

  <li>
          <a icon="repo-forked" id="fork-button" href="/login?return_to=%2Frubin-dp0%2Ftutorial-notebooks" rel="nofollow" data-hydro-click="{&quot;event_type&quot;:&quot;authentication.click&quot;,&quot;payload&quot;:{&quot;location_in_page&quot;:&quot;repo details fork button&quot;,&quot;repository_id&quot;:369330175,&quot;auth_type&quot;:&quot;LOG_IN&quot;,&quot;originating_url&quot;:&quot;https://github.com/rubin-dp0/tutorial-notebooks/blob/9182688346c2e65f98aa77d51d1dbcccc604c410/DP03_01_Introduccion_a_DP03_ES.ipynb&quot;,&quot;user_id&quot;:null}}" data-hydro-click-hmac="ee9e2312344907f5699a14fe901847e010c02f878f7af9b3b61d57f61374b5b8" data-view-component="true" class="btn-sm btn">    <svg aria-hidden="true" height="16" viewBox="0 0 16 16" version="1.1" width="16" data-view-component="true" class="octicon octicon-repo-forked mr-2">
    <path d="M5 5.372v.878c0 .414.336.75.75.75h4.5a.75.75 0 0 0 .75-.75v-.878a2.25 2.25 0 1 1 1.5 0v.878a2.25 2.25 0 0 1-2.25 2.25h-1.5v2.128a2.251 2.251 0 1 1-1.5 0V8.5h-1.5A2.25 2.25 0 0 1 3.5 6.25v-.878a2.25 2.25 0 1 1 1.5 0ZM5 3.25a.75.75 0 1 0-1.5 0 .75.75 0 0 0 1.5 0Zm6.75.75a.75.75 0 1 0 0-1.5.75.75 0 0 0 0 1.5Zm-3 8.75a.75.75 0 1 0-1.5 0 .75.75 0 0 0 1.5 0Z"></path>
</svg>Fork
    <span id="repo-network-counter" data-pjax-replace="true" data-turbo-replace="true" title="16" data-view-component="true" class="Counter">16</span>
</a>
  </li>

  <li>
        <div data-view-component="true" class="BtnGroup d-flex">
        <a href="/login?return_to=%2Frubin-dp0%2Ftutorial-notebooks" rel="nofollow" data-hydro-click="{&quot;event_type&quot;:&quot;authentication.click&quot;,&quot;payload&quot;:{&quot;location_in_page&quot;:&quot;star button&quot;,&quot;repository_id&quot;:369330175,&quot;auth_type&quot;:&quot;LOG_IN&quot;,&quot;originating_url&quot;:&quot;https://github.com/rubin-dp0/tutorial-notebooks/blob/9182688346c2e65f98aa77d51d1dbcccc604c410/DP03_01_Introduccion_a_DP03_ES.ipynb&quot;,&quot;user_id&quot;:null}}" data-hydro-click-hmac="21bc3598812f7d0b1fe04a12c00aeb3ceb1c5e6da0973c776524022d2f7d8547" aria-label="You must be signed in to star a repository" data-view-component="true" class="tooltipped tooltipped-s btn-sm btn BtnGroup-item">    <svg aria-hidden="true" height="16" viewBox="0 0 16 16" version="1.1" width="16" data-view-component="true" class="octicon octicon-star v-align-text-bottom d-inline-block mr-2">
    <path d="M8 .25a.75.75 0 0 1 .673.418l1.882 3.815 4.21.612a.75.75 0 0 1 .416 1.279l-3.046 2.97.719 4.192a.751.751 0 0 1-1.088.791L8 12.347l-3.766 1.98a.75.75 0 0 1-1.088-.79l.72-4.194L.818 6.374a.75.75 0 0 1 .416-1.28l4.21-.611L7.327.668A.75.75 0 0 1 8 .25Zm0 2.445L6.615 5.5a.75.75 0 0 1-.564.41l-3.097.45 2.24 2.184a.75.75 0 0 1 .216.664l-.528 3.084 2.769-1.456a.75.75 0 0 1 .698 0l2.77 1.456-.53-3.084a.75.75 0 0 1 .216-.664l2.24-2.183-3.096-.45a.75.75 0 0 1-.564-.41L8 2.694Z"></path>
</svg><span data-view-component="true" class="d-inline">
          Star
</span>          <span id="repo-stars-counter-star" aria-label="31 users starred this repository" data-singular-suffix="user starred this repository" data-plural-suffix="users starred this repository" data-turbo-replace="true" title="31" data-view-component="true" class="Counter js-social-count">31</span>
</a>        <button aria-label="You must be signed in to add this repository to a list" type="button" disabled="disabled" data-view-component="true" class="btn-sm btn BtnGroup-item px-2">    <svg aria-hidden="true" height="16" viewBox="0 0 16 16" version="1.1" width="16" data-view-component="true" class="octicon octicon-triangle-down">
    <path d="m4.427 7.427 3.396 3.396a.25.25 0 0 0 .354 0l3.396-3.396A.25.25 0 0 0 11.396 7H4.604a.25.25 0 0 0-.177.427Z"></path>
</svg>
</button></div>
  </li>

</ul>

        </div>
      </div>

        <div id="responsive-meta-container" data-turbo-replace>
</div>


          <nav data-pjax="#js-repo-pjax-container" aria-label="Repository" data-view-component="true" class="js-repo-nav js-sidenav-container-pjax js-responsive-underlinenav overflow-hidden UnderlineNav px-3 px-md-4 px-lg-5">

  <ul data-view-component="true" class="UnderlineNav-body list-style-none">
      <li data-view-component="true" class="d-inline-flex">
  <a id="code-tab" href="/rubin-dp0/tutorial-notebooks" data-tab-item="i0code-tab" data-selected-links="repo_source repo_downloads repo_commits repo_releases repo_tags repo_branches repo_packages repo_deployments repo_attestations /rubin-dp0/tutorial-notebooks" data-pjax="#repo-content-pjax-container" data-turbo-frame="repo-content-turbo-frame" data-hotkey="g c" data-analytics-event="{&quot;category&quot;:&quot;Underline navbar&quot;,&quot;action&quot;:&quot;Click tab&quot;,&quot;label&quot;:&quot;Code&quot;,&quot;target&quot;:&quot;UNDERLINE_NAV.TAB&quot;}" aria-current="page" data-view-component="true" class="UnderlineNav-item no-wrap js-responsive-underlinenav-item js-selected-navigation-item selected">
    
              <svg aria-hidden="true" height="16" viewBox="0 0 16 16" version="1.1" width="16" data-view-component="true" class="octicon octicon-code UnderlineNav-octicon d-none d-sm-inline">
    <path d="m11.28 3.22 4.25 4.25a.75.75 0 0 1 0 1.06l-4.25 4.25a.749.749 0 0 1-1.275-.326.749.749 0 0 1 .215-.734L13.94 8l-3.72-3.72a.749.749 0 0 1 .326-1.275.749.749 0 0 1 .734.215Zm-6.56 0a.751.751 0 0 1 1.042.018.751.751 0 0 1 .018 1.042L2.06 8l3.72 3.72a.749.749 0 0 1-.326 1.275.749.749 0 0 1-.734-.215L.47 8.53a.75.75 0 0 1 0-1.06Z"></path>
</svg>
        <span data-content="Code">Code</span>
          <span id="code-repo-tab-count" data-pjax-replace="" data-turbo-replace="" title="Not available" data-view-component="true" class="Counter"></span>


    
</a></li>
      <li data-view-component="true" class="d-inline-flex">
  <a id="issues-tab" href="/rubin-dp0/tutorial-notebooks/issues" data-tab-item="i1issues-tab" data-selected-links="repo_issues repo_labels repo_milestones /rubin-dp0/tutorial-notebooks/issues /_view_fragments/issues/index/rubin-dp0/tutorial-notebooks/layout" data-pjax="#repo-content-pjax-container" data-turbo-frame="repo-content-turbo-frame" data-hotkey="g i" data-analytics-event="{&quot;category&quot;:&quot;Underline navbar&quot;,&quot;action&quot;:&quot;Click tab&quot;,&quot;label&quot;:&quot;Issues&quot;,&quot;target&quot;:&quot;UNDERLINE_NAV.TAB&quot;}" data-view-component="true" class="UnderlineNav-item no-wrap js-responsive-underlinenav-item js-selected-navigation-item">
    
              <svg aria-hidden="true" height="16" viewBox="0 0 16 16" version="1.1" width="16" data-view-component="true" class="octicon octicon-issue-opened UnderlineNav-octicon d-none d-sm-inline">
    <path d="M8 9.5a1.5 1.5 0 1 0 0-3 1.5 1.5 0 0 0 0 3Z"></path><path d="M8 0a8 8 0 1 1 0 16A8 8 0 0 1 8 0ZM1.5 8a6.5 6.5 0 1 0 13 0 6.5 6.5 0 0 0-13 0Z"></path>
</svg>
        <span data-content="Issues">Issues</span>
          <span id="issues-repo-tab-count" data-pjax-replace="" data-turbo-replace="" title="0" hidden="hidden" data-view-component="true" class="Counter">0</span>


    
</a></li>
      <li data-view-component="true" class="d-inline-flex">
  <a id="pull-requests-tab" href="/rubin-dp0/tutorial-notebooks/pulls" data-tab-item="i2pull-requests-tab" data-selected-links="repo_pulls checks /rubin-dp0/tutorial-notebooks/pulls" data-pjax="#repo-content-pjax-container" data-turbo-frame="repo-content-turbo-frame" data-hotkey="g p" data-analytics-event="{&quot;category&quot;:&quot;Underline navbar&quot;,&quot;action&quot;:&quot;Click tab&quot;,&quot;label&quot;:&quot;Pull requests&quot;,&quot;target&quot;:&quot;UNDERLINE_NAV.TAB&quot;}" data-view-component="true" class="UnderlineNav-item no-wrap js-responsive-underlinenav-item js-selected-navigation-item">
    
              <svg aria-hidden="true" height="16" viewBox="0 0 16 16" version="1.1" width="16" data-view-component="true" class="octicon octicon-git-pull-request UnderlineNav-octicon d-none d-sm-inline">
    <path d="M1.5 3.25a2.25 2.25 0 1 1 3 2.122v5.256a2.251 2.251 0 1 1-1.5 0V5.372A2.25 2.25 0 0 1 1.5 3.25Zm5.677-.177L9.573.677A.25.25 0 0 1 10 .854V2.5h1A2.5 2.5 0 0 1 13.5 5v5.628a2.251 2.251 0 1 1-1.5 0V5a1 1 0 0 0-1-1h-1v1.646a.25.25 0 0 1-.427.177L7.177 3.427a.25.25 0 0 1 0-.354ZM3.75 2.5a.75.75 0 1 0 0 1.5.75.75 0 0 0 0-1.5Zm0 9.5a.75.75 0 1 0 0 1.5.75.75 0 0 0 0-1.5Zm8.25.75a.75.75 0 1 0 1.5 0 .75.75 0 0 0-1.5 0Z"></path>
</svg>
        <span data-content="Pull requests">Pull requests</span>
          <span id="pull-requests-repo-tab-count" data-pjax-replace="" data-turbo-replace="" title="2" data-view-component="true" class="Counter">2</span>


    
</a></li>
      <li data-view-component="true" class="d-inline-flex">
  <a id="actions-tab" href="/rubin-dp0/tutorial-notebooks/actions" data-tab-item="i3actions-tab" data-selected-links="repo_actions /rubin-dp0/tutorial-notebooks/actions" data-pjax="#repo-content-pjax-container" data-turbo-frame="repo-content-turbo-frame" data-hotkey="g a" data-analytics-event="{&quot;category&quot;:&quot;Underline navbar&quot;,&quot;action&quot;:&quot;Click tab&quot;,&quot;label&quot;:&quot;Actions&quot;,&quot;target&quot;:&quot;UNDERLINE_NAV.TAB&quot;}" data-view-component="true" class="UnderlineNav-item no-wrap js-responsive-underlinenav-item js-selected-navigation-item">
    
              <svg aria-hidden="true" height="16" viewBox="0 0 16 16" version="1.1" width="16" data-view-component="true" class="octicon octicon-play UnderlineNav-octicon d-none d-sm-inline">
    <path d="M8 0a8 8 0 1 1 0 16A8 8 0 0 1 8 0ZM1.5 8a6.5 6.5 0 1 0 13 0 6.5 6.5 0 0 0-13 0Zm4.879-2.773 4.264 2.559a.25.25 0 0 1 0 .428l-4.264 2.559A.25.25 0 0 1 6 10.559V5.442a.25.25 0 0 1 .379-.215Z"></path>
</svg>
        <span data-content="Actions">Actions</span>
          <span id="actions-repo-tab-count" data-pjax-replace="" data-turbo-replace="" title="Not available" data-view-component="true" class="Counter"></span>


    
</a></li>
      <li data-view-component="true" class="d-inline-flex">
  <a id="projects-tab" href="/rubin-dp0/tutorial-notebooks/projects" data-tab-item="i4projects-tab" data-selected-links="repo_projects new_repo_project repo_project /rubin-dp0/tutorial-notebooks/projects" data-pjax="#repo-content-pjax-container" data-turbo-frame="repo-content-turbo-frame" data-hotkey="g b" data-analytics-event="{&quot;category&quot;:&quot;Underline navbar&quot;,&quot;action&quot;:&quot;Click tab&quot;,&quot;label&quot;:&quot;Projects&quot;,&quot;target&quot;:&quot;UNDERLINE_NAV.TAB&quot;}" data-view-component="true" class="UnderlineNav-item no-wrap js-responsive-underlinenav-item js-selected-navigation-item">
    
              <svg aria-hidden="true" height="16" viewBox="0 0 16 16" version="1.1" width="16" data-view-component="true" class="octicon octicon-table UnderlineNav-octicon d-none d-sm-inline">
    <path d="M0 1.75C0 .784.784 0 1.75 0h12.5C15.216 0 16 .784 16 1.75v12.5A1.75 1.75 0 0 1 14.25 16H1.75A1.75 1.75 0 0 1 0 14.25ZM6.5 6.5v8h7.75a.25.25 0 0 0 .25-.25V6.5Zm8-1.5V1.75a.25.25 0 0 0-.25-.25H6.5V5Zm-13 1.5v7.75c0 .138.112.25.25.25H5v-8ZM5 5V1.5H1.75a.25.25 0 0 0-.25.25V5Z"></path>
</svg>
        <span data-content="Projects">Projects</span>
          <span id="projects-repo-tab-count" data-pjax-replace="" data-turbo-replace="" title="0" hidden="hidden" data-view-component="true" class="Counter">0</span>


    
</a></li>
      <li data-view-component="true" class="d-inline-flex">
  <a id="security-tab" href="/rubin-dp0/tutorial-notebooks/security" data-tab-item="i5security-tab" data-selected-links="security overview alerts policy token_scanning code_scanning /rubin-dp0/tutorial-notebooks/security" data-pjax="#repo-content-pjax-container" data-turbo-frame="repo-content-turbo-frame" data-hotkey="g s" data-analytics-event="{&quot;category&quot;:&quot;Underline navbar&quot;,&quot;action&quot;:&quot;Click tab&quot;,&quot;label&quot;:&quot;Security&quot;,&quot;target&quot;:&quot;UNDERLINE_NAV.TAB&quot;}" data-view-component="true" class="UnderlineNav-item no-wrap js-responsive-underlinenav-item js-selected-navigation-item">
    
              <svg aria-hidden="true" height="16" viewBox="0 0 16 16" version="1.1" width="16" data-view-component="true" class="octicon octicon-shield UnderlineNav-octicon d-none d-sm-inline">
    <path d="M7.467.133a1.748 1.748 0 0 1 1.066 0l5.25 1.68A1.75 1.75 0 0 1 15 3.48V7c0 1.566-.32 3.182-1.303 4.682-.983 1.498-2.585 2.813-5.032 3.855a1.697 1.697 0 0 1-1.33 0c-2.447-1.042-4.049-2.357-5.032-3.855C1.32 10.182 1 8.566 1 7V3.48a1.75 1.75 0 0 1 1.217-1.667Zm.61 1.429a.25.25 0 0 0-.153 0l-5.25 1.68a.25.25 0 0 0-.174.238V7c0 1.358.275 2.666 1.057 3.86.784 1.194 2.121 2.34 4.366 3.297a.196.196 0 0 0 .154 0c2.245-.956 3.582-2.104 4.366-3.298C13.225 9.666 13.5 8.36 13.5 7V3.48a.251.251 0 0 0-.174-.237l-5.25-1.68ZM8.75 4.75v3a.75.75 0 0 1-1.5 0v-3a.75.75 0 0 1 1.5 0ZM9 10.5a1 1 0 1 1-2 0 1 1 0 0 1 2 0Z"></path>
</svg>
        <span data-content="Security">Security</span>
          <include-fragment src="/rubin-dp0/tutorial-notebooks/security/overall-count" accept="text/fragment+html"></include-fragment>

    
</a></li>
      <li data-view-component="true" class="d-inline-flex">
  <a id="insights-tab" href="/rubin-dp0/tutorial-notebooks/pulse" data-tab-item="i6insights-tab" data-selected-links="repo_graphs repo_contributors dependency_graph dependabot_updates pulse people community /rubin-dp0/tutorial-notebooks/pulse" data-pjax="#repo-content-pjax-container" data-turbo-frame="repo-content-turbo-frame" data-analytics-event="{&quot;category&quot;:&quot;Underline navbar&quot;,&quot;action&quot;:&quot;Click tab&quot;,&quot;label&quot;:&quot;Insights&quot;,&quot;target&quot;:&quot;UNDERLINE_NAV.TAB&quot;}" data-view-component="true" class="UnderlineNav-item no-wrap js-responsive-underlinenav-item js-selected-navigation-item">
    
              <svg aria-hidden="true" height="16" viewBox="0 0 16 16" version="1.1" width="16" data-view-component="true" class="octicon octicon-graph UnderlineNav-octicon d-none d-sm-inline">
    <path d="M1.5 1.75V13.5h13.75a.75.75 0 0 1 0 1.5H.75a.75.75 0 0 1-.75-.75V1.75a.75.75 0 0 1 1.5 0Zm14.28 2.53-5.25 5.25a.75.75 0 0 1-1.06 0L7 7.06 4.28 9.78a.751.751 0 0 1-1.042-.018.751.751 0 0 1-.018-1.042l3.25-3.25a.75.75 0 0 1 1.06 0L10 7.94l4.72-4.72a.751.751 0 0 1 1.042.018.751.751 0 0 1 .018 1.042Z"></path>
</svg>
        <span data-content="Insights">Insights</span>
          <span id="insights-repo-tab-count" data-pjax-replace="" data-turbo-replace="" title="Not available" data-view-component="true" class="Counter"></span>


    
</a></li>
</ul>
    <div style="visibility:hidden;" data-view-component="true" class="UnderlineNav-actions js-responsive-underlinenav-overflow position-absolute pr-3 pr-md-4 pr-lg-5 right-0">      <action-menu data-select-variant="none" data-view-component="true">
  <focus-group direction="vertical" mnemonics retain>
    <button id="action-menu-ecbe2508-60f9-426f-b160-ce4976bc2e40-button" popovertarget="action-menu-ecbe2508-60f9-426f-b160-ce4976bc2e40-overlay" aria-controls="action-menu-ecbe2508-60f9-426f-b160-ce4976bc2e40-list" aria-haspopup="true" aria-labelledby="tooltip-90114800-a304-4166-9938-60925df12f3d" type="button" data-view-component="true" class="Button Button--iconOnly Button--secondary Button--medium UnderlineNav-item">  <svg aria-hidden="true" height="16" viewBox="0 0 16 16" version="1.1" width="16" data-view-component="true" class="octicon octicon-kebab-horizontal Button-visual">
    <path d="M8 9a1.5 1.5 0 1 0 0-3 1.5 1.5 0 0 0 0 3ZM1.5 9a1.5 1.5 0 1 0 0-3 1.5 1.5 0 0 0 0 3Zm13 0a1.5 1.5 0 1 0 0-3 1.5 1.5 0 0 0 0 3Z"></path>
</svg>
</button><tool-tip id="tooltip-90114800-a304-4166-9938-60925df12f3d" for="action-menu-ecbe2508-60f9-426f-b160-ce4976bc2e40-button" popover="manual" data-direction="s" data-type="label" data-view-component="true" class="sr-only position-absolute">Additional navigation options</tool-tip>


<anchored-position id="action-menu-ecbe2508-60f9-426f-b160-ce4976bc2e40-overlay" anchor="action-menu-ecbe2508-60f9-426f-b160-ce4976bc2e40-button" align="start" side="outside-bottom" anchor-offset="normal" popover="auto" data-view-component="true">
  <div data-view-component="true" class="Overlay Overlay--size-auto">
    
      <div data-view-component="true" class="Overlay-body Overlay-body--paddingNone">          <action-list>
  <div data-view-component="true">
    <ul aria-labelledby="action-menu-ecbe2508-60f9-426f-b160-ce4976bc2e40-button" id="action-menu-ecbe2508-60f9-426f-b160-ce4976bc2e40-list" role="menu" data-view-component="true" class="ActionListWrap--inset ActionListWrap">
        <li hidden="hidden" data-menu-item="i0code-tab" data-targets="action-list.items" role="none" data-view-component="true" class="ActionListItem">
    
    
    <a tabindex="-1" id="item-2513c17d-e154-4b3b-837f-9db1f448bc91" href="/rubin-dp0/tutorial-notebooks" role="menuitem" data-view-component="true" class="ActionListContent ActionListContent--visual16">
        <span class="ActionListItem-visual ActionListItem-visual--leading">
          <svg aria-hidden="true" height="16" viewBox="0 0 16 16" version="1.1" width="16" data-view-component="true" class="octicon octicon-code">
    <path d="m11.28 3.22 4.25 4.25a.75.75 0 0 1 0 1.06l-4.25 4.25a.749.749 0 0 1-1.275-.326.749.749 0 0 1 .215-.734L13.94 8l-3.72-3.72a.749.749 0 0 1 .326-1.275.749.749 0 0 1 .734.215Zm-6.56 0a.751.751 0 0 1 1.042.018.751.751 0 0 1 .018 1.042L2.06 8l3.72 3.72a.749.749 0 0 1-.326 1.275.749.749 0 0 1-.734-.215L.47 8.53a.75.75 0 0 1 0-1.06Z"></path>
</svg>
        </span>
      
        <span data-view-component="true" class="ActionListItem-label">
          Code
</span>      
</a>
  
</li>
        <li hidden="hidden" data-menu-item="i1issues-tab" data-targets="action-list.items" role="none" data-view-component="true" class="ActionListItem">
    
    
    <a tabindex="-1" id="item-d8c6d4fa-3c40-4246-9808-419f8f88a5ed" href="/rubin-dp0/tutorial-notebooks/issues" role="menuitem" data-view-component="true" class="ActionListContent ActionListContent--visual16">
        <span class="ActionListItem-visual ActionListItem-visual--leading">
          <svg aria-hidden="true" height="16" viewBox="0 0 16 16" version="1.1" width="16" data-view-component="true" class="octicon octicon-issue-opened">
    <path d="M8 9.5a1.5 1.5 0 1 0 0-3 1.5 1.5 0 0 0 0 3Z"></path><path d="M8 0a8 8 0 1 1 0 16A8 8 0 0 1 8 0ZM1.5 8a6.5 6.5 0 1 0 13 0 6.5 6.5 0 0 0-13 0Z"></path>
</svg>
        </span>
      
        <span data-view-component="true" class="ActionListItem-label">
          Issues
</span>      
</a>
  
</li>
        <li hidden="hidden" data-menu-item="i2pull-requests-tab" data-targets="action-list.items" role="none" data-view-component="true" class="ActionListItem">
    
    
    <a tabindex="-1" id="item-63228dde-7d3e-4778-bec5-3cc6f4f6c7ed" href="/rubin-dp0/tutorial-notebooks/pulls" role="menuitem" data-view-component="true" class="ActionListContent ActionListContent--visual16">
        <span class="ActionListItem-visual ActionListItem-visual--leading">
          <svg aria-hidden="true" height="16" viewBox="0 0 16 16" version="1.1" width="16" data-view-component="true" class="octicon octicon-git-pull-request">
    <path d="M1.5 3.25a2.25 2.25 0 1 1 3 2.122v5.256a2.251 2.251 0 1 1-1.5 0V5.372A2.25 2.25 0 0 1 1.5 3.25Zm5.677-.177L9.573.677A.25.25 0 0 1 10 .854V2.5h1A2.5 2.5 0 0 1 13.5 5v5.628a2.251 2.251 0 1 1-1.5 0V5a1 1 0 0 0-1-1h-1v1.646a.25.25 0 0 1-.427.177L7.177 3.427a.25.25 0 0 1 0-.354ZM3.75 2.5a.75.75 0 1 0 0 1.5.75.75 0 0 0 0-1.5Zm0 9.5a.75.75 0 1 0 0 1.5.75.75 0 0 0 0-1.5Zm8.25.75a.75.75 0 1 0 1.5 0 .75.75 0 0 0-1.5 0Z"></path>
</svg>
        </span>
      
        <span data-view-component="true" class="ActionListItem-label">
          Pull requests
</span>      
</a>
  
</li>
        <li hidden="hidden" data-menu-item="i3actions-tab" data-targets="action-list.items" role="none" data-view-component="true" class="ActionListItem">
    
    
    <a tabindex="-1" id="item-6da779c0-cfdf-4720-b67c-6bcb8170f4af" href="/rubin-dp0/tutorial-notebooks/actions" role="menuitem" data-view-component="true" class="ActionListContent ActionListContent--visual16">
        <span class="ActionListItem-visual ActionListItem-visual--leading">
          <svg aria-hidden="true" height="16" viewBox="0 0 16 16" version="1.1" width="16" data-view-component="true" class="octicon octicon-play">
    <path d="M8 0a8 8 0 1 1 0 16A8 8 0 0 1 8 0ZM1.5 8a6.5 6.5 0 1 0 13 0 6.5 6.5 0 0 0-13 0Zm4.879-2.773 4.264 2.559a.25.25 0 0 1 0 .428l-4.264 2.559A.25.25 0 0 1 6 10.559V5.442a.25.25 0 0 1 .379-.215Z"></path>
</svg>
        </span>
      
        <span data-view-component="true" class="ActionListItem-label">
          Actions
</span>      
</a>
  
</li>
        <li hidden="hidden" data-menu-item="i4projects-tab" data-targets="action-list.items" role="none" data-view-component="true" class="ActionListItem">
    
    
    <a tabindex="-1" id="item-790373c2-b627-4648-93e4-dac9f24269ee" href="/rubin-dp0/tutorial-notebooks/projects" role="menuitem" data-view-component="true" class="ActionListContent ActionListContent--visual16">
        <span class="ActionListItem-visual ActionListItem-visual--leading">
          <svg aria-hidden="true" height="16" viewBox="0 0 16 16" version="1.1" width="16" data-view-component="true" class="octicon octicon-table">
    <path d="M0 1.75C0 .784.784 0 1.75 0h12.5C15.216 0 16 .784 16 1.75v12.5A1.75 1.75 0 0 1 14.25 16H1.75A1.75 1.75 0 0 1 0 14.25ZM6.5 6.5v8h7.75a.25.25 0 0 0 .25-.25V6.5Zm8-1.5V1.75a.25.25 0 0 0-.25-.25H6.5V5Zm-13 1.5v7.75c0 .138.112.25.25.25H5v-8ZM5 5V1.5H1.75a.25.25 0 0 0-.25.25V5Z"></path>
</svg>
        </span>
      
        <span data-view-component="true" class="ActionListItem-label">
          Projects
</span>      
</a>
  
</li>
        <li hidden="hidden" data-menu-item="i5security-tab" data-targets="action-list.items" role="none" data-view-component="true" class="ActionListItem">
    
    
    <a tabindex="-1" id="item-b32707b3-9ff3-4b5f-80d4-48ce1e2f1c2b" href="/rubin-dp0/tutorial-notebooks/security" role="menuitem" data-view-component="true" class="ActionListContent ActionListContent--visual16">
        <span class="ActionListItem-visual ActionListItem-visual--leading">
          <svg aria-hidden="true" height="16" viewBox="0 0 16 16" version="1.1" width="16" data-view-component="true" class="octicon octicon-shield">
    <path d="M7.467.133a1.748 1.748 0 0 1 1.066 0l5.25 1.68A1.75 1.75 0 0 1 15 3.48V7c0 1.566-.32 3.182-1.303 4.682-.983 1.498-2.585 2.813-5.032 3.855a1.697 1.697 0 0 1-1.33 0c-2.447-1.042-4.049-2.357-5.032-3.855C1.32 10.182 1 8.566 1 7V3.48a1.75 1.75 0 0 1 1.217-1.667Zm.61 1.429a.25.25 0 0 0-.153 0l-5.25 1.68a.25.25 0 0 0-.174.238V7c0 1.358.275 2.666 1.057 3.86.784 1.194 2.121 2.34 4.366 3.297a.196.196 0 0 0 .154 0c2.245-.956 3.582-2.104 4.366-3.298C13.225 9.666 13.5 8.36 13.5 7V3.48a.251.251 0 0 0-.174-.237l-5.25-1.68ZM8.75 4.75v3a.75.75 0 0 1-1.5 0v-3a.75.75 0 0 1 1.5 0ZM9 10.5a1 1 0 1 1-2 0 1 1 0 0 1 2 0Z"></path>
</svg>
        </span>
      
        <span data-view-component="true" class="ActionListItem-label">
          Security
</span>      
</a>
  
</li>
        <li hidden="hidden" data-menu-item="i6insights-tab" data-targets="action-list.items" role="none" data-view-component="true" class="ActionListItem">
    
    
    <a tabindex="-1" id="item-a3db27c6-af56-4c16-b495-0ad98af6e87b" href="/rubin-dp0/tutorial-notebooks/pulse" role="menuitem" data-view-component="true" class="ActionListContent ActionListContent--visual16">
        <span class="ActionListItem-visual ActionListItem-visual--leading">
          <svg aria-hidden="true" height="16" viewBox="0 0 16 16" version="1.1" width="16" data-view-component="true" class="octicon octicon-graph">
    <path d="M1.5 1.75V13.5h13.75a.75.75 0 0 1 0 1.5H.75a.75.75 0 0 1-.75-.75V1.75a.75.75 0 0 1 1.5 0Zm14.28 2.53-5.25 5.25a.75.75 0 0 1-1.06 0L7 7.06 4.28 9.78a.751.751 0 0 1-1.042-.018.751.751 0 0 1-.018-1.042l3.25-3.25a.75.75 0 0 1 1.06 0L10 7.94l4.72-4.72a.751.751 0 0 1 1.042.018.751.751 0 0 1 .018 1.042Z"></path>
</svg>
        </span>
      
        <span data-view-component="true" class="ActionListItem-label">
          Insights
</span>      
</a>
  
</li>
</ul>    
</div></action-list>


</div>
      
</div></anchored-position>  </focus-group>
</action-menu></div>
</nav>

  </div>

  



<turbo-frame id="repo-content-turbo-frame" target="_top" data-turbo-action="advance" class="">
    <div id="repo-content-pjax-container" class="repository-content " >
    



    
      
    








<react-app
  app-name="react-code-view"
  initial-path="/rubin-dp0/tutorial-notebooks/blob/9182688346c2e65f98aa77d51d1dbcccc604c410/DP03_01_Introduccion_a_DP03_ES.ipynb"
  style="display: block; min-height: calc(100vh - 64px)" 
  data-ssr="false"
  data-lazy="false"
  data-alternate="false"
>
  
  <script type="application/json" data-target="react-app.embeddedData">{"payload":{"allShortcutsEnabled":false,"fileTree":{"":{"items":[{"name":"DP02_09_Custom_Coadds","path":"DP02_09_Custom_Coadds","contentType":"directory"},{"name":"DP02_11_User_Packages","path":"DP02_11_User_Packages","contentType":"directory"},{"name":"data","path":"data","contentType":"directory"},{"name":".gitignore","path":".gitignore","contentType":"file"},{"name":"DP02_01_Introduccion_a_DP02_ES.ipynb","path":"DP02_01_Introduccion_a_DP02_ES.ipynb","contentType":"file"},{"name":"DP02_01_Introduction_to_DP02.ipynb","path":"DP02_01_Introduction_to_DP02.ipynb","contentType":"file"},{"name":"DP02_02_Catalog_Queries_with_TAP.ipynb","path":"DP02_02_Catalog_Queries_with_TAP.ipynb","contentType":"file"},{"name":"DP02_03a_Image_Display_and_Manipulation.ipynb","path":"DP02_03a_Image_Display_and_Manipulation.ipynb","contentType":"file"},{"name":"DP02_03b_Image_Display_with_Firefly.ipynb","path":"DP02_03b_Image_Display_with_Firefly.ipynb","contentType":"file"},{"name":"DP02_03c_Survey_Property_Maps.ipynb","path":"DP02_03c_Survey_Property_Maps.ipynb","contentType":"file"},{"name":"DP02_04a_Introduction_to_the_Butler.ipynb","path":"DP02_04a_Introduction_to_the_Butler.ipynb","contentType":"file"},{"name":"DP02_04b_Intermediate_Butler_Queries.ipynb","path":"DP02_04b_Intermediate_Butler_Queries.ipynb","contentType":"file"},{"name":"DP02_05_Introduction_to_Source_Detection.ipynb","path":"DP02_05_Introduction_to_Source_Detection.ipynb","contentType":"file"},{"name":"DP02_06a_Interactive_Image_Visualization.ipynb","path":"DP02_06a_Interactive_Image_Visualization.ipynb","contentType":"file"},{"name":"DP02_06b_Interactive_Catalog_Visualization.ipynb","path":"DP02_06b_Interactive_Catalog_Visualization.ipynb","contentType":"file"},{"name":"DP02_07a_DiaObject_Samples.ipynb","path":"DP02_07a_DiaObject_Samples.ipynb","contentType":"file"},{"name":"DP02_07b_Variable_Star_Lightcurves.ipynb","path":"DP02_07b_Variable_Star_Lightcurves.ipynb","contentType":"file"},{"name":"DP02_08_Truth_Tables.ipynb","path":"DP02_08_Truth_Tables.ipynb","contentType":"file"},{"name":"DP02_10_Deblender_Data_Products.ipynb","path":"DP02_10_Deblender_Data_Products.ipynb","contentType":"file"},{"name":"DP02_12a_PSF_Data_Products.ipynb","path":"DP02_12a_PSF_Data_Products.ipynb","contentType":"file"},{"name":"DP02_12b_PSF_Science_Demo.ipynb","path":"DP02_12b_PSF_Science_Demo.ipynb","contentType":"file"},{"name":"DP03_01_Introduccion_a_DP03_ES.ipynb","path":"DP03_01_Introduccion_a_DP03_ES.ipynb","contentType":"file"},{"name":"DP03_01_Introduction_to_DP03.ipynb","path":"DP03_01_Introduction_to_DP03.ipynb","contentType":"file"},{"name":"DP03_02_Main_Belt_Asteroids.ipynb","path":"DP03_02_Main_Belt_Asteroids.ipynb","contentType":"file"},{"name":"DP03_03_Trans-Neptunian_Objects.ipynb","path":"DP03_03_Trans-Neptunian_Objects.ipynb","contentType":"file"},{"name":"DP03_04a_Introduction_to_Phase_Curves.ipynb","path":"DP03_04a_Introduction_to_Phase_Curves.ipynb","contentType":"file"},{"name":"DP03_04b_Advanced_Phase_Curve_Modeling.ipynb","path":"DP03_04b_Advanced_Phase_Curve_Modeling.ipynb","contentType":"file"},{"name":"LICENSE","path":"LICENSE","contentType":"file"},{"name":"NOTICE","path":"NOTICE","contentType":"file"},{"name":"README.md","path":"README.md","contentType":"file"}],"totalCount":30}},"fileTreeProcessingTime":10.242369,"foldersToFetch":[],"repo":{"id":369330175,"defaultBranch":"main","name":"tutorial-notebooks","ownerLogin":"rubin-dp0","currentUserCanPush":false,"isFork":false,"isEmpty":false,"createdAt":"2021-05-20T20:27:33.000Z","ownerAvatar":"https://avatars.githubusercontent.com/u/84341567?v=4","public":true,"private":false,"isOrgOwned":true},"codeLineWrapEnabled":false,"symbolsExpanded":false,"treeExpanded":true,"refInfo":{"name":"9182688346c2e65f98aa77d51d1dbcccc604c410","listCacheKey":"v0:1723833366.0","canEdit":false,"refType":"tree","currentOid":"9182688346c2e65f98aa77d51d1dbcccc604c410"},"path":"DP03_01_Introduccion_a_DP03_ES.ipynb","currentUser":null,"blob":{"rawLines":["{"," \"cells\": [","  {","   \"cell_type\": \"markdown\",","   \"id\": \"bc27f992-6cfd-4c2c-bb8b-5c8a7515f0db\",","   \"metadata\": {},","   \"source\": [","    \"\u003cimg align=\\\"left\\\" src = https://project.lsst.org/sites/default/files/Rubin-O-Logo_0.png width=250 style=\\\"padding: 10px\\\"\u003e \\n\",","    \"\u003cbr\u003e\u003cb\u003eIntroducción a DP0.3\u003c/b\u003e \u003cbr\u003e\\n\",","    \"Autoría: Bob Abel, Douglas Tucker, y Melissa Graham\u003cbr\u003e\\n\",","    \"Última verificación de ejecución: 2023-11-29 \u003cbr\u003e\\n\",","    \"Versión de las Pipelines Científicas de LSST: Weekly 2023_47 \u003cbr\u003e\\n\",","    \"Tamaño del contenedor (Container size): medium \u003cbr\u003e\\n\",","    \"Nivel de aprendizaje: principiante \u003cbr\u003e\\n\",","    \"\u003cbr\u003e\\n\",","    \"\u003cbr\u003e\\n\",","    \"\\n\",","    \"\u003e Contact author(s): Bob Abel, Douglas Tucker, and Melissa Graham\u003cbr\u003e\\n\",","    \"\u003e Last verified to run: 2023-11-29 \u003cbr\u003e\\n\",","    \"\u003e \u003cspan style=\\\"background: lightcyan\\\"\u003e\\n\",","    \"\u003e LSST Science Piplines\\n\",","    \"\u003e \u003c/span\u003e\\n\",","    \"\u003e version:\\n\",","    \"\u003e \u003cspan style=\\\"background: yellow\\\"\u003e\\n\",","    \"\u003e Weekly\\n\",","    \"\u003e \u003c/span\u003e\u003cspan style=\\\"background: lightgreen\\\"\u003e\\n\",","    \"\u003e {No se si traducirlo a Semana, como es nomenclatura para versiones dudo...}\\n\",","    \"\u003e \u003c/span\u003e\\n\",","    \"\u003e 2023_47\\n\",","    \"\u003e \u003c/span\u003e \u003cbr\u003e\\n\",","    \"\u003e \u003cspan style=\\\"background: yellow\\\"\u003e\\n\",","    \"\u003e Container size: medium \\n\",","    \"\u003e \u003c/span\u003e\u003cspan style=\\\"background: lightgreen\\\"\u003e\\n\",","    \"\u003e {No se si hace falta aclarar el nombre original pero como el menu muestra opciones en ingles quizás sí}\\n\",","    \"\u003e \u003c/span\u003e \u003cbr\u003e\\n\",","    \"\u003e Targeted learning level: beginner \u003cbr\u003e\"","   ]","  },","  {","   \"cell_type\": \"markdown\",","   \"id\": \"e57b4248-cf79-4945-956b-3186f3cc41c2\",","   \"metadata\": {},","   \"source\": [","    \"**Descripción:** Una vista general del contenido de los catálogos de objetos en movimiento de DP0.3.\\n\",","    \"\\n\",","    \"\u003e **Description:** An overview of the contents of the DP0.3 moving object catalogs.\"","   ]","  },","  {","   \"cell_type\": \"markdown\",","   \"id\": \"d9fd4286-3bff-4345-affa-0d8e519b8d50\",","   \"metadata\": {},","   \"source\": [","    \"**Habilidades:** Utilizar el servicio TAP y ADQL para acceder a las tablas de DP0.3.\\n\",","    \"\\n\",","    \"\u003e **Skills:** Use the TAP service and ADQL to access the DP0.3 tables.\"","   ]","  },","  {","   \"cell_type\": \"markdown\",","   \"id\": \"7e79e389-8abf-4dff-b503-55c0383084d1\",","   \"metadata\": {},","   \"source\": [","    \"**Productos de Datos LSST:** TAP dp03_catalogs\\n\",","    \"\u003e \u003cspan style=\\\"background: lightcyan\\\"\u003e\\n\",","    \"\u003e \u003cb\u003e LSST Data Products \u003c/b\u003e\\n\",","    \"\u003e \u003c/span\u003e\\n\",","    \"\u003e : TAP dp03_catalogs.\"","   ]","  },","  {","   \"cell_type\": \"markdown\",","   \"id\": \"07aae406-2b73-4995-a1c8-fc833a24cee2\",","   \"metadata\": {},","   \"source\": [","    \"**Paquetes:** `lsst.rsp.get_tap_service`\\n\",","    \"\u003e **Packages:** `lsst.rsp.get_tap_service`\"","   ]","  },","  {","   \"cell_type\": \"markdown\",","   \"id\": \"8740f32b-3d92-4c10-8d88-46e600a63a96\",","   \"metadata\": {},","   \"source\": [","    \"**Créditos:**  El conjunto de datos DP0.3 fue generado por miembros de los equipos de Pipelines del Sistema Solar y Puesta a Punto de Rubin --Rubin Solar System Pipelines and Commissioning teams-- con ayuda del grupo de la Colaboración Científica del Sistema Solar de LSST --LSST Solar System Science Collaboration--, en particular: Pedro Bernardinelli, Jake Kurlander, Joachim Moeyens, Samuel Cornwall, Ari Heinze, Steph Merritt, Lynne Jones, Siegfried Eggl, Meg Schwamb y Mario Jurić.\\n\",","    \"\\n\",","    \"\u003e **Credit:**  The DP0.3 data set was generated by members of the\\n\",","    \"\u003e \u003cspan style=\\\"background: yellow\\\"\u003e\\n\",","    \"\u003e Rubin Solar System Pipelines and Commissioning teams,\\n\",","    \"\u003e \u003c/span\u003e \u003cspan style=\\\"background: lightgreen\\\"\u003e\\n\",","    \"\u003e {no entonctré en el glosario estos equipos}\\n\",","    \"\u003e \u003c/span\u003e\\n\",","    \"\u003e  with help from the\\n\",","    \"\u003e \u003cspan style=\\\"background: yellow\\\"\u003e\\n\",","    \"\u003e LSST Solar System Science Collaboration\\n\",","    \"\u003e \u003c/span\u003e \u003cspan style=\\\"background: lightgreen\\\"\u003e\\n\",","    \"\u003e {tampoco entontre en el glosario}\\n\",","    \"\u003e \u003c/span\u003e\\n\",","    \"\u003e , in particular: Pedro Bernardinelli, Jake Kurlander, Joachim Moeyens, Samuel Cornwall, Ari Heinze, Steph Merritt, Lynne Jones, Siegfried Eggl, Meg Schwamb, and Mario Jurić.\\n\",","    \"\u003e\\n\",","    \"\u003e \u003cspan style=\\\"background: orange\\\"\u003e\\n\",","    \"\u003e {Encontré \\\"Commissioning\\\" en el glosario como \\\"Puesta a punto\\\" y en \\\"DESC\\\" está traducido \\\"Colaboración Científica\\\"}\\n\",","    \"\u003e \u003c/span\u003e\\n\",","    \"\\n\",","    \"Mario Jurić brindó asistencia escencial en la etapa inicial de la creación de esta notebook. Los autores y autoras de esta notebook además reconocen la ayuda de Leanne Guy, Pedro Bernardinelli, Sarah Greenstreet, Megan Schwamb, Brian Rogers, Niall McElroy y Jake Vanderplass, entre otras personas.\\n\",","    \"\\n\",","    \"\u003e Mario Jurić provided essential assistance in the initial stages of creating this notebook.  The notebook\\n\",","    \"\u003e \u003cspan style=\\\"background: yellow\\\"\u003e\\n\",","    \"\u003e authors\\n\",","    \"\u003e \u003c/span\u003e \u003cspan style=\\\"background: lightgreen\\\"\u003e\\n\",","    \"\u003e {no encunetro opción neutra por lo que agrego ambas versiones}\\n\",","    \"\u003e \u003c/span\u003e\\n\",","    \"\u003e  would also like to acknowledge help from Leanne Guy, Pedro Bernardinelli, Sarah Greenstreet, Megan Schwamb, Brian Rogers, Niall McElroy, and Jake Vanderplass,\\n\",","    \"\u003e \u003cspan style=\\\"background: yellow\\\"\u003e\\n\",","    \"\u003e among others.\\n\",","    \"\u003e \u003c/span\u003e \u003cspan style=\\\"background: lightgreen\\\"\u003e\\n\",","    \"\u003e {para evitar el sesgo masculino uso el \\\"entre otras\\\" antes de la enumeración}\\n\",","    \"\u003e \u003c/span\u003e\\n\",","    \"\u003e \u003cspan style=\\\"background: orange\\\"\u003e\\n\",","    \"\u003e {Lo cambié un poco porque no me pareció claro el uso antes de la enumeración}\\n\",","    \"\u003e \u003c/span\u003e\"","   ]","  },","  {","   \"cell_type\": \"markdown\",","   \"id\": \"e7b54235-6bab-4626-a603-13c15a3c93b6\",","   \"metadata\": {},","   \"source\": [","    \"**Soporte:**\\n\",","    \"Se pueden encontrar recursos y documentación relacionados con DP0.3 en \u003ca href=\\\"https://dp0-3.lsst.io\\\"\u003edp0-3.lsst.io\u003c/a\u003e. Las preguntas son bienvenidas como nuevos temas en la categoría \u003ca href=\\\"https://community.lsst.org/c/support/dp0\\\"\u003eSupport - Data Preview 0\u003c/a\u003e del foro de la comunidad de Rubin. El equipo de Rubin responderá a todas las preguntas publicadas allí.\\n\",","    \"\\n\",","    \"\u003e **Get Support:**\\n\",","    \"\u003e Find DP0.3-related documentation and resources at \u003ca href=\\\"https://dp0-3.lsst.io\\\"\u003edp0-3.lsst.io\u003c/a\u003e. Questions are welcome as new topics in the \u003ca href=\\\"https://community.lsst.org/c/support/dp0\\\"\u003eSupport - Data Preview 0 Category\u003c/a\u003e of the Rubin Community Forum. Rubin staff will respond to all questions posted there.\\n\",","    \"\u003e\\n\",","    \"\u003e \u003cspan style=\\\"background: orange\\\"\u003e\\n\",","    \"\u003e {Cambié \\\"Buscar\\\" por \\\"Se pueden encontrar\\\" para ser consistentes con el notebook de Introducción a DP0.2}\\n\",","    \"\u003e \u003c/span\u003e\"","   ]","  },","  {","   \"cell_type\": \"markdown\",","   \"id\": \"c84499ca-08c3-47a6-b1cc-6e289ec42fdf\",","   \"metadata\": {},","   \"source\": [","    \"## 1. Introducción\\n\",","    \"\\n\",","    \"\u003e Introduction\\n\",","    \"\\n\",","    \"Esta notebook muestra cómo acceder al conjunto de datos simulado de Vista Previa de Datos 0.3 (DP0.3 --Data Preview 0.3) en la Plataforma Científica de Rubin (RSP - Rubin Science Platform).\\n\",","    \"\\n\",","    \"\u003e This notebook demonstrates how to access the simulated\\n\",","    \"\u003e \u003cspan style=\\\"background: lightcyan\\\"\u003e\\n\",","    \"\u003e Data Preview\\n\",","    \"\u003e \u003c/span\u003e\\n\",","    \"\u003e  0.3 (DP0.3) data set in the\\n\",","    \"\u003e \u003cspan style=\\\"background: lightcyan\\\"\u003e\\n\",","    \"\u003e  Rubin Science Platform.\\n\",","    \"\u003e \u003c/span\u003e\\n\",","    \"\\n\",","    \"Para la simulación DP0.3, sólo se simularon objetos en movimiento, y sólo los cátalogos fueron creados (no hay imágenes).\\n\",","    \"La simulación DP0.3 es *enteramente independiente y separada de* la simulación DP0.2.\\n\",","    \"\\n\",","    \"\u003e For the DP0.3 simulation, only\\n\",","    \"\u003e \u003cspan style=\\\"background: yellow\\\"\u003e\\n\",","    \"\u003e moving objects\\n\",","    \"\u003e \u003c/span\u003e\\n\",","    \"\u003e were simulated, and only catalogs were created (there are no images).\\n\",","    \"\u003e The DP0.3 simulation is *entirely independent of and separate from* the DP0.2 simulation.\\n\",","    \"\u003e\\n\",","    \"\u003e \u003cspan style=\\\"background: orange\\\"\u003e\\n\",","    \"\u003e {En la entrada de \\\"Data Release Data Product\\\" del glosario aparece \\\"moving object\\\" como \\\"objetos en movimiento\\\"}\\n\",","    \"\u003e \u003c/span\u003e\\n\",","    \"\\n\",","    \"DP0.3 es un catálogo híbrido que contiene objetos del Sistema Solar tanto reales como simulados (asteroides, objetos próximos a la Tierra, Troyanos, objetos transneptunianos, cometas, e incluso una nave espacial simulada... pero ningún planeta principal ni la Luna).\\n\",","    \"Ver la \u003ca href=\\\"https://dp0-3.lsst.io\\\"\u003e documentación de DP0.3\u003c/a\u003e para más información acerca de cómo fue creado el catálogo híbrido.\\n\",","    \"\u003e DP0.3 is a hybrid catalog that contains both real and simulated Solar System objects (asteroids,\\n\",","    \"\u003e \u003cspan style=\\\"background: yellow\\\"\u003e\\n\",","    \"\u003e near-earth objects\\n\",","    \"\u003e \u003c/span\u003e\\n\",","    \"\u003e ,\\n\",","    \"\u003e \u003cspan style=\\\"background: yellow\\\"\u003e\\n\",","    \"\u003e Trojans\\n\",","    \"\u003e \u003c/span\u003e\\n\",","    \"\u003e ,\\n\",","    \"\u003e \u003cspan style=\\\"background: yellow\\\"\u003e\\n\",","    \"\u003e trans-Neptunian objects\\n\",","    \"\u003e \u003c/span\u003e\\n\",","    \"\u003e , comets, and even a simulated spaceship... but no\\n\",","    \"\u003e \u003cspan style=\\\"background: yellow\\\"\u003e\\n\",","    \"\u003e major planets\\n\",","    \"\u003e \u003c/span\u003e\\n\",","    \"\u003e nor the Moon).\\n\",","    \"\u003e See the \u003ca href=\\\"https://dp0-3.lsst.io\\\"\u003eDP0.3 documentation\u003c/a\u003e for more information about how the hybrid catalog was created.\\n\",","    \"\\n\",","    \"En las Operaciones de Rubin --Rubin Operations--, estas tablas estarían cambiando constantemente, siendo actualizadas todos los días con los resultados de\\n\",","    \"las observaciones de la noche anterior.\\n\",","    \"Sin embargo, para DP0.3, se han simulado tanto un catálogo estático de 1 año como un catálogo estático de 10 años.\\n\",","    \"\u003e In\\n\",","    \"\u003e \u003cspan style=\\\"background: lightcyan\\\"\u003e\\n\",","    \"\u003e Rubin Operations,\\n\",","    \"\u003e \u003c/span\u003e\\n\",","    \"\u003e these tables would be constantly changing, updated every day with the results of\\n\",","    \"\u003e the previous night's observations.\\n\",","    \"\u003e However, for DP0.3, both a static 1-year catalog and a static 10-year catalog have been simulated.\\n\",","    \"\\n\",","    \"\u003e **Aviso:** Para reiterar, en DP0.3, hay tablas disponibles tanto para catálogos de 1 año como para catálogos de 10 años. Sin embargo, durante el resto de esta notebook, a menos que se indique lo contrario, sólo consideraremos las tablas del catálogo de 10 años. Se recomienda explorar las tablas de los catálogos de 1 año por cuenta propia.\\n\",","    \"\\n\",","    \"\u003e\u003e **Notice:** To re-iterate, for DP0.3, there are tables available for both the 1-year and 10-year catalogs.  For the remainder of this notebook, though, unless otherwise noted, we will just consider the tables for the 10-year catalog.  Users are encouraged to explore the tables for the 1-year catalog on their own.\\n\"","   ]","  },","  {","   \"cell_type\": \"markdown\",","   \"id\": \"1fdd57af-83de-464a-863f-f0886a70d989\",","   \"metadata\": {},","   \"source\": [","    \"### 1.1. Importación de paquetes\\n\",","    \"\\n\",","    \"\u003e Package Imports\\n\",","    \"\\n\",","    \"Importar paquetes generales de python y las utilidades del servicio TAP de Rubin.\\n\",","    \"\\n\",","    \"\u003e Import general python packages and the Rubin TAP service utilities.\"","   ]","  },","  {","   \"cell_type\": \"code\",","   \"execution_count\": null,","   \"id\": \"dab33fdd-8ff9-4f8f-b027-77ba5368de5d\",","   \"metadata\": {","    \"tags\": []","   },","   \"outputs\": [],","   \"source\": [","    \"import numpy as np\\n\",","    \"import matplotlib.pyplot as plt\\n\",","    \"from matplotlib import colormaps\\n\",","    \"import pandas as pd\\n\",","    \"from lsst.rsp import get_tap_service\"","   ]","  },","  {","   \"cell_type\": \"markdown\",","   \"id\": \"0484b1ba-eafd-465a-8691-5c1ba3bcc208\",","   \"metadata\": {},","   \"source\": [","    \"## 2. Crear el cliente del servicio SSO TAP de Rubin\\n\",","    \"\\n\",","    \"\u003e Create the Rubin SSO TAP Service client\\n\",","    \"\\n\",","    \"El conjunto de datos DP0.3 está disponible mediante el servicio de protocolo de acceso a datos tabulados (TAP --Table Access Protocol)\\n\",","    \"y puede ser accedido mediante sentencias ADQL (Astronomical Data Query Language --Lenguaje de consulta de datos astronómicos).\\n\",","    \"\\n\",","    \"\u003e The DP0.3 data sets are available via the Table Access Protocol (TAP) service,\\n\",","    \"\u003e and can be accessed with ADQL (Astronomical Data Query Language) statements.\\n\",","    \"\\n\",","    \"TAP provee un acceso estandarizado a los datos de catálogo para exploración, búsqueda y recuperación. \\n\",","    \"La \u003ca href=\\\"http://www.ivoa.net/documents/TAP\\\"\u003edocumentación completa de TAP\u003c/a\u003e es provista por la Alianza Internacional de Observatorios Virtuales (IVOA --International Virtual Observatory Alliance). \\n\",","    \"ADQL es similar a SQL (Structured Query Language --lenguaje de consulta estructurado).\\n\",","    \"La \u003ca href=\\\"http://www.ivoa.net/documents/latest/ADQL.html\\\"\u003edocumentación para ADQL\u003c/a\u003e incluye más información sobre sintaxis y palabras clave.\\n\",","    \"\\n\",","    \"\\n\",","    \"\u003e TAP provides standardized access to the catalog data for discovery, search, and retrieval.\\n\",","    \"\u003e  Full \u003ca href=\\\"http://www.ivoa.net/documents/TAP\\\"\u003edocumentation for TAP\u003c/a\u003e is provided by the\\n\",","    \"\u003e \u003cspan style=\\\"background: lightcyan\\\"\u003e\\n\",","    \"\u003e International Virtual Observatory Alliance\\n\",","    \"\u003e \u003c/span\u003e\\n\",","    \"\u003e  (IVOA).\\n\",","    \"\u003e ADQL is similar to SQL (Structured Query Langage).\\n\",","    \"\u003e The \u003ca href=\\\"http://www.ivoa.net/documents/latest/ADQL.html\\\"\u003edocumentation for ADQL\u003c/a\u003e includes more information about syntax and keywords.\\n\",","    \"\\n\",","    \"Obtener una instancia del servicio SSO TAP, y corroborar que éste exista.\\n\",","    \"\u003e Get an instance of the SSO TAP service, and assert that it exists.\\n\",","    \"\\n\",","    \"\u003e **Aviso:** El servicio TAP de DP0.3 se llama `ssotap` (mientras que `tap` se utiliza para DP0.2)\\n\",","    \"\u003e\u003e **Notice:** The DP0.3 TAP service is called `ssotap` (whereas `tap` is used for DP0.2).\"","   ]","  },","  {","   \"cell_type\": \"code\",","   \"execution_count\": null,","   \"id\": \"a8daf49b-a897-479b-9524-f816bea54733\",","   \"metadata\": {","    \"tags\": []","   },","   \"outputs\": [],","   \"source\": [","    \"service = get_tap_service(\\\"ssotap\\\")\\n\",","    \"assert service is not None\"","   ]","  },","  {","   \"cell_type\": \"markdown\",","   \"id\": \"d49c768a-e8c5-44a6-bde1-bfa456ac7f98\",","   \"metadata\": {},","   \"source\": [","    \"### 2.1. ¿Qué esquemas de `ssotap` están disponibles?\\n\",","    \"\\n\",","    \"\u003e What `ssotap` schemas are available?\\n\",","    \"\\n\",","    \"Crear una consulta ADQL para seleccionar todos (\\\\*) los esquemas disponibles, y usar el servicio TAP para ejecutar la consulta.\\n\",","    \"\u003e Create an ADQL query to select all (\\\\*) available schemas, and use the TAP service to execute the query.\\n\",","    \"\\n\",","    \"Usar `to_table` para convertir a una tabla `astropy`, la cual visualizará los resultados de manera amigable.\\n\",","    \"\u003e Use `to_table` to convert to an `astropy` table, which will display the results in a\\n\",","    \"\u003e \u003cspan style=\\\"background: yellow\\\"\u003e\\n\",","    \"\u003e user-friendly\\n\",","    \"\u003e \u003c/span\u003e  \u003cspan style=\\\"background: lightgreen\\\"\u003e\\n\",","    \"\u003e {omito traducción de \\\"user\\\" para evitar sesgo de genero}\\n\",","    \"\u003e \u003c/span\u003e\\n\",","    \"\u003e way.\"","   ]","  },","  {","   \"cell_type\": \"code\",","   \"execution_count\": null,","   \"id\": \"d62ab2ef-05df-4024-b514-dc02e4379041\",","   \"metadata\": {","    \"tags\": []","   },","   \"outputs\": [],","   \"source\": [","    \"query = \\\"SELECT * FROM tap_schema.schemas\\\"\\n\",","    \"results = service.search(query).to_table()\\n\",","    \"results\"","   ]","  },","  {","   \"cell_type\": \"markdown\",","   \"id\": \"e56f59e6-28d7-49f9-9030-118f43bbf5ad\",","   \"metadata\": {},","   \"source\": [","    \"### 2.2 ¿Qué tablas de DP0.3 están disponibles?\\n\",","    \"\u003e What DP0.3 tables are available?\"","   ]","  },","  {","   \"cell_type\": \"markdown\",","   \"id\": \"16dbae17-6f9d-4356-941c-3e20498bc804\",","   \"metadata\": {},","   \"source\": [","    \"Hay cuatro tablas para la simulación de 1 año y la de 10 años.\\n\",","    \"`MPCORB`, `SSObject`, `SSSource` y `DiaSource`.\\n\",","    \"\u003e There are four tables for the 1-year and 10-year simulation: \\n\",","    \"\u003e `MPCORB`, `SSObject`, `SSSource`, and `DiaSource`.\\n\",","    \"\\n\",","    \"Se podrán encontrar las descripciones de las tablas y sus esquemas, más\\n\",","    \"información y consejos sobre acceso y consulta de las tablas de DP0.3 \\n\",","    \"(incluyendo qué columnas están \u003ca href=\\\"https://dp0-3.lsst.io/data-products-dp0-3/table-access-and-queries.html#unpopulated-columns\\\"\u003eactualmente vacías\u003c/a\u003e),\\n\",","    \"en la \u003ca href=\\\"https://dp0-3.lsst.io/data-products-dp0-3/index.html#dp0-3-data-products-definition-document-dpdd\\\"\u003e documentación de las definiciones de los productos de datos de DP0.3  \u003c/a\u003e.\\n\",","    \"\\n\",","    \"\u003e Find descriptions of the tables and their schema, plus\\n\",","    \"\u003e information and advice about accessing and querying the DP0.3 tables \\n\",","    \"\u003e (including which columns are \u003ca href=\\\"https://dp0-3.lsst.io/data-products-dp0-3/table-access-and-queries.html#unpopulated-columns\\\"\u003ecurrently unpopulated\u003c/a\u003e),\\n\",","    \"\u003e in the \u003ca href=\\\"https://dp0-3.lsst.io/data-products-dp0-3/index.html#dp0-3-data-products-definition-document-dpdd\\\"\u003eDP0.3 data products definitions documentation \u003c/a\u003e.\\n\",","    \"\\n\",","    \"Este tutorial explorará las tablas individualmente, y la combinación de tablas \\n\",","    \"será mostrada en un tutorial futuro (ver también \u003ca href=\\\"https://dp0-3.lsst.io/data-products-dp0-3/table-access-and-queries.html#table-joins\\\"\u003e este consejo sobre combinaciones de tablas en DP0.3\u003c/a\u003e).\\n\",","    \"\\n\",","    \"\u003e This tutorial will explore the tables individually, with\\n\",","    \"\u003e \u003cspan style=\\\"background: yellow\\\"\u003e\\n\",","    \"\u003e table joins\\n\",","    \"\u003e \u003c/span\u003e\\n\",","    \"\u003e to be\\n\",","    \"\u003e demonstrated in future tutorials (see also \u003ca href=\\\"https://dp0-3.lsst.io/data-products-dp0-3/table-access-and-queries.html#table-joins\\\"\u003ethis advice on DP0.3 table joins\u003c/a\u003e).\\n\",","    \"\\n\",","    \"Seleccionar todas las tablas disponibles y mostrar información acerca de ellas.\\n\",","    \"\u003e Select all available tables and display information about them.\"","   ]","  },","  {","   \"cell_type\": \"code\",","   \"execution_count\": null,","   \"id\": \"79bbde6a-bd68-4de8-a02d-2160dfae6bc4\",","   \"metadata\": {","    \"tags\": []","   },","   \"outputs\": [],","   \"source\": [","    \"query = \\\"SELECT * FROM tap_schema.tables \\\" \\\\\\n\",","    \"        \\\"WHERE tap_schema.tables.schema_name LIKE 'dp03_catalogs%' \\\" \\\\\\n\",","    \"        \\\"ORDER BY table_index ASC\\\"\\n\",","    \"results = service.search(query).to_table()\\n\",","    \"results\"","   ]","  },","  {","   \"cell_type\": \"markdown\",","   \"id\": \"e7302673-cab0-4003-a3dd-d22b1a77a97b\",","   \"metadata\": {},","   \"source\": [","    \"## 3. La tabla `MPCORB`\\n\",","    \"\u003e The `MPCORB` table\\n\",","    \"\\n\",","    \"Durante las Operaciones de Rubin, el Procesamiento del Sistema Solar ocurrirá durante el día, después de una noche de observación.\\n\",","    \"Asociará las detecciones de objetos en movimiento en imágenes diferenciales  y reportará los descubrimientos\\n\",","    \"al \u003ca href=\\\"https://minorplanetcenter.net\\\"\u003eCentro de Planetas Menores\u003c/a\u003e (MPC --Minor Planet Center),\\n\",","    \"como así también computará las propiedades derivadas (magnitudes, ajustes de curvas de fase, coordenadas en varios sistemas).\\n\",","    \"\\n\",","    \"\u003e \u003cspan style=\\\"background: lightcyan\\\"\u003e\\n\",","    \"\u003e During Rubin Operations\\n\",","    \"\u003e \u003c/span\u003e\\n\",","    \"\u003e , \\n\",","    \"\u003e \u003cspan style=\\\"background: lightcyan\\\"\u003e\\n\",","    \"\u003e Solar System Processing\\n\",","    \"\u003e \u003c/span\u003e    \\n\",","    \"\u003e will occur in the daytime, after a night of observing.\\n\",","    \"\u003e \u003cspan style=\\\"background: yellow\\\"\u003e\\n\",","    \"\u003e It will link together the \\n\",","    \"\u003e \u003cspan style=\\\"background: lightcyan\\\"\u003e\\n\",","    \"\u003e difference-image\\n\",","    \"\u003e \u003c/span\u003e \\n\",","    \"\u003e detections of moving objects \\n\",","    \"\u003e \u003c/span\u003e \u003cspan style=\\\"background: lightgreen\\\"\u003e\\n\",","    \"\u003e {no estoy seguro si está bien traducida la idea}\\n\",","    \"\u003e \u003c/span\u003e\\n\",","    \"\u003e and report discoveries\\n\",","    \"\u003e to the \u003ca href=\\\"https://minorplanetcenter.net\\\"\u003e\\n\",","    \"\u003e \u003cspan style=\\\"background: lightcyan\\\"\u003e\\n\",","    \"\u003e Minor Planet Center\\n\",","    \"\u003e \u003c/span\u003e\\n\",","    \"\u003e \u003c/a\u003e (MPC),\\n\",","    \"\u003e as well as compute derived properties (magnitudes, \\n\",","    \"\u003e \u003cspan style=\\\"background: yellow\\\"\u003e\\n\",","    \"\u003e phase-curve\\n\",","    \"\u003e \u003c/span\u003e\\n\",","    \"\u003e fits, coordinates in various systems).\\n\",","    \"\\n\",","    \"El MPC calculará los parámetros orbitales y esos resultados se enviarán de vuelta a Rubin, y serán almacenados\\n\",","    \"y puestos a disposición a la comunidad usuaria como la tabla `MPCORB`\\n\",","    \"(las otras propiedades derivadas son almacenadas en las otras tres tablas exploradas abajo).\\n\",","    \"La tabla `MPCORB` de DP0.3 es una simulación de cómo será este producto de datos después de 10 años de LSST. \\n\",","    \"\u003e The MPC will calculate the orbital parameters and these results will be passed back to Rubin, and stored\\n\",","    \"\u003e and made available to\\n\",","    \"\u003e \u003cspan style=\\\"background: yellow\\\"\u003e\\n\",","    \"\u003e users\\n\",","    \"\u003e \u003c/span\u003e \u003cspan style=\\\"background: lightgreen\\\"\u003e\\n\",","    \"\u003e {uso alternativa neutra}\\n\",","    \"\u003e \u003c/span\u003e\\n\",","    \"\u003e  as the `MPCORB` table \\n\",","    \"\u003e (the other derived properties are stored in the other three tables explored below).\\n\",","    \"\u003e The DP0.3 `MPCORB` table is a simulation of what this data product will be like after 10 years of LSST.\\n\",","    \"\\n\",","    \"\u003e **Aviso:** El MPC contiene todos los objetos en movimiento reportados en el Sistema Solar, y no se limita a aquiellos detectados por LSST. De esta manera, la tabla `MPCORB` tendrá más filas que la tabla `SSObject`.\\n\",","    \"\\n\",","    \"\u003e\u003e **Notice:** The MPC contains all reported moving objects in the Solar System, and is not limited to those detected by LSST. Thus, the `MPCORB` table will have more rows than the `SSObject` table.\\n\",","    \"\\n\",","    \"\u003e **Aviso:** Para DP0.3, el MPC no realizó ajustes y la tabla MPCORB contiene los elementos orbitales usados en la simulación (la tabla `MPCORB` es una tabla con valores de verdad).\\n\",","    \"\\n\",","    \"\u003e\u003e **Notice:** For DP0.3, there was no fitting done by the MPC and the MPCORB table is the orbital elements used in the simulation (the `MPCORB` table is a truth table).\\n\",","    \"\\n\",","    \"\\n\",","    \"Para más información acerca de los planes de Rubin para el Procesamiento del Sistema Solar, ver la Sección 3.2.2 del\\n\",","    \"\u003ca href=\\\"https://docushare.lsstcorp.org/docushare/dsweb/Get/LSE-163/LSE-163_DataProductsDefinitionDocumentDPDD.pdf\\\"\u003eDocumento de definición de productos de datos\u003c/a\u003e (Data Products Definitions Document, DPDD).\\n\",","    \"Es importante tener en cuenta que todavía existen diferencias entre la Tabla 4 del DPDD, que contiene el esquema anticipado para las tablas de\\n\",","    \"objetos en movimiento, y los esquemas de tablas de DP0.3.\\n\",","    \"\u003e For more information about Rubin's plans for Solar System Processing, see Section 3.2.2 of the \\n\",","    \"\u003e \u003ca href=\\\"https://docushare.lsstcorp.org/docushare/dsweb/Get/LSE-163/LSE-163_DataProductsDefinitionDocumentDPDD.pdf\\\"\u003e\\n\",","    \"\u003e \u003cspan style=\\\"background: lightcyan\\\"\u003e\\n\",","    \"\u003e Data Products Definitions Document\\n\",","    \"\u003e \u003c/span\u003e\\n\",","    \"\u003e \u003c/a\u003e.\\n\",","    \"\u003e Note that there remain differences between Table 4 of the\\n\",","    \"\u003e \u003cspan style=\\\"background: lightcyan\\\"\u003e\\n\",","    \"\u003e DPDD,\\n\",","    \"\u003e \u003c/span\u003e\\n\",","    \"\u003e  which contain the anticipated schema \\n\",","    \"\u003e for the moving object tables, and the DP0.3 table schemas.\"","   ]","  },","  {","   \"cell_type\": \"markdown\",","   \"id\": \"cd15dac9-45bf-4a0f-9f32-5d31bb48a4d5\",","   \"metadata\": {},","   \"source\": [","    \"### 3.1. Tamaño\\n\",","    \"\\n\",","    \"\u003e Size\\n\",","    \"\\n\",","    \"Usar el servicio TAP para contar el número de filas en la tabla `MPCORB`.\\n\",","    \"\u003e Use the TAP service to count of the number of rows in the `MPCORB` table.\"","   ]","  },","  {","   \"cell_type\": \"code\",","   \"execution_count\": null,","   \"id\": \"e965cf06-6e16-4117-a29b-97a6a8577fb2\",","   \"metadata\": {","    \"tags\": []","   },","   \"outputs\": [],","   \"source\": [","    \"results = service.search(\\\"SELECT COUNT(*) FROM dp03_catalogs_10yr.MPCORB\\\")\\n\",","    \"results.to_table()\"","   ]","  },","  {","   \"cell_type\": \"markdown\",","   \"id\": \"1dfddcd0-0a73-4f41-9324-2fc590bb0fbf\",","   \"metadata\": {},","   \"source\": [","    \"Hay 14.5 millones de filas en la tabla `MPCORB`.\\n\",","    \"\u003e There are 14.5 million rows in the `MPCORB` table.\"","   ]","  },","  {","   \"cell_type\": \"markdown\",","   \"id\": \"69152b41-0c0c-435c-884f-553ca4a682db\",","   \"metadata\": {},","   \"source\": [","    \"### 3.2. Columnas\\n\",","    \"\\n\",","    \"\u003e Columns\\n\",","    \"\\n\",","    \"Usar el servicio TAP para consultar sobre información de las columnas de `MPCORB`.\\n\",","    \"\u003e Use the TAP service to query for the column information from `MPCORB`.\\n\",","    \"\\n\",","    \"Imprimir los resultados como una tabla de `pandas`.\\n\",","    \"\u003e Print the results as a `pandas` table.\"","   ]","  },","  {","   \"cell_type\": \"code\",","   \"execution_count\": null,","   \"id\": \"d24359a4-6f1a-433b-84cf-b9184f4f673f\",","   \"metadata\": {","    \"tags\": []","   },","   \"outputs\": [],","   \"source\": [","    \"results = service.search(\\\"SELECT column_name, datatype, description, \\\"\\n\",","    \"                         \\\"       unit from TAP_SCHEMA.columns \\\"\\n\",","    \"                         \\\"WHERE table_name = 'dp03_catalogs_10yr.MPCORB'\\\")\\n\",","    \"results.to_table().to_pandas()\"","   ]","  },","  {","   \"cell_type\": \"markdown\",","   \"id\": \"06e52c7d-3e45-4f21-bddd-1b7e7d879e21\",","   \"metadata\": {},","   \"source\": [","    \"En algunos casos, las descripciones de las columnas se cortan en la tabla anterior. \\n\",","    \"\u003e In some cases, the column descriptions cut off in the table above.\\n\",","    \"\\n\",","    \"Ejecutar lo siguiente para ver, por ejemplo, la descripción completa para la columna `mpcDesignation`.\\n\",","    \"\u003e Execute the following to see, for example, the full description for the `mpcDesignation` column.\"","   ]","  },","  {","   \"cell_type\": \"code\",","   \"execution_count\": null,","   \"id\": \"7743b75b-9c91-4756-892e-741e15bd3cef\",","   \"metadata\": {","    \"tags\": []","   },","   \"outputs\": [],","   \"source\": [","    \"results['description'][10]\"","   ]","  },","  {","   \"cell_type\": \"markdown\",","   \"id\": \"50c4dcdf-9e70-4c56-aa2b-15c7bc6feb65\",","   \"metadata\": {},","   \"source\": [","    \"### 3.3. Obtener un subconjunto al azar\\n\",","    \"\\n\",","    \"\u003e Retrieve a random subset\\n\",","    \"\\n\",","    \"Para obtener un subconjunto de filas al azar, hacer uso del hecho de que `ssObjectId` es un entero sin signo de tipo long unsigned integer de 64-bits asignado aleatoriamente.\\n\",","    \"Ya que ADQL interpreta al tipo long unsigned integer de 64-bits como un entero _con signo_ de 63-bits,\\n\",","    \"estos varían desde un valor entero negativo muy grande hasta un valor entero positivo muy grande.\\n\",","    \"Esto será arreglado en el futuro para que todos los identificadores sean números positivos. \\n\",","    \"\\n\",","    \"\u003e To retrieve a random subset of rows, make use of the fact that `ssObjectId` is a randomly assigned 64-bit long unsigned integer. \\n\",","    \"\u003e Since ADQL interprets a 64-bit long unsigned integer as a 63-bit _signed_ integer, \\n\",","    \"\u003e these range from a very large negative integer value to a very large positive integer value.\\n\",","    \"\u003e This will be fixed in the future so that all identifiers are positive numbers.\\n\",","    \"\\n\",","    \"**Aviso:** Por el uso de `ssObjectId`, la siguiente consulta devuelve un subconjunto de filas al azar de `MPCORB` *que están asociadas con una fila en la tabla `SSObject`*. En otras palabras, esto limita la consulta a sólo recuperar objetos en movimiento desde la tabla `MPCORB`  que han sido detectados por LSST.\\n\",","    \"\\n\",","    \"\u003e **Notice:** By using `ssObjectId`, the following query returns a random subset of `MPCORB` rows *that are associated with a row in the `SSObject` table*. In other words, this limits the query to only retrieve moving objects from the `MPCORB` table that have been detected by LSST.\\n\",","    \"\\n\",","    \"Primero, averiguar el rango completo de los valores de `ssObjectId` usando las funciones `MIN` y `MAX` de ADQL.\\n\",","    \"\u003e First, figure out the full range of `ssObjectId` values by using the ADQL `MIN` and `MAX` functions.\"","   ]","  },","  {","   \"cell_type\": \"code\",","   \"execution_count\": null,","   \"id\": \"daf15ffa-ac64-497b-8a08-2df29570fa36\",","   \"metadata\": {","    \"tags\": []","   },","   \"outputs\": [],","   \"source\": [","    \"results = service.search(\\\"SELECT min(ssObjectId), max(ssObjectId)\\\"\\n\",","    \"                         \\\"FROM dp03_catalogs_10yr.MPCORB\\\")\\n\",","    \"results.to_table()\"","   ]","  },","  {","   \"cell_type\": \"markdown\",","   \"id\": \"086af243-a5fe-4bc3-b7d9-57595cb0c637\",","   \"metadata\": {},","   \"source\": [","    \"Definir un rango de búsqueda para `ssObjectId` que devuelva no más del 1% de todos los objetos en `MPCORB`. Esto lo haremos estimando un nuevo mínimo `ssObjectId` que esté 1% *por debajo* del máximo `ssObjectId` para todo el rango de los valores de `ssObjectId`.\\n\",","    \"\\n\",","    \"\u003e Define a search range for `ssObjectId` that would return no more than 1% of all objects in `MPCORB`.  We will do this by estimating a new minimum `ssObjectId` that is 1% _below_ the maximum `ssObjectId` for the full range of `ssObjectId` values.\\n\",","    \"\\n\",","    \"\u003e **Aviso:** Ya que el *rango* de `ssObjectId` (-9223370383071521539 --\u003e +9223370875126069107) es mucho más grande que el número de *filas* en la tabla `MPCORB` (14600302), no esperamos obtener con este método *exactamente* el 1% de las filas de `MPCORB`, pero deberíamos obtener aproximadamente el 1%, siempre y cuando los valores de `ssObjectId` estén distribuidos de manera razonablemente uniforme sobre su extenso rango.\\n\",","    \"\\n\",","    \"\u003e\u003e **Notice:** Since the _range_ of `ssObjectId`'s (-9223370383071521539 --\u003e +9223370875126069107) is much larger than the number of _rows_ in the `MPCORB` table (14600302), we don't expect to get _exactly_ 1% of the rows from `MPCORB` via this method, but we should get approximately 1%, as long as the `ssObjectId` values are distributed reasonably uniformly over their large range.\\n\"","   ]","  },","  {","   \"cell_type\": \"code\",","   \"execution_count\": null,","   \"id\": \"ad841f2b-80da-4ff4-9b2e-b56473cb6fee\",","   \"metadata\": {","    \"tags\": []","   },","   \"outputs\": [],","   \"source\": [","    \"min_val = int(results[0].get('min'))\\n\",","    \"max_val = int(results[0].get('max'))\\n\",","    \"print('Rango completo: ', min_val, max_val)\\n\",","    \"\\n\",","    \"min_val = int(max_val - 0.01*(max_val-min_val))\\n\",","    \"print('Rango de búsqueda: ', min_val, max_val)\"","   ]","  },","  {","   \"cell_type\": \"markdown\",","   \"id\": \"6ab5d7bb-6c76-4a06-9086-d6d92d458ce3\",","   \"metadata\": {","    \"execution\": {","     \"iopub.execute_input\": \"2023-06-27T22:39:44.565969Z\",","     \"iopub.status.busy\": \"2023-06-27T22:39:44.565076Z\",","     \"iopub.status.idle\": \"2023-06-27T22:39:44.570822Z\",","     \"shell.execute_reply\": \"2023-06-27T22:39:44.569984Z\",","     \"shell.execute_reply.started\": \"2023-06-27T22:39:44.565938Z\"","    },","    \"tags\": []","   },","   \"source\": [","    \"Ejecutar la busqueda, y recuperar todas (\\\\*) las columnas de la tabla `MPCORB`.\\n\",","    \"\u003e Execute the search, and retrieve all (\\\\*) columns from the `MPCORB` table.\\n\",","    \"\\n\",","    \"Guardar los resultados en `df`como un marco de datos de `pandas` (_dataframe_).\\n\",","    \"\u003e Store the results in `df` as a `pandas` dataframe.\\n\",","    \"\u003e\\n\",","    \"\u003e \u003cspan style=\\\"background: orange\\\"\u003e\\n\",","    \"\u003e {No sé si no decirle \\\"dataframe\\\" de ahora en más...}\\n\",","    \"\u003e \u003c/span\u003e\"","   ]","  },","  {","   \"cell_type\": \"code\",","   \"execution_count\": null,","   \"id\": \"21fc62cd-b749-46fa-8739-f5ba90c36d83\",","   \"metadata\": {","    \"tags\": []","   },","   \"outputs\": [],","   \"source\": [","    \"results = service.search(\\\"SELECT * FROM dp03_catalogs_10yr.MPCORB \\\"\\n\",","    \"                         \\\"WHERE ssObjectId BETWEEN 9038903462544093184 \\\"\\n\",","    \"                         \\\"AND 9223370875126069107\\\")\\n\",","    \"df = results.to_table().to_pandas()\"","   ]","  },","  {","   \"cell_type\": \"markdown\",","   \"id\": \"0e2fb6d0-dddf-4c35-aa1d-561f7fcf29a8\",","   \"metadata\": {},","   \"source\": [","    \"Mostrar el marco de datos resultante. Notar que es truncado automáticamente tanto en las columnas como en las filas\\n\",","    \"(busca los \\\"...\\\" a mitad de camino hacia abajo y a mitad de camino a través de la tabla).\\n\",","    \"\u003e Display the resulting dataframe. Note that it is automatically truncated for both columns and rows \\n\",","    \"\u003e (look for the \\\"...\\\" halfway down, and halfway across).\"","   ]","  },","  {","   \"cell_type\": \"code\",","   \"execution_count\": null,","   \"id\": \"6cdda7dc-977e-46f1-84ad-aad3b7ab087f\",","   \"metadata\": {","    \"tags\": []","   },","   \"outputs\": [],","   \"source\": [","    \"df\"","   ]","  },","  {","   \"cell_type\": \"markdown\",","   \"id\": \"528bd445-2510-4fbd-985e-f33c91f3e47f\",","   \"metadata\": {},","   \"source\": [","    \"Como se puede ver, se obtuvieron 144,472 filas, las cuales -- _como se esperaba_ -- son casi (pero no exactamente) el 1% de las 14,462,388 filas en la tabla `MPCORB`.\\n\",","    \"\\n\",","    \"\u003e As we see, 144,472 rows were returned, which -- _as expected_ -- is almost (but not exactly) 1% of the 14,462,388 rows in the `MPCORB` table.  \\n\",","    \"\\n\",","    \"\u003e **Aviso:** Hay numerosas columnas que actualmente contienen valores `NaN` (not a number -- no es un número).\\n\",","    \"\u003e Para los datos simulados de DP0.3 estas columnas podrían ser reemplazadas en el futuro cercano,\\n\",","    \"\u003e y para las divulgaciones de datos reales no habrá ninguna columna con todos sus valores en `NaN`.\\n\",","    \"\u003e Si se desea, se pueden quitar todas las columnas con `NaN` haciendo, e.g. `df.dropna(axis=1, how='all', inplace=True)`.\\n\",","    \"\u003e De todas formas, la mejor práctica es entender las columnas y recuperar sólo lo que se vaya a utilizar.\\n\",","    \"\\n\",","    \"\u003e\u003e **Notice:** There are several columns that currently contain `NaN` (not a number) values.\\n\",","    \"\u003e\u003e For the simulated DP0.3 data these columns might be replaced in the near future, \\n\",","    \"\u003e\u003e \u003cspan style=\\\"background: yellow\\\"\u003e\\n\",","    \"\u003e\u003e and for real\\n\",","    \"\u003e\u003e \u003cspan style=\\\"background: lightcyan\\\"\u003e\\n\",","    \"\u003e\u003e data releases\\n\",","    \"\u003e\u003e \u003c/span\u003e\\n\",","    \"\u003e\u003e there will not be all-`NaN` columns.\\n\",","    \"\u003e\u003e \u003c/span\u003e\\n\",","    \"\u003e\u003e If desired, users can drop all-`NaN` columns with, e.g., `df.dropna(axis=1, how='all', inplace=True)`.\\n\",","    \"However the better practice is to understand the columns and retrieve only what you are going to use.\"","   ]","  },","  {","   \"cell_type\": \"markdown\",","   \"id\": \"aaa28cea-3137-4a8a-a5a1-756a4943ddbb\",","   \"metadata\": {","    \"execution\": {","     \"iopub.execute_input\": \"2023-06-27T22:42:58.606568Z\",","     \"iopub.status.busy\": \"2023-06-27T22:42:58.605621Z\",","     \"iopub.status.idle\": \"2023-06-27T22:42:58.612817Z\",","     \"shell.execute_reply\": \"2023-06-27T22:42:58.611762Z\",","     \"shell.execute_reply.started\": \"2023-06-27T22:42:58.606523Z\"","    },","    \"tags\": []","   },","   \"source\": [","    \"**Opcional:** usar la función `info` del marco de datos de `pandas` para aprender más acerca de los valores en las columnas obtenidas.\\n\",","    \"Descomentar la siguiente celda de código (eliminar el símbolo #) y ejecutar la celda para ver la información sobre `df`.\\n\",","    \"\u003e **Optional:** use the `pandas` dataframe `info` function to learn more about the values in the retrieved columns.\\n\",","    \"\u003e Uncomment the following code cell (remove the # symbol) and execute the cell to see the info on `df`.\"","   ]","  },","  {","   \"cell_type\": \"code\",","   \"execution_count\": null,","   \"id\": \"1752b220-1916-440b-8c3e-616c4e0623f7\",","   \"metadata\": {","    \"tags\": []","   },","   \"outputs\": [],","   \"source\": [","    \"# df.info()\"","   ]","  },","  {","   \"cell_type\": \"markdown\",","   \"id\": \"b4a18142-d555-4cba-a499-b80902ba4a2e\",","   \"metadata\": {},","   \"source\": [","    \"**Opcional:**  Usar la función `describe` de `pandas` para mostrar estadísticas de las \\n\",","    \"columnas numéricas en el marco de datos (conteo, media, desviación estándar, etc.).\\n\",","    \"\\n\",","    \"\u003e **Optional:** use the `pandas` fuction `describe` to display statistics for the \\n\",","    \"\u003e numerical columns in the dataframe (count, mean, standard deviation, etc.).\"","   ]","  },","  {","   \"cell_type\": \"code\",","   \"execution_count\": null,","   \"id\": \"0cdf2982-1cc2-476c-a14b-9ba9d3561fb2\",","   \"metadata\": {","    \"tags\": []","   },","   \"outputs\": [],","   \"source\": [","    \"# df.describe()\"","   ]","  },","  {","   \"cell_type\": \"markdown\",","   \"id\": \"9721c47c-6302-4e0c-8d38-3825ff86266c\",","   \"metadata\": {},","   \"source\": [","    \"### 3.4. Graficar histogramas de columnas seleccionadas\\n\",","    \"\\n\",","    \"\u003e Plot histograms of selected columns\\n\",","    \"\\n\",","    \"Wikipedia provee una guía adecuada de \u003ca href=\\\"https://es.wikipedia.org/wiki/Elementos_orbitales\\\"\u003e elementos orbitales para principiantes\u003c/a\u003e.\\n\",","    \"\u003e Wikipedia provides a decent \u003ca href=\\\"https://en.wikipedia.org/wiki/Orbital_elements\\\"\u003ebeginner-level guide to orbital elements\u003c/a\u003e.\\n\",","    \"\u003e\\n\",","    \"\u003e \u003cspan style=\\\"background: orange\\\"\u003e\\n\",","    \"\u003e {La versión en español tiene algunas diferencias pero considero que está bien.}\\n\",","    \"\u003e \u003c/span\u003e\\n\",","    \"\\n\",","    \"Para una referencia rápida, abajo se muestran distribuciones para cinco elementos orbitales clave\\n\",","    \"y la magnitud absoluta $H$ (ver la Sección 4.4 para una descripción de $H$).\\n\",","    \"\u003e For a quick reference, distributions are shown below for five key orbital elements\\n\",","    \"\u003e and the absolute $H$ magnitude (see Section 4.4 for a description of $H$).\"","   ]","  },","  {","   \"cell_type\": \"code\",","   \"execution_count\": null,","   \"id\": \"478cba37-0c97-4132-83e5-6bde2083b6bc\",","   \"metadata\": {","    \"tags\": []","   },","   \"outputs\": [],","   \"source\": [","    \"fig, ax = plt.subplots(2, 3, figsize=(10, 6), sharey=False)\\n\",","    \"ax[0, 0].hist(df['e'], bins=100, log=True)\\n\",","    \"ax[0, 0].set_xlabel('Excentricidad')\\n\",","    \"ax[0, 0].set_ylabel('log(Número)')\\n\",","    \"ax[0, 1].hist(df['incl'], bins=100, log=True)\\n\",","    \"ax[0, 1].set_xlabel('Inclinación (deg)')\\n\",","    \"ax[0, 1].set_ylabel('log(Número)')\\n\",","    \"ax[0, 2].hist(df['mpcH'], bins=100, log=True)\\n\",","    \"ax[0, 2].set_xlabel('Magnitud Absoluta, H (mag)')\\n\",","    \"ax[0, 2].set_ylabel('log(Número)')\\n\",","    \"ax[1, 0].hist(df['node'], bins=50)\\n\",","    \"ax[1, 0].set_xlabel('Longitud del Nodo Ascendente (deg)')\\n\",","    \"ax[1, 0].set_ylabel('Número')\\n\",","    \"ax[1, 0].set_ylim(0,3500)\\n\",","    \"ax[1, 1].hist(df['peri'], bins=50)\\n\",","    \"ax[1, 1].set_xlabel('Argumento del Perihelio (deg)')\\n\",","    \"ax[1, 1].set_ylabel('Número')\\n\",","    \"ax[1, 1].set_ylim(0,3500)\\n\",","    \"ax[1, 2].hist(df['q'], bins=100, log=True)\\n\",","    \"ax[1, 2].set_xlabel('Distancia al Perihelio (au)')\\n\",","    \"ax[1, 2].set_ylabel('log(Número)')\\n\",","    \"fig.suptitle('Histogramas de Elementos Orbitales Clave')\\n\",","    \"fig.tight_layout()\\n\",","    \"plt.show()\"","   ]","  },","  {","   \"cell_type\": \"markdown\",","   \"id\": \"463704a9-dc73-4f7c-abfd-43b2f9731539\",","   \"metadata\": {","    \"execution\": {","     \"iopub.execute_input\": \"2023-06-17T15:47:28.771164Z\",","     \"iopub.status.busy\": \"2023-06-17T15:47:28.770077Z\",","     \"iopub.status.idle\": \"2023-06-17T15:47:28.774678Z\",","     \"shell.execute_reply\": \"2023-06-17T15:47:28.773860Z\",","     \"shell.execute_reply.started\": \"2023-06-17T15:47:28.771122Z\"","    },","    \"tags\": []","   },","   \"source\": [","    \"## 4. La tabla `SSObject`\\n\",","    \"\\n\",","    \"\u003e The `SSObject` table\\n\",","    \"\\n\",","    \"Durante las Operaciones de Rubin, el Procesamiento de Datos Inmediatos (Prompt Processing) se realizará durante la noche, detectando fuentes en imágenes diferenciales (a las cuales llamaremos DIASources --fuentes resultantes del Análisis de Imágenes Diferenciales o fuentes DIA--, ver Sección 6, tabla `DiaSource`) y asociándolas a transitorios y variables estáticos en el cielo (llamados DIAObjects de la tabla `DIAObject`, no incluídos en DP0.3).\\n\",","    \"\\n\",","    \"\u003e During\\n\",","    \"\u003e \u003cspan style=\\\"background: lightcyan\\\"\u003e\\n\",","    \"\u003e Rubin Operations\\n\",","    \"\u003e \u003c/span\u003e\\n\",","    \"\u003e ,\\n\",","    \"\u003e \u003cspan style=\\\"background: lightcyan\\\"\u003e\\n\",","    \"\u003e Prompt Processing\\n\",","    \"\u003e \u003c/span\u003e\\n\",","    \"\u003e  will occur during the night, detecting sources in \\n\",","    \"\u003e \u003cspan style=\\\"background: lightcyan\\\"\u003e\\n\",","    \"\u003e difference images\\n\",","    \"\u003e \u003c/span\u003e\\n\",","    \"\u003e (`DiaSources`, see Section 6) and associating them\\n\",","    \"\u003e \u003cspan style=\\\"background: lightsalmon\\\"\u003e\\n\",","    \"\u003e into static-sky transients\\n\",","    \"\u003e and variables\\n\",","    \"\u003e \u003c/span\u003e \u003cspan style=\\\"background: yellow\\\"\u003e\\n\",","    \"\u003e (\\n\",","    \"\u003e `DiaObjects`\\n\",","    \"\u003e , not included in DP0.3).\\n\",","    \"\u003e \u003c/span\u003e \u003cspan style=\\\"background: lightgreen\\\"\u003e\\n\",","    \"\u003e {El término\\n\",","    \"\u003e \u003ca href=\\\"#\\\" title=\\\"[DIAObject] Un DIAObject es la asociación de DIASources, por coordenada, que ha sido detectada con relación señal/ruido superior a 5 como mínimo en una imagen diferencial. Se distingue de un Objeto regular en que su brillo varía con el tiempo, y de un SSObject en que es estacionario (inmóvil).\\\"\u003eDIAObject\u003c/a\u003e\\n\",","    \"\u003e figura en el glosario, y se refiere una asociación entre detección y objeto}\\n\",","    \"\u003e \u003c/span\u003e\\n\",","    \"\u003e \\n\",","    \"\\n\",","    \"El Procesamiento del Sistema Solar que ocurre durante el día, luego de una noche de observación,\\n\",","    \"vincula las detecciones de objetos en movimiento `DiaSource` con objetos `SSObject` (Objeto del Sistema Solar).\\n\",","    \"Mientras que la tabla `MPCORB` contiene los elementos orbitales para esos objetos en movimiento,\\n\",","    \"los objetos de `SSObject` contienen las propiedades medidas por Rubin como ajustes de curvas de fase y magnitudes absolutas.\\n\",","    \"\\n\",","    \"\u003e The\\n\",","    \"\u003e \u003cspan style=\\\"background: lightcyan\\\"\u003e\\n\",","    \"\u003e Solar System Processing\\n\",","    \"\u003e \u003c/span\u003e\\n\",","    \"\u003e which occurs in the daytime, after a night of observing,\\n\",","    \"\u003e links together\\n\",","    \"\u003e \u003cspan style=\\\"background: yellow\\\"\u003e\\n\",","    \"\u003e the `DiaSources` for moving objects into `SSObjects`.\\n\",","    \"\u003e \u003c/span\u003e \u003cspan style=\\\"background: lightgreen\\\"\u003e\\n\",","    \"\u003e {Un DIASource es una detección según el glosario}\\n\",","    \"\u003e \u003c/span\u003e\\n\",","    \"\u003e Whereas the `MPCORB` table contains the orbital elements for these moving objects,\\n\",","    \"\u003e the `SSObjects` contains the Rubin-measured properties such as phase curve fits and absolute magnitudes.\\n\",","    \"\\n\",","    \"\u003e **Aviso:** No se inyectaron artefactos ni fuentes de imágenes diferenciales espurias en los catálogos de DP0.3.\\n\",","    \"\\n\",","    \"\u003e\u003e **Notice:** no artifacts or\\n\",","    \"\u003e\u003e \u003cspan style=\\\"background: yellow\\\"\u003e\\n\",","    \"\u003e\u003e spurious difference-image sources\\n\",","    \"\u003e\u003e \u003c/span\u003e\\n\",","    \"\u003e\u003e have been injected into the DP0.3 catalogs.\\n\",","    \"\\n\",","    \"\u003e **Aviso:** aunque hay columnas para ellas, no se simularon datos para las bandas _u_ o _Y_ en DP0.3. A menos que se indique lo contrario, ignoraremos los datos de las bandas _u_ o _Y_ para el resto de esta notebook.\\n\",","    \"\\n\",","    \"\u003e\u003e **Notice:** although there are columns for them, no _u-_ or _Y_-band data were simulated for DP0.3.  Unless noted, we will ignore _u-_ or _Y_-band data for the remainder of this notebook.\\n\",","    \"\\n\",","    \"### 4.1. Tamaño\\n\",","    \"\\n\",","    \"\u003e Size\\n\",","    \"\\n\",","    \"Usar la función de conteo de ADQL para devolver el tamaño.\\n\",","    \"\u003e Use the ADQL count function to return the size.\"","   ]","  },","  {","   \"cell_type\": \"code\",","   \"execution_count\": null,","   \"id\": \"cd943cfe-7c32-49da-b2eb-af12cf3b78b2\",","   \"metadata\": {","    \"tags\": []","   },","   \"outputs\": [],","   \"source\": [","    \"results = service.search(\\\"SELECT COUNT(*) from dp03_catalogs_10yr.SSObject\\\")\\n\",","    \"results.to_table().to_pandas()\"","   ]","  },","  {","   \"cell_type\": \"markdown\",","   \"id\": \"56f8dad2-5f9a-4393-960c-f652440ed3b1\",","   \"metadata\": {},","   \"source\": [","    \"El conjunto de datos DP0.3 contiene 4.4 millones de objetos del sistema solar detectados por Rubin.\\n\",","    \"\\n\",","    \"\u003e The DP0.3 data set contains 4.4 million solar system objects detected by Rubin.\\n\",","    \"\\n\",","    \"Esto es menos que los 14.5 millones de objetos en el catálogo `MPCORB`.\\n\",","    \"Se deja como ejercicio en la Sección 7 determinar las características de\\n\",","    \"esos objetos de la tabla `MPCORB` que faltan en la tabla `SSObject`.\\n\",","    \"\\n\",","    \"\u003e This is less than the 14.5 million objects in the `MPCORB` catalog.\\n\",","    \"\u003e It is left as an exercise\\n\",","    \"\u003e \u003cspan style=\\\"background: yellow\\\"\u003e\\n\",","    \"\u003e for the learner\\n\",","    \"\u003e \u003c/span\u003e \u003cspan style=\\\"background: lightgreen\\\"\u003e\\n\",","    \"\u003e {suprimo lo del lector para evitar sesgo de género}\\n\",","    \"\u003e \u003c/span\u003e\\n\",","    \"\u003e  in Section 7 to determine the characteristics of those \\n\",","    \"\u003e objects from the `MPCORB` table are missing from the `SSObject` table.\"","   ]","  },","  {","   \"cell_type\": \"markdown\",","   \"id\": \"cb8901f4-f8d2-43a1-b2c4-cc020a31a30f\",","   \"metadata\": {},","   \"source\": [","    \"### 4.2. Columnas\\n\",","    \"\\n\",","    \"\u003e Columns\\n\",","    \"\\n\",","    \"**Opcional:** mostrar una lista de nombres de columnas, tipos de datos, descripciones y unidades.\\n\",","    \"\u003e **Option:** display a list of column names, data types, descriptions, and units.\"","   ]","  },","  {","   \"cell_type\": \"code\",","   \"execution_count\": null,","   \"id\": \"19816767-ea9b-4b23-a38d-c16a05450604\",","   \"metadata\": {","    \"tags\": []","   },","   \"outputs\": [],","   \"source\": [","    \"# results = service.search(\\\"SELECT column_name, datatype, description, \\\"\\n\",","    \"#                          \\\"unit from TAP_SCHEMA.columns \\\"\\n\",","    \"#                          \\\"WHERE table_name = 'dp03_catalogs_10yr.SSObject'\\\")\\n\",","    \"# results.to_table().to_pandas()\"","   ]","  },","  {","   \"cell_type\": \"markdown\",","   \"id\": \"e4c7043b-4fc4-4c46-a819-9c3bdfed379a\",","   \"metadata\": {},","   \"source\": [","    \"### 4.3. Obtener un subconjunto al azar\\n\",","    \"\\n\",","    \"\u003e Retrieve a random subset\\n\",","    \"\\n\",","    \"Usar básicamente la misma consulta que se utilizo para la tabla `MPCORB`, arriba.\\n\",","    \"\u003e Use essentially the same query as was used for the `MPCORB` table, above.\"","   ]","  },","  {","   \"cell_type\": \"code\",","   \"execution_count\": null,","   \"id\": \"c78509c8-bb10-4fce-9921-18fe19101e72\",","   \"metadata\": {","    \"tags\": []","   },","   \"outputs\": [],","   \"source\": [","    \"results = service.search(\\\"SELECT * FROM dp03_catalogs_10yr.ssObject \\\"\\n\",","    \"                         \\\"WHERE ssObjectId BETWEEN 9038903462544093184 \\\"\\n\",","    \"                         \\\"AND 9223370875126069107\\\")\\n\",","    \"df = results.to_table().to_pandas()\"","   ]","  },","  {","   \"cell_type\": \"code\",","   \"execution_count\": null,","   \"id\": \"a1a152e1-50c3-49f6-9739-a375b422b805\",","   \"metadata\": {","    \"tags\": []","   },","   \"outputs\": [],","   \"source\": [","    \"df\"","   ]","  },","  {","   \"cell_type\": \"markdown\",","   \"id\": \"4cd4af29-a072-4361-b65b-5979d4812783\",","   \"metadata\": {","    \"execution\": {","     \"iopub.execute_input\": \"2023-06-27T21:51:31.545543Z\",","     \"iopub.status.busy\": \"2023-06-27T21:51:31.545077Z\",","     \"iopub.status.idle\": \"2023-06-27T21:51:31.549274Z\",","     \"shell.execute_reply\": \"2023-06-27T21:51:31.548724Z\",","     \"shell.execute_reply.started\": \"2023-06-27T21:51:31.545521Z\"","    },","    \"tags\": []","   },","   \"source\": [","    \"Hay 44611 filas.\\n\",","    \"\u003e There are 44611 rows.\"","   ]","  },","  {","   \"cell_type\": \"markdown\",","   \"id\": \"5c1b56c6-5874-4f5c-a7cd-d0a6daa69a84\",","   \"metadata\": {},","   \"source\": [","    \"**Opcional:** usar las funciones `info` o `describe` sobre el marco de datos de `pandas` para aprender más sobre los resultados obtenidos.\\n\",","    \"\u003e **Options:** use the `info` or `describe` functions on the `pandas` dataframe to learn more about the retrieved results.\"","   ]","  },","  {","   \"cell_type\": \"code\",","   \"execution_count\": null,","   \"id\": \"aeeb504b-3ae8-4483-ac8a-809ab113e213\",","   \"metadata\": {","    \"tags\": []","   },","   \"outputs\": [],","   \"source\": [","    \"# df.info()\"","   ]","  },","  {","   \"cell_type\": \"code\",","   \"execution_count\": null,","   \"id\": \"d8571bad-0431-4040-a083-cab4364a7927\",","   \"metadata\": {","    \"tags\": []","   },","   \"outputs\": [],","   \"source\": [","    \"# df.describe()\"","   ]","  },","  {","   \"cell_type\": \"markdown\",","   \"id\": \"f5c93746-8820-4dc1-8102-4d67b393b542\",","   \"metadata\": {},","   \"source\": [","    \"### 4.4. Graficar un diagrama color-color\\n\",","    \"\\n\",","    \"\u003e Plot a color-color diagram\\n\",","    \"\\n\",","    \"En el marco de datos mostrado arriba, pareciera que para varios objetos de `SSObject` los ajustes de las curvas de fase para obtener magnitudes absolutas no fueron exitosos, ya que las columnas `\u003cbanda\u003e_H` (donde `\u003cbanda\u003e` es una banda u, g, r, i, z o y) tienen valores `NaN`. (Recordar en particular que no se simularon datos para las bandas _u_ o _y_ en DP0.3.).\\n\",","    \"\\n\",","    \"\u003e In the displayed dataframe above, it appears that for many `SSObjects` the phase-curve fits to\\n\",","    \"\u003e \u003cspan style=\\\"background: yellow\\\"\u003e\\n\",","    \"\u003e derive\\n\",","    \"\u003e \u003c/span\u003e\\n\",","    \"\u003e absolute magnitudes were not successful, as the `\u003cband\u003e_H` (where `\u003cband\u003e` is a band u, g, r, i, z, or y) are `NaN`.  (Recall in  particular that no _u-_ or _y_-band data were simulated for DP0.3.)\\n\",","    \"\\n\",","    \"Antes de calcular y graficar los colores, quitar todas las filas para las cuales los ajustes de las curvas de fase no fueron exitosos para las bandas _g_, _r_, _i_, y/o _z_.\\n\",","    \"\\n\",","    \"\u003e Before calculating and plotting the colors, drop all of the rows for which the phase-curve fits were not successful for g, r, i, and/or z bands.\"","   ]","  },","  {","   \"cell_type\": \"code\",","   \"execution_count\": null,","   \"id\": \"937fb5ee-ef7b-4ef3-98ea-8d7237fe2a95\",","   \"metadata\": {","    \"tags\": []","   },","   \"outputs\": [],","   \"source\": [","    \"df.dropna(subset=['g_H', 'r_H', 'i_H', 'z_H'], inplace=True)\\n\",","    \"df.reset_index(inplace=True)\\n\",","    \"print('Número de filas después de eliminar filas: %d' % len(df))\"","   ]","  },","  {","   \"cell_type\": \"markdown\",","   \"id\": \"00180672-d7d6-40df-9d85-c51bb298dce6\",","   \"metadata\": {},","   \"source\": [","    \"Para objetos del Sistema Solar, las magnitudes absolutas se definen como la magnitud de un objeto a 1 ua del Sol y a 1 ua\\n\",","    \"del observador, y en un ángulo de fase (el ángulo Sol-objeto-Tierra) de 0 grados.\\n\",","    \"\\n\",","    \"\u003e For Solar System objects,\\n\",","    \"\u003e \u003cspan style=\\\"background: yellow\\\"\u003e\\n\",","    \"\u003e absolute magnitudes are defined to be for an object 1 au from the Sun and 1 au \\n\",","    \"\u003e from the observer,\\n\",","    \"\u003e \u003c/span\u003e\\n\",","    \"\u003e  and at a phase angle (the angle Sun-object-Earth) of 0 degrees.\\n\",","    \"\\n\",","    \"Las magnitudes absolutas se obtienen corrigiendo por distancia, ajustando una función a la relación entre\\n\",","    \"la magnitud absoluta y la fase, y evaluando la función en una fase de 0 grados.\\n\",","    \"\\n\",","    \"\u003e Absolute magnitudes are derived by\\n\",","    \"\u003e \u003cspan style=\\\"background: yellow\\\"\u003e\\n\",","    \"\u003e correcting for distance\\n\",","    \"\u003e \u003c/span\u003e\\n\",","    \"\u003e , fitting a function to the relationship between \\n\",","    \"\u003e absolute magnitude and phase, and evaluating the function at a phase of 0 deg.\\n\",","    \"\\n\",","    \"El proceso de ajustar las curvas de fase será abordado en otro tutorial.\\n\",","    \"\\n\",","    \"\u003e The process for fitting phase curves will be covered in another tutorial.\\n\",","    \"\\n\",","    \"Calcular los colores en los filtros de Rubin para los objetos `SSObject` que tienen magnitudes absolutas.\\n\",","    \"\\n\",","    \"\u003e Calculate colors in the Rubin filters for the `SSObjects` that have absolute magnitudes.\"","   ]","  },","  {","   \"cell_type\": \"code\",","   \"execution_count\": null,","   \"id\": \"16eeddc9-f0dc-470c-ab96-252b4cfc66f6\",","   \"metadata\": {","    \"tags\": []","   },","   \"outputs\": [],","   \"source\": [","    \"df['gr'] = df['g_H'] - df['r_H']\\n\",","    \"df['ri'] = df['r_H'] - df['i_H']\\n\",","    \"df['iz'] = df['i_H'] - df['z_H']\"","   ]","  },","  {","   \"cell_type\": \"markdown\",","   \"id\": \"8296082b-a528-4abd-92ce-52707da8ccc4\",","   \"metadata\": {},","   \"source\": [","    \"Graficar diagramas color-color como histogramas bi-dimensionales (mapas de calor -- heatmaps).\\n\",","    \"\u003e Plot color-color diagrams as 2-dimensional histograms (heatmaps).\"","   ]","  },","  {","   \"cell_type\": \"code\",","   \"execution_count\": null,","   \"id\": \"649578b9-496c-4703-8938-b3084d37cfd2\",","   \"metadata\": {","    \"tags\": []","   },","   \"outputs\": [],","   \"source\": [","    \"fig, ax = plt.subplots(1, 2, figsize=(8, 3))\\n\",","    \"\\n\",","    \"h = ax[0].hist2d(df['gr'], df['ri'],\\n\",","    \"                 bins=(np.arange(-0.5, 1.5, 0.01),\\n\",","    \"                       np.arange(-0.5, 0.75, 0.01)),\\n\",","    \"                 norm='log')\\n\",","    \"ax[0].set_xlabel('g - r')\\n\",","    \"ax[0].set_ylabel('r - i')\\n\",","    \"ax[0].grid()\\n\",","    \"plt.colorbar(h[3])\\n\",","    \"\\n\",","    \"h = ax[1].hist2d(df['ri'], df['iz'],\\n\",","    \"                 bins=(np.arange(-0.5, 0.75, 0.01),\\n\",","    \"                       np.arange(-0.75, 0.5, 0.01)),\\n\",","    \"                 norm='log')\\n\",","    \"ax[1].set_xlabel('r - i')\\n\",","    \"ax[1].set_ylabel('i - z')\\n\",","    \"ax[1].grid()\\n\",","    \"plt.colorbar(h[3])\\n\",","    \"\\n\",","    \"fig.suptitle('Diagramas Color-Color para el catálogo SSObject')\\n\",","    \"fig.tight_layout()\\n\",","    \"plt.show()\"","   ]","  },","  {","   \"cell_type\": \"markdown\",","   \"id\": \"653f251d-a172-4cda-b3c5-0aeecf28d8e6\",","   \"metadata\": {},","   \"source\": [","    \"Hay dos colores usados en la simulación - pero este no es el caso para los objetos reales del Sistema Solar. Estos gráficos se verán muy diferentes en el futuro, cuando estos estén hechos con datos reales de Rubin.\\n\",","    \"\u003e There are two colors used in the simulation - but this is not the case for real Solar System objects.  These plots will look very different in the future, when they are made with real Rubin data.\"","   ]","  },","  {","   \"cell_type\": \"markdown\",","   \"id\": \"ef9ba117-4a6c-4a4c-9b82-5b74a9c40001\",","   \"metadata\": {},","   \"source\": [","    \"## 5. La tabla `SSSource`\\n\",","    \"\\n\",","    \"\u003e The `SSSource` table\\n\",","    \"\\n\",","    \"Como se describe arriba, el Procesamiento del Sistema Solar vincula las fuentes de `DiaSource` (detecciones en las\\n\",","    \"imágenes diferenciales individuales) con objetos móviles en los objetos de `SSObject`.\\n\",","    \"\\n\",","    \"\u003e As described above,\\n\",","    \"\u003e \u003cspan style=\\\"background: lightcyan\\\"\u003e\\n\",","    \"\u003e Solar System Processing\\n\",","    \"\u003e \u003c/span\u003e\\n\",","    \"\u003e links together the `DiaSources` (detections in the\\n\",","    \"\u003e individual difference images) from moving objects into `SSObjects`. \\n\",","    \"\\n\",","    \"La tabla `SSSource` (Fuentes del Sistema Solar) contiene las coordenadas 2-d (cielo) y las distancias y velocidades 3-d\\n\",","    \"para cada objeto de `SSObject` al momento de cada observación de LSST de ese objeto `SSObject`.\\n\",","    \"Las tablas `SSSource`y `DiaSource` son 1:1, ya que cada una contiene datos *por observación*,\\n\",","    \"mientras que `SSObject` contiene datos *por objeto*.\\n\",","    \"\u003e The `SSSource` table contains the 2-d (sky) coordinates and 3-d distances and velocities \\n\",","    \"\u003e for every `SSObject` at the time of every LSST observation of that `SSObject`.\\n\",","    \"\u003e The `SSSource` and `DiaSource` tables are 1:1, as they each contain data *per observation*,\\n\",","    \"\u003e whereas `SSObject` contains data *per object*.\"","   ]","  },","  {","   \"cell_type\": \"markdown\",","   \"id\": \"4dc55526-5aa8-47cd-8d2a-75f02b8b48b7\",","   \"metadata\": {},","   \"source\": [","    \"### 5.1. Tamaño\\n\",","    \"\\n\",","    \"\u003e Size\\n\",","    \"\\n\",","    \"Puede tomar hasta un minuto obtener el tamaño del catálogo `SSSource`.\\n\",","    \"\\n\",","    \"\u003e It can take up to a minute to retrieve the size of the `SSSource` catalog.\"","   ]","  },","  {","   \"cell_type\": \"code\",","   \"execution_count\": null,","   \"id\": \"faa8f8da-ea55-4cf9-a6a5-ce2a9a9e983e\",","   \"metadata\": {","    \"tags\": []","   },","   \"outputs\": [],","   \"source\": [","    \"results = service.search(\\\"SELECT COUNT(*) from dp03_catalogs_10yr.SSSource\\\")\\n\",","    \"results.to_table().to_pandas()\"","   ]","  },","  {","   \"cell_type\": \"markdown\",","   \"id\": \"47b9a7c5-4f38-42f3-96b8-732c72010b81\",","   \"metadata\": {},","   \"source\": [","    \"**_¡Esta tabla contiene más de 653 millones de fuentes!_**\\n\",","    \"\u003e **_This table contains over 653 million sources!_**\"","   ]","  },","  {","   \"cell_type\": \"markdown\",","   \"id\": \"05883359-a838-40ce-8106-494262b5435a\",","   \"metadata\": {},","   \"source\": [","    \"### 5.2. Columnas\\n\",","    \"\\n\",","    \"\u003e Columns\\n\",","    \"\\n\",","    \"**Opcional:** imprimir la información de las columnas para la tabla `SSSource`.\\n\",","    \"\\n\",","    \"\u003e **Option:** print the column information for the `SSSource` table.\"","   ]","  },","  {","   \"cell_type\": \"code\",","   \"execution_count\": null,","   \"id\": \"450c92ce-cc7e-4c6e-a6bd-a423d713c8ee\",","   \"metadata\": {","    \"tags\": []","   },","   \"outputs\": [],","   \"source\": [","    \"# results = service.search(\\\"SELECT column_name, datatype, description, \\\"\\n\",","    \"#                          \\\"unit from TAP_SCHEMA.columns \\\"\\n\",","    \"#                          \\\"WHERE table_name = 'dp03_catalogs_10yr.SSSource'\\\")\\n\",","    \"# results.to_table().to_pandas()\"","   ]","  },","  {","   \"cell_type\": \"markdown\",","   \"id\": \"55f7fd6f-a5c8-4e58-8781-5d7f14ebf530\",","   \"metadata\": {},","   \"source\": [","    \"### 5.3. Recuperar datos de un objeto de `SSObject`\\n\",","    \"\\n\",","    \"\u003e Retrieve data for one `SSObject`\\n\",","    \"\\n\",","    \"Es posible obtener los datos de `SSSource` para un conjunto de objetos de `SSObject`.\\n\",","    \"Por ejemplo, para recuperar todas las fuentes de `SSSource` para los objetos de `SSObject` recuperados en la Sección 4,\\n\",","    \"usar una consulta como:\\n\",","    \"\\n\",","    \"\u003e It is possible to obtain the `SSSource` data for a set of `SSObjects`.\\n\",","    \"\u003e For example, to retrieve all `SSSources` for the `SSObjects` retrieved in Section 4,\\n\",","    \"\u003e use a query such as: \\n\",","    \"\\n\",","    \"```\\n\",","    \"SELECT * FROM dp03_catalogs_10yr.SSSource\\n\",","    \"WHERE ssObjectId BETWEEN 9038903462544093184 AND 9223370875126069107\\n\",","    \"```\\n\",","    \"\\n\",","    \"Sin embargo, la mejor manera de mostrar los datos en la tabla `SSSource` es mirar sólo un objeto de `SSObject`,\\n\",","    \"y el que tiene un `ssObjectId` = `6793512588511170680` es una opción divertida.\\n\",","    \"\\n\",","    \"\u003e However, the better way to demonstrate the data in the `SSSource` table is to look at just one `SSObject`,\\n\",","    \"\u003e and the one with an `ssObjectId` = `6793512588511170680` is a fun choice.\\n\",","    \"\\n\",","    \"Recuperar las coordenadas X e Y heliocéntricas (centradas en el sol) y topocéntricas (centradas en el observatorio).\\n\",","    \"\u003e Retrieve the heliocentric (sun-centered) and topocentric (observatory-centered) X and Y coordinates.\"","   ]","  },","  {","   \"cell_type\": \"code\",","   \"execution_count\": null,","   \"id\": \"8715489d-7c11-42b0-9797-5d29e5086d17\",","   \"metadata\": {","    \"tags\": []","   },","   \"outputs\": [],","   \"source\": [","    \"results = service.search(\\\"SELECT heliocentricX, heliocentricY, \\\"\\n\",","    \"                         \\\"topocentricX, topocentricY, ssObjectId \\\"\\n\",","    \"                         \\\"FROM dp03_catalogs_10yr.SSSource \\\"\\n\",","    \"                         \\\"WHERE ssObjectId = 6793512588511170680\\\")\\n\",","    \"df_xy = results.to_table().to_pandas()\\n\",","    \"print('Retrieved ', len(df_xy), ' rows.')\"","   ]","  },","  {","   \"cell_type\": \"markdown\",","   \"id\": \"b1a6bd96-c573-4b43-9310-cc3cc9411b42\",","   \"metadata\": {},","   \"source\": [","    \"**Opcional:** mostrar la tabla en su totalidad o utilizar las funciones `info` o `describe`.\\n\",","    \"\\n\",","    \"\u003e **Options** to display the table in full or use the `info` or `describe` functions.\"","   ]","  },","  {","   \"cell_type\": \"code\",","   \"execution_count\": null,","   \"id\": \"defd1bb3-9065-4ca8-9171-0b2ce125a462\",","   \"metadata\": {","    \"tags\": []","   },","   \"outputs\": [],","   \"source\": [","    \"# df_xy\"","   ]","  },","  {","   \"cell_type\": \"code\",","   \"execution_count\": null,","   \"id\": \"77771ca4-ca51-4617-a9ce-8939595272b7\",","   \"metadata\": {","    \"tags\": []","   },","   \"outputs\": [],","   \"source\": [","    \"# df_xy.info()\"","   ]","  },","  {","   \"cell_type\": \"code\",","   \"execution_count\": null,","   \"id\": \"3daf9b96-9444-49b6-a702-aded212fa5ca\",","   \"metadata\": {","    \"tags\": []","   },","   \"outputs\": [],","   \"source\": [","    \"# df_xy.describe()\"","   ]","  },","  {","   \"cell_type\": \"markdown\",","   \"id\": \"11c32da4-7632-4ca0-8e51-c3ae130bde77\",","   \"metadata\": {},","   \"source\": [","    \"### 5.3. Graficar las posicionesde un objeto de `SSObject`\\n\",","    \"\\n\",","    \"\u003e Plot the locations of one `SSObject`\\n\",","    \"\\n\",","    \"Graficar las posiciones del objeto seleccionado de la tabla `SSObject` en el momento de cada \\n\",","    \"observación de LSST utilizando las coordenadas X e Y heliocéntricas (centradas en el Sol; estrella naranja)\\n\",","    \"y las coordenadas topocéntricas (centradas en el observatorio; círculo azul).\\n\",","    \"Esto puede considerarse una proyección de la órbita en el plano del Sistema Solar.\\n\",","    \"\\n\",","    \"\u003e Plot the locations of the selected `SSObject` at the time of every \\n\",","    \"\u003e LSST observation using the X and Y heliocentric (Sun-centered; orange star) \\n\",","    \"\u003e and topocentric (observatory-centered; blue circle) coordinates.\\n\",","    \"\u003e This can be considered a projection of the orbit into the plane of the Solar System.\\n\",","    \"\\n\",","    \"Notar cómo los puntos no están espaciados regularmente.\\n\",","    \"Esto es debido a que hay un punto por observación realizada por el LSST al objeto\\n\",","    \"y algunos años éste recibe más o menos observaciones.\\n\",","    \"\\n\",","    \"\u003e Notice how the points are not regularly spaced.\\n\",","    \"\u003e This is because there is one point per LSST observation of the object,\\n\",","    \"\u003e and in some years it receives more or fewer observations.\\n\",","    \"\\n\",","    \"Observar cómo los puntos aparecen en una elipse alrededor del Sol con coordenadas heliocéntricas (izquierda).\\n\",","    \"Esto se debe a que el objeto seleccionado está en el cinturón principal de asteroides y lo suficientemente cerca del Sol como\\n\",","    \"para completar al menos una órbita durante los 10 años de estudio del LSST.\\n\",","    \"Si el objeto seleccionado hubiese estado en el Sistema Solar exterior, o si este tutorial estuviera utilizando\\n\",","    \"el conjunto de datos de 1 año, el gráfico a continuación mostraría un arco en lugar de una elipse.\\n\",","    \"\\n\",","    \"\u003e Notice how the points appear in an ellipse around the Sun with heliocentric coordinates (left).\\n\",","    \"\u003e This is because the selected object is in the main asteroid belt and close enough to the Sun \\n\",","    \"\u003e to complete at least on orbit during the 10-year LSST survey.\\n\",","    \"\u003e Had the selected object been in the outer Solar System, or were this tutorial using\\n\",","    \"\u003e the 1-year data set, the plot below would show an arc instead of an ellipse.\\n\",","    \"\\n\",","    \"El gráfico de las coordenadas topocéntricas (derecha) no se ve elíptico porque \\n\",","    \"el movimiento de la Tierra respecto al objeto durante los 10 años del LSST\\n\",","    \"está reflejado en los datos. \\n\",","    \"Para las coordenadas topocéntricas, la rotación de la Tierra también contribuye,\\n\",","    \"pero es un efecto mucho menor en la escala de estos gráficos.\\n\",","    \"\\n\",","    \"\u003e The plot of the topocentric coordinates (right) does not appear elliptical because\\n\",","    \"\u003e the motion of the Earth with respect to the object over the 10 years of the LSST\\n\",","    \"\u003e is\\n\",","    \"\u003e \u003cspan style=\\\"background: yellow\\\"\u003e\\n\",","    \"\u003e imprinted into the data.\\n\",","    \"\u003e \u003c/span\u003e\\n\",","    \"\u003e For the topocentric coordinates, the Earth's rotation also contributes, \\n\",","    \"\u003e but it is a much smaller effect on the scale of these plots.\"","   ]","  },","  {","   \"cell_type\": \"code\",","   \"execution_count\": null,","   \"id\": \"0464b3fa-299a-4d27-8f47-f19cd21062b6\",","   \"metadata\": {","    \"tags\": []","   },","   \"outputs\": [],","   \"source\": [","    \"fig, ax = plt.subplots(1, 2, figsize=(8, 4))\\n\",","    \"ax[0].grid()\\n\",","    \"ax[0].plot(df_xy['heliocentricX'], df_xy['heliocentricY'],\\n\",","    \"           'o', ms=4, mew=0, color='black')\\n\",","    \"ax[0].plot(0, 0, '*', ms=15, color='darkorange')\\n\",","    \"ax[0].set_xlabel('X heliocéntrico (au)')\\n\",","    \"ax[0].set_ylabel('Y heliocéntrico (au)')\\n\",","    \"ax[0].set_title('Coordenadas Heliocéntricas')\\n\",","    \"ax[1].grid()\\n\",","    \"ax[1].plot(df_xy['topocentricX'], df_xy['topocentricY'],\\n\",","    \"           'o', ms=4, mew=0, color='black')\\n\",","    \"ax[1].plot(0, 0, 'o', ms=15, color='dodgerblue')\\n\",","    \"ax[1].set_xlabel('X topocéntrico (au)')\\n\",","    \"ax[1].set_ylabel('Y topocéntrico (au)')\\n\",","    \"ax[1].set_title('Coordenadas Topocéntricas')\\n\",","    \"fig.suptitle('Trayectoria XY de 6793512588511170680')\\n\",","    \"fig.tight_layout()\\n\",","    \"plt.show()\"","   ]","  },","  {","   \"cell_type\": \"markdown\",","   \"id\": \"7c568937-4f20-489c-b113-711f32cfad34\",","   \"metadata\": {},","   \"source\": [","    \"## 6. El catálogo `DiaSource`\\n\",","    \"\\n\",","    \"\u003e The `DiaSource` catalog\\n\",","    \"\\n\",","    \"Por último, pero definitivamente no menos importante, la tabla `DiaSource` - la cual en realidad es la primera en ser generada\\n\",","    \"por el pipeline del Procesamiento de Datos Inmediatos.\\n\",","    \"Esta tabla va a contener mediciones para todas las fuentes detectadas con una relación señal/ruido de al menos 5 \\n\",","    \"en una imagen diferencial, incluyendo fuentes en movimiento y estáticas en el cielo (static-sky).\\n\",","    \"\\n\",","    \"\u003e Last but definitely not least, the `DiaSource` table - which is actually the first to be generated\\n\",","    \"\u003e by the\\n\",","    \"\u003e \u003cspan style=\\\"background: lightcyan\\\"\u003e\\n\",","    \"\u003e Prompt Processing\\n\",","    \"\u003e \u003c/span\u003e \u003cspan style=\\\"background: yellow\\\"\u003e\\n\",","    \"\u003e pipeline\\n\",","    \"\u003e \u003c/span\u003e \u003cspan style=\\\"background: lightgreen\\\"\u003e\\n\",","    \"\u003e {lo dejo sin traducir ya que es una palabra usada en otros lados}\\n\",","    \"\u003e \u003c/span\u003e\\n\",","    \"\u003e .\\n\",","    \"\u003e This table will contain measurements for all sources detected with a\\n\",","    \"\u003e \u003cspan style=\\\"background: yellow\\\"\u003e\\n\",","    \"\u003e signal-to-noise ratio\\n\",","    \"\u003e \u003c/span\u003e \u003cspan style=\\\"background: lightgreen\\\"\u003e\\n\",","    \"\u003e {saco del glosario de\\n\",","    \"\u003e \u003ca href=\\\"#\\\" title=\\\"[DIASource] Una DIASource es una detección con una relación señal/ruido superior a 5 en una imagen diferencial.\\\"\u003e\\n\",","    \"\u003e DIASource\\n\",","    \"\u003e \u003c/a\u003e\\n\",","    \"\u003e la traducción}\\n\",","    \"\u003e \u003c/span\u003e\\n\",","    \"\u003e of at least 5 \\n\",","    \"\u003e in a\\n\",","    \"\u003e \u003cspan style=\\\"background: lightcyan\\\"\u003e\\n\",","    \"\u003e difference image\\n\",","    \"\u003e \u003c/span\u003e\\n\",","    \"\u003e , including moving and\\n\",","    \"\u003e \u003cspan style=\\\"background: yellow\\\"\u003e\\n\",","    \"\u003e static-sky\\n\",","    \"\u003e \u003c/span\u003e\\n\",","    \"\u003e sources.\\n\",","    \"\\n\",","    \"Sin embargo, para la simulación DP0.3 la tabla `DiaSource` contiene *sólo objetos en movimiento*, y no objetos transitorios con posición fija en el cielo (ni defectos del detector).\\n\",","    \"\u003e However, for simulated DP0.3 the `DiaSource` table contains *only moving objects*,\\n\",","    \"\u003e \u003cspan style=\\\"background: yellow\\\"\u003e\\n\",","    \"\u003e and no static sky time-domain objects\\n\",","    \"\u003e \u003c/span\u003e\\n\",","    \"\u003e (and no detector artifacts).\\n\",","    \"\\n\",","    \"Para DP0.3 la tabla simulada `DiaSource` contiene sólo un subconjunto de las columnas que tendrá la tabla `DiaSource` real; ver Tabla 1 del\\n\",","    \"\u003ca href=\\\"https://docushare.lsstcorp.org/docushare/dsweb/Get/LSE-163/LSE-163_DataProductsDefinitionDocumentDPDD.pdf\\\"\u003eDocumento de Definición de Productos de Datos\u003c/a\u003e de Rubin.\\n\",","    \"Más aún, la tabla `DiaSource` contiene unas pocas columnas con valores de verdad extras, tales como  `raTrue`, `decTrue`, `magTrue`.\\n\",","    \"\\n\",","    \"\u003e For DP0.3 the simulated `DiaSource` table contains only a subset of the columns that the\\n\",","    \"\u003e real `DiaSource` table will have; see Table 1 of the Rubin \\n\",","    \"\u003e \u003ca href=\\\"https://docushare.lsstcorp.org/docushare/dsweb/Get/LSE-163/LSE-163_DataProductsDefinitionDocumentDPDD.pdf\\\"\u003e\\n\",","    \"\u003e \u003cspan style=\\\"background: lightcyan\\\"\u003e\\n\",","    \"\u003e Data Products Definitions Document\\n\",","    \"\u003e \u003c/span\u003e\\n\",","    \"\u003e \u003c/a\u003e.\\n\",","    \"\u003e Furthermore, the `DiaSource` table contains a few extra\\n\",","    \"\u003e \u003cspan style=\\\"background: yellow\\\"\u003e\\n\",","    \"\u003e truth columns\\n\",","    \"\u003e \u003c/span\u003e\u003cspan style=\\\"background: lightgreen\\\"\u003e\\n\",","    \"\u003e {no uso directamente \\\"columna de verdad\\\" porque queda confuso}\\n\",","    \"\u003e \u003c/span\u003e\\n\",","    \"\u003e ,\\n\",","    \"\u003e such as `raTrue`, `decTrue`, `magTrue`.\\n\",","    \"\\n\",","    \"Para DP0.3, no se simularon variaciones fotométricas debidas a, e.g., la rotación de cuerpos no esféricos, colisiones o eventos de desgasificación.\\n\",","    \"Toda la evolución en magnitudes aparentes con el tiempo son debidas a la curva de fase, la cual es explorada\\n\",","    \"en otro tutorial.\\n\",","    \"\\n\",","    \"\u003e For DP0.3, no photometric variability due to, e.g., the rotation of non-spherical bodies, collisions,\\n\",","    \"\u003e or\\n\",","    \"\u003e \u003cspan style=\\\"background: yellow\\\"\u003e\\n\",","    \"\u003e outgassing events\\n\",","    \"\u003e \u003c/span\u003e\\n\",","    \"\u003e were simulated. \\n\",","    \"\u003e All\\n\",","    \"\u003e \u003cspan style=\\\"background: yellow\\\"\u003e\\n\",","    \"\u003e evolution in apparent magnitudes with time\\n\",","    \"\u003e \u003c/span\u003e\\n\",","    \"\u003e are due to the phase curve, which is explored\\n\",","    \"\u003e in another tutorial.\"","   ]","  },","  {","   \"cell_type\": \"markdown\",","   \"id\": \"7c11588b-6129-4b89-acc4-a14f13c09053\",","   \"metadata\": {},","   \"source\": [","    \"### 6.1. Tamaño\\n\",","    \"\\n\",","    \"\u003e Size\\n\",","    \"\\n\",","    \"**Opcional:** obtener el tamaño de la tabla `DiaSource` (es 1:1 con la tabla `SSSource`, por lo que tienen el mismo tamaño).\\n\",","    \"\u003e **Option** to retrieve the size of the `DiaSource` table (it is 1:1 with the `SSSource` table, so the same size).\"","   ]","  },","  {","   \"cell_type\": \"code\",","   \"execution_count\": null,","   \"id\": \"97cc39ef-af55-4244-939f-13a79a0f944d\",","   \"metadata\": {","    \"tags\": []","   },","   \"outputs\": [],","   \"source\": [","    \"# results = service.search(\\\"SELECT COUNT(*) from dp03_catalogs_10yr.DiaSource\\\")\\n\",","    \"# results.to_table().to_pandas()\\n\"","   ]","  },","  {","   \"cell_type\": \"markdown\",","   \"id\": \"abdb5907-467b-4c2d-9797-0dbf7659a796\",","   \"metadata\": {},","   \"source\": [","    \"### 6.2. Columnas\\n\",","    \"\\n\",","    \"\u003e Columns\\n\",","    \"\\n\",","    \"**Opcional:** imprimir la información de las columnas.\\n\",","    \"\u003e **Option** to print the column information.\"","   ]","  },","  {","   \"cell_type\": \"code\",","   \"execution_count\": null,","   \"id\": \"ad2f5716-4310-4393-89fc-0299b176a169\",","   \"metadata\": {","    \"tags\": []","   },","   \"outputs\": [],","   \"source\": [","    \"# results = service.search(\\\"SELECT column_name, datatype, description, \\\"\\n\",","    \"#                          \\\"unit from TAP_SCHEMA.columns \\\"\\n\",","    \"#                          \\\"WHERE table_name = 'dp03_catalogs_10yr.DiaSource'\\\")\\n\",","    \"# results.to_table().to_pandas()\"","   ]","  },","  {","   \"cell_type\": \"markdown\",","   \"id\": \"ebb6fe98-f238-4c46-8964-090eff82bec1\",","   \"metadata\": {},","   \"source\": [","    \"### 6.3. Recuperar datos para un objeto de `SSObject`\\n\",","    \"\\n\",","    \"\u003e Retrieve data for one `SSObject`\\n\",","    \"\\n\",","    \"Parecido a lo que hicimos con los datos de `SSSource` en la Sección 5, es posible obtener los datos de `DiaSource` para un conjunto de objetos `SSObject`. Por ejemplo, para obtener todas las fuentes en `DiaSource` para los objetos de `SSObject` que se recuperaron en la Sección 4,\\n\",","    \"usar una consulta como:\\n\",","    \"\\n\",","    \"\u003e Similar to what we did for `SSSource` data in Section 5, it is possible to obtain the `DiaSource` data for a set of `SSObjects`.  For example, to retrieve all `DiaSources` for the `SSObjects` retrieved in Section 4,\\n\",","    \"\u003e use a query such as: \\n\",","    \"\\n\",","    \"```\\n\",","    \"SELECT * FROM dp03_catalogs_10yr.DiaSource\\n\",","    \"WHERE ssObjectId BETWEEN 9038903462544093184 AND 9223370875126069107\\n\",","    \"```\\n\",","    \"\\n\",","    \"Sin embargo, como vimos para los datos de las fuentes de `SSSource` en la Sección 5, la mejor forma de mostrar los datos en la tabla `DiaSource` es mirar sólo un objeto de `SSObject`.\\n\",","    \"Aquí, como en la Sección 5, usaremos el que tiene un `ssObjectId` = `6793512588511170680`.\\n\",","    \"\\n\",","    \"\u003e However, as we saw for the `SSSource` data in Section 5, the better way to demonstrate the data in the `DiaSource` table is to look at just one `SSObject`.\\n\",","    \"\u003e Here, as in Section 5, we will use the one with an `ssObjectId` = `6793512588511170680`.\\n\",","    \"\\n\",","    \"Obtener la ascensión, declinación y el \u003ca href=\\\"https://es.wikipedia.org/wiki/Tiempo_At%C3%B3mico_Internacional\\\"\u003eTAI\u003c/a\u003e (International Atomic Time) correctos en el punto medio de exposición (MJD) de la observación.\\n\",","    \"\\n\",","    \"\u003e Retrieve the\\n\",","    \"\u003e \u003cspan style=\\\"background: yellow\\\"\u003e\\n\",","    \"\u003e right\\n\",","    \"\u003e \u003c/span\u003e\\n\",","    \"\u003e ascension, declination, and the \u003ca href=\\\"https://en.wikipedia.org/wiki/International_Atomic_Time\\\"\u003eTAI\u003c/a\u003e at the\\n\",","    \"\u003e \u003cspan style=\\\"background: yellow\\\"\u003e\\n\",","    \"\u003e exposure's midpoint\\n\",","    \"\u003e \u003c/span\u003e\\n\",","    \"\u003e (MJD) of the observation.\"","   ]","  },","  {","   \"cell_type\": \"code\",","   \"execution_count\": null,","   \"id\": \"10af5ce9-89b6-4d6b-9a52-55c3e1c4dfa2\",","   \"metadata\": {","    \"tags\": []","   },","   \"outputs\": [],","   \"source\": [","    \"results = service.search(\\\"SELECT ra, dec, midpointMjdTai \\\"\\n\",","    \"                         \\\"FROM dp03_catalogs_10yr.DiaSource \\\"\\n\",","    \"                         \\\"WHERE ssObjectId = 6793512588511170680\\\")\\n\",","    \"df = results.to_table().to_pandas()\\n\",","    \"\\n\",","    \"df\"","   ]","  },","  {","   \"cell_type\": \"markdown\",","   \"id\": \"8985789e-a504-454d-b920-45c474e93747\",","   \"metadata\": {},","   \"source\": [","    \"### 6.4. Graficar datos sobre transitorios para un objeto de `SSObject`\\n\",","    \"\\n\",","    \"\u003e Plot\\n\",","    \"\u003e \u003cspan style=\\\"background: yellow\\\"\u003e\\n\",","    \"\u003e time-domain\\n\",","    \"\u003e \u003c/span\u003e\\n\",","    \"\u003e data for one `SSObject`\\n\",","    \"\\n\",","    \"Aquí, graficaremos las coordenadas ecuatoriales para todas las observaciones, coloreadas por la MJD de la observación.\\n\",","    \"\u003e Here, we plot the equatorial coordinates for all observations, colored by\\n\",","    \"\u003e \u003cspan style=\\\"background: yellow\\\"\u003e\\n\",","    \"\u003e the\\n\",","    \"\u003e \u003c/span\u003e\\n\",","    \"\u003e MJD of the observation.\\n\",","    \"\\n\",","    \"Este gráfico muestra la posición del objeto en el cielo, visto desde la Tierra.\\n\",","    \"Recordar de los gráficos de la Sección 5 que este objeto está aproximadamente a sólo unas 2 ua del Sol,\\n\",","    \"por lo que se encuentra en el borde interno del Cinturón Principal de Asteroides.\\n\",","    \"La paralaje de la órbita terrestre contribuye a cómo se ve este gráfico.\\n\",","    \"\\n\",","    \"\u003e This plot shows the location of the object on the sky, as seen from Earth.\\n\",","    \"\u003e Recall from the plots in Section 5 that this object is\\n\",","    \"\u003e \u003cspan style=\\\"background: yellow\\\"\u003e\\n\",","    \"\u003e only about 2 au from the Sun,\\n\",","    \"\u003e \u003c/span\u003e\\n\",","    \"\u003e and so is at the\\n\",","    \"\u003e \u003cspan style=\\\"background: yellow\\\"\u003e\\n\",","    \"\u003e inner edge of the Main Asteroid Belt\\n\",","    \"\u003e \u003c/span\u003e.\u003cspan style=\\\"background: yellow\\\"\u003e\\n\",","    \"\u003e Parallax\\n\",","    \"\u003e \u003cspan\u003e\\n\",","    \"\u003e from the Earth's orbit contributes to the appearance of this plot.\"","   ]","  },","  {","   \"cell_type\": \"code\",","   \"execution_count\": null,","   \"id\": \"064324af-f6fa-46ec-a425-036ce96af31c\",","   \"metadata\": {","    \"tags\": []","   },","   \"outputs\": [],","   \"source\": [","    \"cmap = colormaps['viridis']\\n\",","    \"fig, ax = plt.subplots(1, 1, figsize=(12, 3))\\n\",","    \"im = ax.scatter(df['ra'], df['dec'], c=df['midpointMjdTai'], cmap=cmap)\\n\",","    \"ax.set_xlabel('ra (deg)')\\n\",","    \"ax.set_ylabel('dec (deg)')\\n\",","    \"fig.suptitle(\\\"Trayectoria de un objeto SSObject en coordenadas ecuatoriales a lo largo de 10 años\\\")\\n\",","    \"fig.subplots_adjust(right=0.8)\\n\",","    \"cbar_ax = fig.add_axes([0.85, 0.15, 0.02, 0.7])\\n\",","    \"fig.colorbar(im, cax=cbar_ax, label='TAI')\\n\",","    \"ax.grid(True)\"","   ]","  },","  {","   \"cell_type\": \"markdown\",","   \"id\": \"e75a0bd3-022a-4277-934d-23e7de048602\",","   \"metadata\": {},","   \"source\": [","    \"El uso de la magnitud y el filtro de los datos obtenidos de la tabla `DiaSource` es dejado como\\n\",","    \"ejercicio en la Sección 7.\\n\",","    \"\u003e Use of the magnitude and filter data retrieved from the `DiaSource` table is left as\\n\",","    \"an exercise\\n\",","    \"\u003e \u003cspan style=\\\"background: yellow\\\"\u003e\\n\",","    \"\u003e for the learner\\n\",","    \"\u003e \u003c/span\u003e \u003cspan style=\\\"background: lightgreen\\\"\u003e\\n\",","    \"\u003e {omito para que no haya sesgo masculino}\\n\",","    \"\u003e \u003c/span\u003e\\n\",","    \"\u003e in Section 7.\"","   ]","  },","  {","   \"cell_type\": \"markdown\",","   \"id\": \"68e9e475-96e2-4f47-8164-37d3ddbf67a5\",","   \"metadata\": {","    \"tags\": []","   },","   \"source\": [","    \"## 7. Ejercicios\\n\",","    \"\\n\",","    \"\u003e Exercises\\n\",","    \"\u003e \u003cspan style=\\\"background: yellow\\\"\u003e\\n\",","    \"\u003e for the learner\\n\",","    \"\u003e \u003c/span\u003e \u003cspan style=\\\"background: lightgreen\\\"\u003e\\n\",","    \"\u003e {no se me ocurre alternativa neutra}\\n\",","    \"\u003e \u003c/span\u003e\\n\"","   ]","  },","  {","   \"cell_type\": \"markdown\",","   \"id\": \"27380304-2669-4e14-ba81-f57fd072ebd9\",","   \"metadata\": {},","   \"source\": [","    \"**1. Calcular el semieje mayor para un subconjunto de objetos.**\\n\",","    \"\\n\",","    \"\u003e **1. Calculate the\\n\",","    \"\u003e \u003cspan style=\\\"background: yellow\\\"\u003e\\n\",","    \"\u003e semi-major axis\\n\",","    \"\u003e \u003c/span\u003e\\n\",","    \"\u003e for a subset of objects.**\\n\",","    \"\\n\",","    \"El elemento orbital del semieje mayor ($a$) no está pre-computado en la tabla `MPCORB`\\n\",","    \"debido a que se puede obtener de la elipticidad de la órbita ($e$) y de la distancia al perihelio ($q$)\\n\",","    \"con $a = q/(1-e)$.\\n\",","    \"\\n\",","    \"\u003e The orbital element of semi-major axis ($a$) is not pre-computed in the `MPCORB` table\\n\",","    \"\u003e because it can be derived from the \\n\",","    \"\u003e \u003cspan style=\\\"background: yellow\\\"\u003e\\n\",","    \"\u003e orbit’s ellipticiy\\n\",","    \"\u003e \u003c/span\u003e\\n\",","    \"\u003e ($e$) and perihelion distance ($q$)\\n\",","    \"\u003e with $a = q/(1-e)$.\\n\",","    \"\\n\",","    \"Copiar la consulta de la Sección 3.3 y modificarla para obtener sólo $e$ y $q$ para un subconjunto de objetos.\\n\",","    \"Luego agregar una columna a la tabla resultante para el semieje mayor y graficar la excentricidad\\n\",","    \"versus el semieje mayor.\\n\",","    \"\u003e Copy the query from Section 3.3 and alter it to retrieve only $e$ and $q$ for a subset of objects.\\n\",","    \"\u003e Then add a column to the results table for semi-major axis and plot eccentricity \\n\",","    \"\u003e versus semi-major axis.\\n\",","    \"\\n\",","    \"Pistas:\\n\",","    \" 1. Restringir la consulta a objetos con excentricidades entre 0 y 1.\\n\",","    \" 2. `df['a'] = df['q'] / (1.0 - df['e'])`\\n\",","    \"\\n\",","    \"\u003e Hints:\\n\",","    \"\u003e 1. Restrict the query to objects with eccentricities between 0 and 1.\\n\",","    \"\u003e 2. `df['a'] = df['q'] / (1.0 - df['e'])`\"","   ]","  },","  {","   \"cell_type\": \"markdown\",","   \"id\": \"6822d11e-b160-472b-972a-cb5d16f9be5c\",","   \"metadata\": {},","   \"source\": [","    \"**2. ¿Cómo cambia la magnitud de un objeto de la tabla SSObject con el tiempo?**\\n\",","    \"\u003e **2. How does an SSObject's magnitude change with time?**\\n\",","    \"\\n\",","    \"En la Sección 6.4, no se obtuvieron la magnitud y el filtro para todas las detecciones del objeto de `SSObject` en\\n\",","    \"la tabla `DiaSource`; modificar la consulta para obtener `mag` y `band`,\\n\",","    \"y graficar la magnitud como función del tiempo para el filtro de tu elección\\n\",","    \"(recordar: no habrá magnitudes en las banda *u* o *y*).\\n\",","    \"Notar que la única causa simulada de los cambios fotométricos en los objetos de DP0.3 es la distancia a la Tierra y la curva de fase.\\n\",","    \"La corrección por distancia, y las aplicaciones de curvas de fase, se abordan en otro tutorial.\\n\",","    \"\\n\",","    \"\u003e In Section 6.4, the magnitude and filter for all detections of the `SSObject` in the\\n\",","    \"\u003e `DiaSource` table were not retrieved; alter the query to retrieve `mag` and `band`,\\n\",","    \"\u003e and plot the magnitude as a function of time for the filter of your choice\\n\",","    \"\u003e (recall: there will be no *u*- or *y*-band magnitudes).\\n\",","    \"\u003e Note that the only simulated cause of photometric changes in DP0.3 objects is the distance from Earth and the phase curve.\\n\",","    \"\u003e Correcting for distance, and the applications phase curves, are covered in another tutorial.\"","   ]","  }"," ],"," \"metadata\": {","  \"kernelspec\": {","   \"display_name\": \"LSST\",","   \"language\": \"python\",","   \"name\": \"lsst\"","  },","  \"language_info\": {","   \"codemirror_mode\": {","    \"name\": \"ipython\",","    \"version\": 3","   },","   \"file_extension\": \".py\",","   \"mimetype\": \"text/x-python\",","   \"name\": \"python\",","   \"nbconvert_exporter\": \"python\",","   \"pygments_lexer\": \"ipython3\",","   \"version\": \"3.11.7\"","  }"," },"," \"nbformat\": 4,"," \"nbformat_minor\": 5","}"],"stylingDirectives":null,"colorizedLines":null,"csv":null,"csvError":null,"dependabotInfo":{"showConfigurationBanner":false,"configFilePath":null,"networkDependabotPath":"/rubin-dp0/tutorial-notebooks/network/updates","dismissConfigurationNoticePath":"/settings/dismiss-notice/dependabot_configuration_notice","configurationNoticeDismissed":null},"displayName":"DP03_01_Introduccion_a_DP03_ES.ipynb","displayUrl":"https://notebooks.githubusercontent.com/view/ipynb?browser=unknown_browser\u0026bypass_fastly=true\u0026color_mode=auto\u0026commit=9182688346c2e65f98aa77d51d1dbcccc604c410\u0026device=unknown_device\u0026docs_host=https%3A%2F%2Fdocs.github.com\u0026enc_url=68747470733a2f2f7261772e67697468756275736572636f6e74656e742e636f6d2f727562696e2d6470302f7475746f7269616c2d6e6f7465626f6f6b732f393138323638383334366332653635663938616137376435316431646263636363363034633431302f445030335f30315f496e74726f64756363696f6e5f615f445030335f45532e6970796e62\u0026logged_in=false\u0026nwo=rubin-dp0%2Ftutorial-notebooks\u0026path=DP03_01_Introduccion_a_DP03_ES.ipynb\u0026platform=unknown_platform\u0026repository_id=369330175\u0026repository_type=Repository\u0026version=0","headerInfo":{"blobSize":"77.7 KB","deleteTooltip":"You must be signed in to make or propose changes","editTooltip":"You must be signed in to make or propose changes","ghDesktopPath":null,"isGitLfs":false,"onBranch":false,"shortPath":"bf6a17b","siteNavLoginPath":"/login?return_to=https%3A%2F%2Fgithub.com%2Frubin-dp0%2Ftutorial-notebooks%2Fblob%2F9182688346c2e65f98aa77d51d1dbcccc604c410%2FDP03_01_Introduccion_a_DP03_ES.ipynb","isCSV":false,"isRichtext":false,"toc":null,"lineInfo":{"truncatedLoc":"1867","truncatedSloc":"1867"},"mode":"file"},"image":false,"isCodeownersFile":null,"isPlain":false,"isValidLegacyIssueTemplate":false,"issueTemplate":null,"discussionTemplate":null,"language":"Jupyter Notebook","languageID":185,"large":false,"planSupportInfo":{"repoIsFork":null,"repoOwnedByCurrentUser":null,"requestFullPath":"/rubin-dp0/tutorial-notebooks/blob/9182688346c2e65f98aa77d51d1dbcccc604c410/DP03_01_Introduccion_a_DP03_ES.ipynb","showFreeOrgGatedFeatureMessage":null,"showPlanSupportBanner":null,"upgradeDataAttributes":null,"upgradePath":null},"publishBannersInfo":{"dismissActionNoticePath":"/settings/dismiss-notice/publish_action_from_dockerfile","releasePath":"/rubin-dp0/tutorial-notebooks/releases/new?marketplace=true","showPublishActionBanner":false},"rawBlobUrl":"https://github.com/rubin-dp0/tutorial-notebooks/raw/9182688346c2e65f98aa77d51d1dbcccc604c410/DP03_01_Introduccion_a_DP03_ES.ipynb","renderImageOrRaw":false,"richText":null,"renderedFileInfo":{"identityUUID":"c125d95d-18e4-4a79-9fbb-eda1ca8a5950","renderFileType":"ipynb","size":79562},"shortPath":null,"symbolsEnabled":true,"tabSize":8,"topBannersInfo":{"overridingGlobalFundingFile":false,"globalPreferredFundingPath":null,"showInvalidCitationWarning":false,"citationHelpUrl":"https://docs.github.com/github/creating-cloning-and-archiving-repositories/creating-a-repository-on-github/about-citation-files","actionsOnboardingTip":null},"truncated":false,"viewable":true,"workflowRedirectUrl":null,"symbols":{"timed_out":false,"not_analyzed":true,"symbols":[]}},"copilotInfo":null,"copilotAccessAllowed":false,"csrf_tokens":{"/rubin-dp0/tutorial-notebooks/branches":{"post":"Jp7-qT9bkJFJYyQrL6WGaeUHHfJgUzXAYzpWgFW86f-8JTySGOOI1ZO3K-fQVfMznH9E4EruUrMpd272CMZwqA"},"/repos/preferences":{"post":"McUAEDwl2THzwAL4rQP85QjnYh_HVIAVct8wlzbLWXFuUX0z2er_ZmGDnKuO-jol8Y2cJGsmqkBJia69I-Y0Dg"}}},"title":"tutorial-notebooks/DP03_01_Introduccion_a_DP03_ES.ipynb at 9182688346c2e65f98aa77d51d1dbcccc604c410 · rubin-dp0/tutorial-notebooks","appPayload":{"helpUrl":"https://docs.github.com","findFileWorkerPath":"/assets-cdn/worker/find-file-worker-1583894afd38.js","findInFileWorkerPath":"/assets-cdn/worker/find-in-file-worker-3a63a487027b.js","githubDevUrl":null,"enabled_features":{"code_nav_ui_events":false,"overview_shared_code_dropdown_button":false,"react_blob_overlay":false,"copilot_conversational_ux_embedding_update":false,"copilot_smell_icebreaker_ux":true,"copilot_workspace":false}}}</script>
  <div data-target="react-app.reactRoot"></div>
</react-app>
</turbo-frame>



  </div>

</turbo-frame>

    </main>
  </div>

  </div>

          <footer class="footer pt-8 pb-6 f6 color-fg-muted p-responsive" role="contentinfo" >
  <h2 class='sr-only'>Footer</h2>

  


  <div class="d-flex flex-justify-center flex-items-center flex-column-reverse flex-lg-row flex-wrap flex-lg-nowrap">
    <div class="d-flex flex-items-center flex-shrink-0 mx-2">
      <a aria-label="Homepage" title="GitHub" class="footer-octicon mr-2" href="https://github.com">
        <svg aria-hidden="true" height="24" viewBox="0 0 24 24" version="1.1" width="24" data-view-component="true" class="octicon octicon-mark-github">
    <path d="M12.5.75C6.146.75 1 5.896 1 12.25c0 5.089 3.292 9.387 7.863 10.91.575.101.79-.244.79-.546 0-.273-.014-1.178-.014-2.142-2.889.532-3.636-.704-3.866-1.35-.13-.331-.69-1.352-1.18-1.625-.402-.216-.977-.748-.014-.762.906-.014 1.553.834 1.769 1.179 1.035 1.74 2.688 1.25 3.349.948.1-.747.402-1.25.733-1.538-2.559-.287-5.232-1.279-5.232-5.678 0-1.25.445-2.285 1.178-3.09-.115-.288-.517-1.467.115-3.048 0 0 .963-.302 3.163 1.179.92-.259 1.897-.388 2.875-.388.977 0 1.955.13 2.875.388 2.2-1.495 3.162-1.179 3.162-1.179.633 1.581.23 2.76.115 3.048.733.805 1.179 1.825 1.179 3.09 0 4.413-2.688 5.39-5.247 5.678.417.36.776 1.05.776 2.128 0 1.538-.014 2.774-.014 3.162 0 .302.216.662.79.547C20.709 21.637 24 17.324 24 12.25 24 5.896 18.854.75 12.5.75Z"></path>
</svg>
</a>
      <span>
        &copy; 2024 GitHub,&nbsp;Inc.
      </span>
    </div>

    <nav aria-label="Footer">
      <h3 class="sr-only" id="sr-footer-heading">Footer navigation</h3>

      <ul class="list-style-none d-flex flex-justify-center flex-wrap mb-2 mb-lg-0" aria-labelledby="sr-footer-heading">

          <li class="mx-2">
            <a data-analytics-event="{&quot;category&quot;:&quot;Footer&quot;,&quot;action&quot;:&quot;go to Terms&quot;,&quot;label&quot;:&quot;text:terms&quot;}" href="https://docs.github.com/site-policy/github-terms/github-terms-of-service" data-view-component="true" class="Link--secondary Link">Terms</a>
          </li>

          <li class="mx-2">
            <a data-analytics-event="{&quot;category&quot;:&quot;Footer&quot;,&quot;action&quot;:&quot;go to privacy&quot;,&quot;label&quot;:&quot;text:privacy&quot;}" href="https://docs.github.com/site-policy/privacy-policies/github-privacy-statement" data-view-component="true" class="Link--secondary Link">Privacy</a>
          </li>

          <li class="mx-2">
            <a data-analytics-event="{&quot;category&quot;:&quot;Footer&quot;,&quot;action&quot;:&quot;go to security&quot;,&quot;label&quot;:&quot;text:security&quot;}" href="https://github.com/security" data-view-component="true" class="Link--secondary Link">Security</a>
          </li>

          <li class="mx-2">
            <a data-analytics-event="{&quot;category&quot;:&quot;Footer&quot;,&quot;action&quot;:&quot;go to status&quot;,&quot;label&quot;:&quot;text:status&quot;}" href="https://www.githubstatus.com/" data-view-component="true" class="Link--secondary Link">Status</a>
          </li>

          <li class="mx-2">
            <a data-analytics-event="{&quot;category&quot;:&quot;Footer&quot;,&quot;action&quot;:&quot;go to docs&quot;,&quot;label&quot;:&quot;text:docs&quot;}" href="https://docs.github.com/" data-view-component="true" class="Link--secondary Link">Docs</a>
          </li>

          <li class="mx-2">
            <a data-analytics-event="{&quot;category&quot;:&quot;Footer&quot;,&quot;action&quot;:&quot;go to contact&quot;,&quot;label&quot;:&quot;text:contact&quot;}" href="https://support.github.com?tags=dotcom-footer" data-view-component="true" class="Link--secondary Link">Contact</a>
          </li>

          <li class="mr-3" >
  <cookie-consent-link>
    <button
      type="button"
      class="Link--secondary underline-on-hover border-0 p-0 color-bg-transparent"
      data-action="click:cookie-consent-link#showConsentManagement"
      data-analytics-event="{&quot;location&quot;:&quot;footer&quot;,&quot;action&quot;:&quot;cookies&quot;,&quot;context&quot;:&quot;subfooter&quot;,&quot;tag&quot;:&quot;link&quot;,&quot;label&quot;:&quot;cookies_link_subfooter_footer&quot;}"
    >
      Manage cookies
    </button>
  </cookie-consent-link>
</li>

<li class="mr-3">
  <cookie-consent-link>
    <button
      type="button"
      class="Link--secondary underline-on-hover border-0 p-0 color-bg-transparent"
      data-action="click:cookie-consent-link#showConsentManagement"
      data-analytics-event="{&quot;location&quot;:&quot;footer&quot;,&quot;action&quot;:&quot;dont_share_info&quot;,&quot;context&quot;:&quot;subfooter&quot;,&quot;tag&quot;:&quot;link&quot;,&quot;label&quot;:&quot;dont_share_info_link_subfooter_footer&quot;}"
    >
      Do not share my personal information
    </button>
  </cookie-consent-link>
</li>

      </ul>
    </nav>
  </div>
</footer>




    <ghcc-consent id="ghcc" class="position-fixed bottom-0 left-0" style="z-index: 999999" data-initial-cookie-consent-allowed="" data-cookie-consent-required="false"></ghcc-consent>


  <div id="ajax-error-message" class="ajax-error-message flash flash-error" hidden>
    <svg aria-hidden="true" height="16" viewBox="0 0 16 16" version="1.1" width="16" data-view-component="true" class="octicon octicon-alert">
    <path d="M6.457 1.047c.659-1.234 2.427-1.234 3.086 0l6.082 11.378A1.75 1.75 0 0 1 14.082 15H1.918a1.75 1.75 0 0 1-1.543-2.575Zm1.763.707a.25.25 0 0 0-.44 0L1.698 13.132a.25.25 0 0 0 .22.368h12.164a.25.25 0 0 0 .22-.368Zm.53 3.996v2.5a.75.75 0 0 1-1.5 0v-2.5a.75.75 0 0 1 1.5 0ZM9 11a1 1 0 1 1-2 0 1 1 0 0 1 2 0Z"></path>
</svg>
    <button type="button" class="flash-close js-ajax-error-dismiss" aria-label="Dismiss error">
      <svg aria-hidden="true" height="16" viewBox="0 0 16 16" version="1.1" width="16" data-view-component="true" class="octicon octicon-x">
    <path d="M3.72 3.72a.75.75 0 0 1 1.06 0L8 6.94l3.22-3.22a.749.749 0 0 1 1.275.326.749.749 0 0 1-.215.734L9.06 8l3.22 3.22a.749.749 0 0 1-.326 1.275.749.749 0 0 1-.734-.215L8 9.06l-3.22 3.22a.751.751 0 0 1-1.042-.018.751.751 0 0 1-.018-1.042L6.94 8 3.72 4.78a.75.75 0 0 1 0-1.06Z"></path>
</svg>
    </button>
    You can’t perform that action at this time.
  </div>

    <template id="site-details-dialog">
  <details class="details-reset details-overlay details-overlay-dark lh-default color-fg-default hx_rsm" open>
    <summary role="button" aria-label="Close dialog"></summary>
    <details-dialog class="Box Box--overlay d-flex flex-column anim-fade-in fast hx_rsm-dialog hx_rsm-modal">
      <button class="Box-btn-octicon m-0 btn-octicon position-absolute right-0 top-0" type="button" aria-label="Close dialog" data-close-dialog>
        <svg aria-hidden="true" height="16" viewBox="0 0 16 16" version="1.1" width="16" data-view-component="true" class="octicon octicon-x">
    <path d="M3.72 3.72a.75.75 0 0 1 1.06 0L8 6.94l3.22-3.22a.749.749 0 0 1 1.275.326.749.749 0 0 1-.215.734L9.06 8l3.22 3.22a.749.749 0 0 1-.326 1.275.749.749 0 0 1-.734-.215L8 9.06l-3.22 3.22a.751.751 0 0 1-1.042-.018.751.751 0 0 1-.018-1.042L6.94 8 3.72 4.78a.75.75 0 0 1 0-1.06Z"></path>
</svg>
      </button>
      <div class="octocat-spinner my-6 js-details-dialog-spinner"></div>
    </details-dialog>
  </details>
</template>

    <div class="Popover js-hovercard-content position-absolute" style="display: none; outline: none;">
  <div class="Popover-message Popover-message--bottom-left Popover-message--large Box color-shadow-large" style="width:360px;">
  </div>
</div>

    <template id="snippet-clipboard-copy-button">
  <div class="zeroclipboard-container position-absolute right-0 top-0">
    <clipboard-copy aria-label="Copy" class="ClipboardButton btn js-clipboard-copy m-2 p-0" data-copy-feedback="Copied!" data-tooltip-direction="w">
      <svg aria-hidden="true" height="16" viewBox="0 0 16 16" version="1.1" width="16" data-view-component="true" class="octicon octicon-copy js-clipboard-copy-icon m-2">
    <path d="M0 6.75C0 5.784.784 5 1.75 5h1.5a.75.75 0 0 1 0 1.5h-1.5a.25.25 0 0 0-.25.25v7.5c0 .138.112.25.25.25h7.5a.25.25 0 0 0 .25-.25v-1.5a.75.75 0 0 1 1.5 0v1.5A1.75 1.75 0 0 1 9.25 16h-7.5A1.75 1.75 0 0 1 0 14.25Z"></path><path d="M5 1.75C5 .784 5.784 0 6.75 0h7.5C15.216 0 16 .784 16 1.75v7.5A1.75 1.75 0 0 1 14.25 11h-7.5A1.75 1.75 0 0 1 5 9.25Zm1.75-.25a.25.25 0 0 0-.25.25v7.5c0 .138.112.25.25.25h7.5a.25.25 0 0 0 .25-.25v-7.5a.25.25 0 0 0-.25-.25Z"></path>
</svg>
      <svg aria-hidden="true" height="16" viewBox="0 0 16 16" version="1.1" width="16" data-view-component="true" class="octicon octicon-check js-clipboard-check-icon color-fg-success d-none m-2">
    <path d="M13.78 4.22a.75.75 0 0 1 0 1.06l-7.25 7.25a.75.75 0 0 1-1.06 0L2.22 9.28a.751.751 0 0 1 .018-1.042.751.751 0 0 1 1.042-.018L6 10.94l6.72-6.72a.75.75 0 0 1 1.06 0Z"></path>
</svg>
    </clipboard-copy>
  </div>
</template>
<template id="snippet-clipboard-copy-button-unpositioned">
  <div class="zeroclipboard-container">
    <clipboard-copy aria-label="Copy" class="ClipboardButton btn btn-invisible js-clipboard-copy m-2 p-0 d-flex flex-justify-center flex-items-center" data-copy-feedback="Copied!" data-tooltip-direction="w">
      <svg aria-hidden="true" height="16" viewBox="0 0 16 16" version="1.1" width="16" data-view-component="true" class="octicon octicon-copy js-clipboard-copy-icon">
    <path d="M0 6.75C0 5.784.784 5 1.75 5h1.5a.75.75 0 0 1 0 1.5h-1.5a.25.25 0 0 0-.25.25v7.5c0 .138.112.25.25.25h7.5a.25.25 0 0 0 .25-.25v-1.5a.75.75 0 0 1 1.5 0v1.5A1.75 1.75 0 0 1 9.25 16h-7.5A1.75 1.75 0 0 1 0 14.25Z"></path><path d="M5 1.75C5 .784 5.784 0 6.75 0h7.5C15.216 0 16 .784 16 1.75v7.5A1.75 1.75 0 0 1 14.25 11h-7.5A1.75 1.75 0 0 1 5 9.25Zm1.75-.25a.25.25 0 0 0-.25.25v7.5c0 .138.112.25.25.25h7.5a.25.25 0 0 0 .25-.25v-7.5a.25.25 0 0 0-.25-.25Z"></path>
</svg>
      <svg aria-hidden="true" height="16" viewBox="0 0 16 16" version="1.1" width="16" data-view-component="true" class="octicon octicon-check js-clipboard-check-icon color-fg-success d-none">
    <path d="M13.78 4.22a.75.75 0 0 1 0 1.06l-7.25 7.25a.75.75 0 0 1-1.06 0L2.22 9.28a.751.751 0 0 1 .018-1.042.751.751 0 0 1 1.042-.018L6 10.94l6.72-6.72a.75.75 0 0 1 1.06 0Z"></path>
</svg>
    </clipboard-copy>
  </div>
</template>




    </div>

    <div id="js-global-screen-reader-notice" class="sr-only mt-n1" aria-live="polite" aria-atomic="true" ></div>
    <div id="js-global-screen-reader-notice-assertive" class="sr-only mt-n1" aria-live="assertive" aria-atomic="true"></div>
  </body>
</html>

