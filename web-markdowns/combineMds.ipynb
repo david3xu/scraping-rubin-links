{
 "cells": [
  {
   "cell_type": "code",
   "execution_count": 1,
   "metadata": {},
   "outputs": [
    {
     "name": "stdout",
     "output_type": "stream",
     "text": [
      "/home/david/Desktop/scraping-rubin-links/markdowns\n"
     ]
    }
   ],
   "source": [
    "!pwd"
   ]
  },
  {
   "cell_type": "code",
   "execution_count": 1,
   "metadata": {},
   "outputs": [],
   "source": [
    "import glob\n",
    "import fileinput\n",
    "import os\n",
    "\n",
    "pat = os.path.expanduser('*.md')\n",
    "with open('single-file.md', 'w') as fout:\n",
    "    for line in sorted(fileinput.input(glob.glob(pat))):\n",
    "        fout.write(line)"
   ]
  },
  {
   "cell_type": "code",
   "execution_count": 4,
   "metadata": {},
   "outputs": [
    {
     "name": "stdout",
     "output_type": "stream",
     "text": [
      "total 1516\n",
      "-rw-rw-r-- 1 david david      0 Sep  2 16:08 combineMds.ipynb\n",
      "-rw-rw-r-- 1 david david  24161 Jul 16 16:55 DP02_01_Introduction_to_DP02.md\n",
      "-rw-rw-r-- 1 david david  32548 Jul 16 16:55 DP02_02_Catalog_Queries_with_TAP.md\n",
      "-rw-rw-r-- 1 david david  29936 Jul 16 16:55 DP02_03a_Image_Display_and_Manipulation.md\n",
      "-rw-rw-r-- 1 david david  18427 Jul 16 16:55 DP02_03b_Image_Display_with_Firefly.md\n",
      "-rw-rw-r-- 1 david david  14599 Jul 16 16:55 DP02_04a_Introduction_to_the_Butler.md\n",
      "-rw-rw-r-- 1 david david  32164 Jul 16 16:56 DP02_04b_Intermediate_Butler_Queries.md\n",
      "-rw-rw-r-- 1 david david  32060 Jul 16 16:56 DP02_05_Source_Detection_and_Measurement.md\n",
      "-rw-rw-r-- 1 david david  19174 Jul 16 16:56 DP02_06a_Interactive_Image_Visualization.md\n",
      "-rw-rw-r-- 1 david david  36105 Jul 16 16:56 DP02_06b_Interactive_Catalog_Visualization.md\n",
      "-rw-rw-r-- 1 david david  44315 Jul 16 16:56 DP02_07a_DiaObject_Samples.md\n",
      "-rw-rw-r-- 1 david david  32947 Jul 16 16:56 DP02_07b_Variable_Star_Lightcurves.md\n",
      "-rw-rw-r-- 1 david david  21143 Jul 16 16:56 DP02_08_Truth_Tables.md\n",
      "-rw-rw-r-- 1 david david  32905 Jul 16 16:56 DP02_10_Deblender_Data_Products.md\n",
      "-rw-rw-r-- 1 david david  34898 Jul 16 16:56 DP02_12a_PSF_Data_Products.md\n",
      "-rw-rw-r-- 1 david david  39664 Jul 16 16:56 DP02_12b_PSF_Science_Demo.md\n",
      "-rw-rw-r-- 1 david david  42137 Jul 16 16:56 DP02_13a_Image_Cutout_SciDemo.md\n",
      "-rw-rw-r-- 1 david david  26307 Jul 16 16:56 DP02_14_Injecting_Synthetic_Sources.md\n",
      "-rw-rw-r-- 1 david david  13486 Jul 16 16:56 DP02_15_Survey_Property_Maps.md\n",
      "-rw-rw-r-- 1 david david  26409 Jul 16 16:56 DP03_01_Introduction_to_DP03.md\n",
      "-rw-rw-r-- 1 david david  27695 Jul 16 16:56 DP03_02_Main_Belt_Asteroids.md\n",
      "-rw-rw-r-- 1 david david  50606 Jul 16 16:56 DP03_03_Trans-Neptunian_Objects.md\n",
      "drwxr-xr-x 2 david david   4096 Jul 11 14:10 DP03_04a_Introduction_to_Phase_Curves_files\n",
      "-rw-rw-r-- 1 david david  32727 Jul 16 16:56 DP03_04a_Introduction_to_Phase_Curves.md\n",
      "-rw-rw-r-- 1 david david  27886 Jul 16 16:56 DP03_04b_Advanced_Phase_Curve_Modeling.md\n",
      "drwxr-xr-x 2 david david   4096 Jul 11 14:10 DP03_05_Near-Earth_Objects_files\n",
      "-rw-rw-r-- 1 david david  35093 Jul 16 16:56 DP03_05_Near-Earth_Objects.md\n",
      "-rw-rw-r-- 1 david david  21720 Jul 16 16:56 DP03_06_User_Uploaded_Tables.md\n",
      "-rw-rw-r-- 1 david david 749112 Sep  2 16:10 single-file.md\n"
     ]
    }
   ],
   "source": [
    "!ls -l"
   ]
  },
  {
   "cell_type": "code",
   "execution_count": null,
   "metadata": {},
   "outputs": [],
   "source": []
  }
 ],
 "metadata": {
  "kernelspec": {
   "display_name": ".venv",
   "language": "python",
   "name": "python3"
  },
  "language_info": {
   "codemirror_mode": {
    "name": "ipython",
    "version": 3
   },
   "file_extension": ".py",
   "mimetype": "text/x-python",
   "name": "python",
   "nbconvert_exporter": "python",
   "pygments_lexer": "ipython3",
   "version": "3.12.3"
  }
 },
 "nbformat": 4,
 "nbformat_minor": 2
}
